{
 "cells": [
  {
   "attachments": {},
   "cell_type": "markdown",
   "metadata": {},
   "source": [
    "# Dynamic wakes 2\n",
    "\n",
    "## Sequential wake propagation"
   ]
  },
  {
   "attachments": {},
   "cell_type": "markdown",
   "metadata": {},
   "source": [
    "For some applications it may be useful to run `foxes` in state-by-state mode, i.e., without the benefits of state-wise chunking. For example, when coupling it to another simulation tool that runs based on an overall outer loop over the individual states.\n",
    "\n",
    "For such cases the `Sequential` algorithm has been added, which basically is an iterator over the states. Obviously this algorithm is much slower than the `Downwind` algorithm. On the plus side, for timeseries ambient states, it has the advantage that it can be combined with local propagation of wake parcels between two subsequent time stamps. This functionality is provided by the wake frame class `SeqDynamicWakes` and does not require spatial homogeneity."
   ]
  },
  {
   "cell_type": "code",
   "execution_count": null,
   "metadata": {},
   "outputs": [],
   "source": [
    "%matplotlib inline\n",
    "import numpy as np\n",
    "import matplotlib.pyplot as plt\n",
    "plt.rcParams[\"animation.html\"] = \"jshtml\"\n",
    "\n",
    "import foxes\n",
    "import foxes.variables as FV\n",
    "import foxes.constants as FC"
   ]
  },
  {
   "attachments": {},
   "cell_type": "markdown",
   "metadata": {},
   "source": [
    "We create a case with a regular 3 x 3 wind farm layout:"
   ]
  },
  {
   "cell_type": "code",
   "execution_count": null,
   "metadata": {},
   "outputs": [],
   "source": [
    "states = foxes.input.states.Timeseries(\n",
    "    data_source=\"timeseries_3000.csv.gz\",\n",
    "    output_vars=[FV.WS, FV.WD, FV.TI, FV.RHO],\n",
    "    var2col={FV.WS: \"WS\", FV.WD: \"WD\", FV.TI: \"TI\", FV.RHO: \"RHO\"},\n",
    "    states_sel=range(230, 280),\n",
    ")\n",
    "\n",
    "farm = foxes.WindFarm()\n",
    "foxes.input.farm_layout.add_grid(\n",
    "    farm,\n",
    "    xy_base=np.array([0.0, 0.0]),\n",
    "    step_vectors=np.array([[1000.0, 0], [0, 800.0]]),\n",
    "    steps=(3, 3),\n",
    "    turbine_models=[\"DTU10MW\"],\n",
    "    verbosity=0\n",
    ")\n",
    "\n",
    "algo = foxes.algorithms.Sequential(\n",
    "    farm,\n",
    "    states,\n",
    "    rotor_model=\"centre\",\n",
    "    wake_models=[\"Bastankhah025_linear_lim_k004\"],\n",
    "    wake_frame=\"seq_dyn_wakes_1min\",\n",
    "    chunks={FC.STATE: None, FC.POINT: 5000},\n",
    "    verbosity=1\n",
    ")"
   ]
  },
  {
   "cell_type": "markdown",
   "metadata": {},
   "source": [
    "Notice that for the sake of drama, we artificially reset the time step to `1min` in the wake frame choice, more realistic would have been the choice `seq_dyn_wakes` which is based on the true time delta of the time series.\n",
    "\n",
    "Our goal in this example is the creation of an animation that shows the dynamics of the flow in a horizontal plane at hub height. With the `Sequential` algorithm we can achieve this by treating the `algo` object as a Python iterator, for example within a `for`-loop.\n",
    "\n",
    "Before doing so, we add a plugin that is evaluated whenever the iterator moves to the next state. In this case the plugin creates an image that is later on used for the animation:"
   ]
  },
  {
   "cell_type": "code",
   "execution_count": null,
   "metadata": {},
   "outputs": [],
   "source": [
    "with foxes.utils.runners.DaskRunner() as runner:\n",
    "\n",
    "    # Add a plugin to the algorithm that updates\n",
    "    # an image for an animation with every time step:\n",
    "    fig, ax = plt.subplots()\n",
    "    anigen = foxes.output.SeqFlowAnimationPlugin(\n",
    "        runner=runner,\n",
    "        orientation=\"xy\",\n",
    "        var=FV.WS,\n",
    "        resolution=20,\n",
    "        levels=None,\n",
    "        quiver_pars=dict(scale=0.008, alpha=0.5),\n",
    "        quiver_n=111,\n",
    "        xmin=-5000,\n",
    "        ymin=-5000,\n",
    "        xmax=7000,\n",
    "        ymax=7000,\n",
    "        fig=fig,\n",
    "        ax=ax,\n",
    "        vmin=0,\n",
    "        vmax=10,\n",
    "        ret_im=True,\n",
    "        title=lambda si, s: f\"t = {si:02d} min\",\n",
    "        animated=True,\n",
    "    )\n",
    "    algo.plugins.append(anigen)\n",
    "\n",
    "    # Now run all states sequentially:\n",
    "    for r in algo:\n",
    "        print(algo.index)\n",
    "\n",
    "    print(\"\\nFarm results:\\n\")\n",
    "    print(algo.farm_results)\n",
    "\n",
    "    # Create the animation:\n",
    "\n",
    "    anim = foxes.output.Animator(fig)\n",
    "    anim.add_generator(anigen.gen_images())\n",
    "    ani = anim.animate(interval=600)\n",
    "\n",
    "    lo = foxes.output.FarmLayoutOutput(farm)\n",
    "    lo.get_figure(\n",
    "        fig=fig,\n",
    "        ax=ax,\n",
    "        title=\"\",\n",
    "        annotate=1,\n",
    "        anno_delx=-120,\n",
    "        anno_dely=-60,\n",
    "        alpha=0,\n",
    "        s=10,\n",
    "    )\n",
    "\n",
    "    plt.close()\n",
    "    print(\"done.\")\n",
    "\n",
    "print(\"Creating animation\")\n",
    "ani"
   ]
  }
 ],
 "metadata": {
  "kernelspec": {
   "display_name": "foxescf",
   "language": "python",
   "name": "python3"
  },
  "language_info": {
   "codemirror_mode": {
    "name": "ipython",
    "version": 3
   },
   "file_extension": ".py",
   "mimetype": "text/x-python",
   "name": "python",
   "nbconvert_exporter": "python",
   "pygments_lexer": "ipython3",
   "version": "3.11.8"
  },
  "vscode": {
   "interpreter": {
    "hash": "49e77450ac3b792529b8ec53c4156102ea20ff425b704a19d2a6ff376cdbc220"
   }
  }
 },
 "nbformat": 4,
 "nbformat_minor": 2
}
