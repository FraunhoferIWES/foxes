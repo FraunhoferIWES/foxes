{
 "cells": [
  {
   "attachments": {},
   "cell_type": "markdown",
   "metadata": {},
   "source": [
    "# Blockage modelling 1\n",
    "\n",
    "## Wind farm blockage"
   ]
  },
  {
   "attachments": {},
   "cell_type": "markdown",
   "metadata": {},
   "source": [
    "This example shows how to use the Rankine-Half-Body model for modelling the blockage effect. We need the following imports:"
   ]
  },
  {
   "cell_type": "code",
   "execution_count": null,
   "metadata": {},
   "outputs": [],
   "source": [
    "%matplotlib inline\n",
    "import numpy as np\n",
    "import matplotlib.pyplot as plt\n",
    "\n",
    "import foxes\n",
    "import foxes.variables as FV\n",
    "import foxes.constants as FC"
   ]
  },
  {
   "attachments": {},
   "cell_type": "markdown",
   "metadata": {},
   "source": [
    "First, we setup the model book and the wind farm, here we pick 20 x 10 turbines on a regular grid:"
   ]
  },
  {
   "cell_type": "code",
   "execution_count": null,
   "metadata": {
    "scrolled": true
   },
   "outputs": [],
   "source": [
    "farm = foxes.WindFarm()\n",
    "foxes.input.farm_layout.add_grid(\n",
    "    farm=farm,\n",
    "    xy_base=[0.0, 0.0],\n",
    "    step_vectors=[[800.0, 50.0], [0., 400.0]],\n",
    "    steps=[6, 8],\n",
    "    turbine_models=[\"DTU10MW\"],\n",
    "    verbosity=0\n",
    ")\n",
    "\n",
    "ax = foxes.output.FarmLayoutOutput(farm).get_figure(figsize=(8, 4))\n",
    "plt.show()"
   ]
  },
  {
   "attachments": {},
   "cell_type": "markdown",
   "metadata": {},
   "source": [
    "As wind conditions, we choose a single wind direction state from 270 degrees:"
   ]
  },
  {
   "cell_type": "code",
   "execution_count": null,
   "metadata": {
    "scrolled": true
   },
   "outputs": [],
   "source": [
    "# create ambient wind conditions, a single uniform state:\n",
    "states = foxes.input.states.SingleStateStates(ws=8.0, wd=270.0, ti=0.04, rho=1.225)"
   ]
  },
  {
   "attachments": {},
   "cell_type": "markdown",
   "metadata": {},
   "source": [
    "For induction models, the `Iterative` algorithm should be invoked. This is due to the fact that upstream turbines can be influenced by the induction zone of a turbine, which the `Downstream` algorithm simply would not notice.\n",
    "\n",
    "By default the `Iterative` algorithm adds a smooth cutin region to the thrust coefficient curve. This behaviour can be changed by modifying the default choice of the constructor argument `mod_cutin={modify_ct=True, modify_P=False}`. Alternatively, under-relaxation of the variable `FV.CT` could by applied, e.g. by calling `aglo.set_urelax(pre_wake={FV.CT: 0.5})` before calculations. This means that for each iteration the freshly calculated value is mixed with the result from the previous iteration. Both approaches avoid wakes switching on and off repeatedly between subsequent iterations in some cases, ensuring convergence also in the vicinity of the cut-in and cut-out regions of the thrust curve. The convergence criteria can also be modified by setting the parameter `conv_crit`, see API."
   ]
  },
  {
   "cell_type": "code",
   "execution_count": null,
   "metadata": {},
   "outputs": [],
   "source": [
    "algo = foxes.algorithms.Iterative(\n",
    "    farm,\n",
    "    states,\n",
    "    rotor_model=\"centre\",\n",
    "    wake_models=[\"RHB\", \"Bastankhah025_linear_lim_k004\"],\n",
    "    wake_frame=\"rotor_wd\",\n",
    "    partial_wakes=\"grid36\",\n",
    "    verbosity=1,\n",
    ")"
   ]
  },
  {
   "attachments": {},
   "cell_type": "markdown",
   "metadata": {},
   "source": [
    "Notice the `RHB` model among the list of wake models. This is the [Rankine-Half-Body](https://www.fnc.co.uk/media/o5eosxas/a-potential-flow-model-for-wind-turbine-induction-and-wind-farm-blockage.pdf) induction model, adding an induction zone for each turbine. We can now calculate the results:"
   ]
  },
  {
   "cell_type": "code",
   "execution_count": null,
   "metadata": {},
   "outputs": [],
   "source": [
    "farm_results = algo.calc_farm()\n",
    "farm_results"
   ]
  },
  {
   "cell_type": "markdown",
   "metadata": {},
   "source": [
    "The following visualizes the flow field around the most south-westerly turbine in the wind farm:"
   ]
  },
  {
   "cell_type": "code",
   "execution_count": null,
   "metadata": {},
   "outputs": [],
   "source": [
    "o = foxes.output.FlowPlots2D(algo, farm_results)\n",
    "g = o.gen_states_fig_xy(\n",
    "    FV.WS,\n",
    "    figsize=(6, 5),\n",
    "    resolution=2,\n",
    "    xmin=-300, xmax=500,\n",
    "    ymin=-200, ymax=200,\n",
    "    levels=20,\n",
    "    quiver_n=15,\n",
    "    quiver_pars={\"scale\": 0.25, \"alpha\": 0.3}\n",
    ")\n",
    "fig = next(g)\n",
    "plt.show()"
   ]
  },
  {
   "cell_type": "markdown",
   "metadata": {},
   "source": [
    "The induction zone in front of the rotor is clearly visible. For the complete wind farm, the individual induction zones merge:"
   ]
  },
  {
   "cell_type": "code",
   "execution_count": null,
   "metadata": {},
   "outputs": [],
   "source": [
    "o = foxes.output.FlowPlots2D(algo, farm_results)\n",
    "g = o.gen_states_fig_xy(\n",
    "    FV.WS,\n",
    "    figsize=(5, 5),\n",
    "    resolution=10,\n",
    "    xspace=2000,\n",
    "    yspace=1000,\n",
    "    levels=30,\n",
    ")\n",
    "fig = next(g)\n",
    "plt.show()"
   ]
  },
  {
   "cell_type": "markdown",
   "metadata": {},
   "source": [
    "The individual contributions to the blockage zone are visible when plotting the wind speed along a straight line in y direction, at fixed x in front of the first row of turbines:"
   ]
  },
  {
   "cell_type": "code",
   "execution_count": null,
   "metadata": {},
   "outputs": [],
   "source": [
    "H = algo.mbook.turbine_types[\"DTU10MW\"].H\n",
    "n_points = 10000\n",
    "points = np.zeros((1, n_points, 3))\n",
    "points[:, :, 1] = np.linspace(-1000, 4000, n_points)[None, :]\n",
    "points[:, :, 2] = H\n",
    "\n",
    "xlist = [-500, -400, -300, -200]\n",
    "fig, ax = plt.subplots(figsize=(10, 4))\n",
    "for x in xlist:\n",
    "    points[:, :, 0] = x\n",
    "    point_results = algo.calc_points(farm_results, points)\n",
    "    ax.plot(point_results[FV.WS][0, :], points[0, :, 1], label=f\"x = {x} m\")\n",
    "ax.set_ylabel(\"y [m]\")\n",
    "ax.set_xlabel(\"Wind speed [m/s]\")\n",
    "ax.legend()\n",
    "plt.show()"
   ]
  },
  {
   "cell_type": "markdown",
   "metadata": {},
   "source": [
    "Now we investigate the effect of mirroring turbines to account for the speed up effect due to the constrictions from the ground and boundary layer. For this we create a wind farm which consists of only one turbine:"
   ]
  },
  {
   "cell_type": "code",
   "execution_count": null,
   "metadata": {},
   "outputs": [],
   "source": [
    "farm = foxes.WindFarm()\n",
    "farm.add_turbine(foxes.Turbine(xy=[0., 0.], turbine_models=[\"DTU10MW\"]))"
   ]
  },
  {
   "cell_type": "markdown",
   "metadata": {},
   "source": [
    "Here we calculate farm results for 3 scenarios using only the Rankine Half Body model:\n",
    "1) No ground effect\n",
    "2) Using the ground as mirror\n",
    "3) Using the height 500m as a mirror for the boundary layer\n",
    "\n",
    "A flow plot for each scenario is generated, along with a windspeed profile comparison."
   ]
  },
  {
   "cell_type": "code",
   "execution_count": null,
   "metadata": {},
   "outputs": [],
   "source": [
    "# set up figure\n",
    "fig, axs = plt.subplots(1, 3, figsize=(9, 3), sharex=True, sharey=True)\n",
    "ax = axs.ravel()\n",
    "vmin = states.ws * 0.5\n",
    "vmax = None\n",
    "npoints = 10000\n",
    "profile_pts = np.ndarray(shape=(npoints, 2, 3))\n",
    "\n",
    "bmodel = \"RHB\"\n",
    "mirror_combo = {\n",
    "    \"No mirror\": None,\n",
    "    \"Ground mirror\": \"ground_mirror\",\n",
    "    \"Ground and 500m mirror\": \"blh_mirror_h500\",\n",
    "}\n",
    "\n",
    "foxes.reset_engine()\n",
    "with foxes.Engine.new(\"multiprocess\", verbosity=False):\n",
    "    for i, (mirror, gmodel) in enumerate(mirror_combo.items()):\n",
    "\n",
    "        algo = foxes.algorithms.Iterative(\n",
    "            farm,\n",
    "            states,\n",
    "            rotor_model=\"centre\",\n",
    "            wake_models=[bmodel],\n",
    "            wake_frame=\"rotor_wd\",\n",
    "            partial_wakes=\"grid36\",\n",
    "            ground_models=gmodel,\n",
    "            verbosity=0,\n",
    "        )\n",
    "\n",
    "        farm_results = algo.calc_farm()\n",
    "\n",
    "        o = foxes.output.FlowPlots2D(algo, farm_results)\n",
    "        g = o.gen_states_fig_xz(\n",
    "            var=FV.WS, resolution=2, \n",
    "            fig=fig, ax=ax[i], \n",
    "            xmin=-300, xmax=500,\n",
    "            zmin=0, zmax=500,\n",
    "            levels=20, \n",
    "            vmin=vmin, vmax=vmax, \n",
    "            title=mirror,\n",
    "        )\n",
    "        fig = next(g)\n",
    "\n",
    "        # get point data for profile plot and store in df\n",
    "        points = np.zeros((1, npoints, 3))\n",
    "        points[:, :, 0] = -200\n",
    "        points[:, :, 1] = 0\n",
    "        points[:, :, 2] = np.linspace(0, 500, npoints)[None, :]\n",
    "        point_results = algo.calc_points(farm_results, points)\n",
    "        profile_pts[:, 0, i] = point_results[FV.WS].to_numpy()[0, :] # x points, WS\n",
    "        profile_pts[:, 1, i] = points[0, :, 2] #  y points, z values\n",
    "\n",
    "fig.tight_layout()\n",
    "plt.show()"
   ]
  },
  {
   "cell_type": "markdown",
   "metadata": {},
   "source": [
    "Now we plot the wind speed profile in front of the row of turbines at x=-200 and y=0. Here we observe the additional blockage effect caused by the mirrored turbines:"
   ]
  },
  {
   "cell_type": "code",
   "execution_count": null,
   "metadata": {},
   "outputs": [],
   "source": [
    "\n",
    "fig, ax = plt.subplots()\n",
    "lines = [\"-\",\"--\",\"-.\",\":\"]\n",
    "for i, mirror, in enumerate(mirror_combo):\n",
    "    ax.plot(profile_pts[:,0,i],profile_pts[:,1,i], label=mirror, linestyle=lines[i])\n",
    "ax.set_title(f'Profile comparison')\n",
    "ax.set_ylabel(\"z\")\n",
    "ax.set_xlabel(\"Wind speed [m/s]\")\n",
    "plt.legend()\n",
    "plt.show()"
   ]
  },
  {
   "cell_type": "markdown",
   "metadata": {},
   "source": [
    "While the ground mirror seems to have a noticable effect in this example, the reflection from the imagined top of the boundary layer at 500 m seems to be small at the rotor relevant heights."
   ]
  },
  {
   "cell_type": "markdown",
   "metadata": {},
   "source": [
    "Let's finish by looking at the flow in a more realistic modelling setting. As an example, we apply the `SelfSimilar2020` induction model with ground effects to a stable ambient wind speed profile, and combine this with the `Bastankhah2016` wake deficit model without ground mirroring:"
   ]
  },
  {
   "cell_type": "code",
   "execution_count": null,
   "metadata": {},
   "outputs": [],
   "source": [
    "states = foxes.input.states.SingleStateStates(\n",
    "    ws=8.0, wd=270.0, ti=0.04, rho=1.225, z0=1e-4, MOL=200, H=120,\n",
    "    profiles={FV.WS: \"ABLLogStableWsProfile\"})\n",
    "\n",
    "fig, axs = plt.subplots(2, 1, figsize=(8, 5), sharex=True, sharey=True)\n",
    "ax = axs.ravel()\n",
    "\n",
    "bmodels = {\"None\": [], \"SelfSimilar2020\": [\"SelfSimilar2020\"]}\n",
    "foxes.reset_engine()\n",
    "with foxes.Engine.new(\"multiprocess\", verbosity=0):\n",
    "    for i, (bname, wakes0) in enumerate(bmodels.items()):\n",
    "\n",
    "        algo = foxes.algorithms.Iterative(\n",
    "            farm,\n",
    "            states,\n",
    "            rotor_model=\"grid36\",\n",
    "            wake_models=wakes0 + [\"IECTI2019_quartic\", \"Bastankhah2016_linear_lim_k004\"],\n",
    "            wake_frame=\"rotor_wd\",\n",
    "            partial_wakes=\"rotor_points\",\n",
    "            ground_models={\"SelfSimilar2020\": \"ground_mirror\"},\n",
    "            verbosity=0,\n",
    "        )\n",
    "\n",
    "        farm_results = algo.calc_farm()\n",
    "\n",
    "        o = foxes.output.FlowPlots2D(algo, farm_results)\n",
    "        g = o.gen_states_fig_xz(\n",
    "            var=FV.WS, resolution=2, \n",
    "            xmin=-1000, xmax=3000,\n",
    "            zmin=0, zmax=1000,\n",
    "            levels=20, \n",
    "            fig=fig,\n",
    "            ax=ax[i],\n",
    "            title=f\"Induction: {bname}\"\n",
    "        )\n",
    "        fig = next(g)\n",
    "\n",
    "fig.tight_layout()\n",
    "plt.show()"
   ]
  }
 ],
 "metadata": {
  "kernelspec": {
   "display_name": "Python 3 (ipykernel)",
   "language": "python",
   "name": "python3"
  },
  "language_info": {
   "codemirror_mode": {
    "name": "ipython",
    "version": 3
   },
   "file_extension": ".py",
   "mimetype": "text/x-python",
   "name": "python",
   "nbconvert_exporter": "python",
   "pygments_lexer": "ipython3",
   "version": "3.12.3"
  },
  "vscode": {
   "interpreter": {
    "hash": "4fb778166dae186e4d4cfa777e9f30c32eb0bc447af40b9aef55a0c1baf561be"
   }
  }
 },
 "nbformat": 4,
 "nbformat_minor": 4
}
