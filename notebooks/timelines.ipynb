{
 "cells": [
  {
   "attachments": {},
   "cell_type": "markdown",
   "metadata": {},
   "source": [
    "# Dynamic wakes 1\n",
    "\n",
    "## Spatially homogeneous wake propagation"
   ]
  },
  {
   "attachments": {},
   "cell_type": "markdown",
   "metadata": {},
   "source": [
    "For spatially homogeneous timeseries input data, `foxes` can compute dynamic wake propagation. This in principle works by following a flow trace backwards in time for each point of interest, and identifying it with a wake trajectory if it hits a rotor.\n",
    "\n",
    "Since all `foxes` computations are based on _chunks_ of input states, this concept only works if\n",
    "\n",
    "- either all states fall into a single chunk,\n",
    "- or the `Iterative` algorithm is used for the calculation.\n",
    "\n",
    "The later is necessary in case the wake originates from a state previous to the chunk of evaluation, since the default `Downwind` algorithm does not allow cross-chunk communication during the calculation. \n",
    "\n",
    "These are the inlcudes for this example:"
   ]
  },
  {
   "cell_type": "code",
   "execution_count": null,
   "metadata": {},
   "outputs": [],
   "source": [
    "%matplotlib inline\n",
    "import numpy as np\n",
    "import matplotlib.pyplot as plt\n",
    "plt.rcParams[\"animation.html\"] = \"jshtml\"\n",
    "\n",
    "import foxes\n",
    "import foxes.variables as FV\n",
    "import foxes.constants as FC"
   ]
  },
  {
   "attachments": {},
   "cell_type": "markdown",
   "metadata": {},
   "source": [
    "We create a case with a regular 3 x 3 wind farm layout:"
   ]
  },
  {
   "cell_type": "code",
   "execution_count": null,
   "metadata": {},
   "outputs": [],
   "source": [
    "states = foxes.input.states.Timeseries(\n",
    "    data_source=\"timeseries_100.csv.gz\",\n",
    "    output_vars=[FV.WS, FV.WD, FV.TI, FV.RHO],\n",
    "    var2col={FV.WS: \"ws\", FV.WD: \"wd\", FV.TI: \"ti\"},\n",
    "    fixed_vars={FV.RHO: 1.225, FV.TI: 0.07},\n",
    ")\n",
    "\n",
    "farm = foxes.WindFarm()\n",
    "foxes.input.farm_layout.add_grid(\n",
    "    farm,\n",
    "    xy_base=np.array([0.0, 0.0]),\n",
    "    step_vectors=np.array([[1000.0, 0], [0, 800.0]]),\n",
    "    steps=(3, 3),\n",
    "    turbine_models=[\"DTU10MW\"],\n",
    "    verbosity=0\n",
    ")\n",
    "\n",
    "algo = foxes.algorithms.Iterative(\n",
    "    farm,\n",
    "    states,\n",
    "    rotor_model=\"grid25\",\n",
    "    wake_models=[\"Bastankhah2014_linear_k004\"],\n",
    "    wake_frame=\"timelines\",\n",
    "    partial_wakes=\"rotor_points\",\n",
    "    chunks={FC.STATE: 500, FC.POINT: 5000},\n",
    "    verbosity=1\n",
    ")"
   ]
  },
  {
   "attachments": {},
   "cell_type": "markdown",
   "metadata": {},
   "source": [
    "Notice the wake frame choice `timelines`, which is a pre-defined instance of the class `Timelines` from the model book.\n",
    "\n",
    "Let's run the wind farm calculation:"
   ]
  },
  {
   "cell_type": "code",
   "execution_count": null,
   "metadata": {},
   "outputs": [],
   "source": [
    "with foxes.utils.runners.DaskRunner() as runner:\n",
    "    farm_results = runner.run(algo.calc_farm)"
   ]
  },
  {
   "attachments": {},
   "cell_type": "markdown",
   "metadata": {},
   "source": [
    "Notice the iterations and the convergence behaviour. Now the farm results are ready:"
   ]
  },
  {
   "cell_type": "code",
   "execution_count": null,
   "metadata": {},
   "outputs": [],
   "source": [
    "farm_df = farm_results.to_dataframe()\n",
    "print(\"\\nFarm results data:\\n\")\n",
    "print(farm_df[[FV.AMB_REWS, FV.REWS, FV.P]])"
   ]
  },
  {
   "attachments": {},
   "cell_type": "markdown",
   "metadata": {},
   "source": [
    "This timeseries has a time step of 1 minute. Let's visualize the wake dynamics in am animation:"
   ]
  },
  {
   "cell_type": "code",
   "execution_count": null,
   "metadata": {},
   "outputs": [],
   "source": [
    "with foxes.utils.runners.DaskRunner() as runner:\n",
    "\n",
    "    fig, axs = plt.subplots(2, 1, figsize=(5.2,7), \n",
    "                            gridspec_kw={'height_ratios': [3, 1]})\n",
    "\n",
    "    anim = foxes.output.Animator(fig)\n",
    "\n",
    "    # this adds the flow anomation to the upper panel:\n",
    "    of = foxes.output.FlowPlots2D(algo, farm_results, runner=runner)\n",
    "    anim.add_generator(\n",
    "        of.gen_states_fig_xy(\n",
    "            FV.WS,\n",
    "            resolution=30,\n",
    "            quiver_pars=dict(scale=0.013),\n",
    "            quiver_n=35,\n",
    "            xmax=5000,\n",
    "            ymax=5000,\n",
    "            fig=fig,\n",
    "            ax=axs[0],\n",
    "            vmin=0,\n",
    "            vmax=6,\n",
    "            title=None,\n",
    "            ret_im=True,\n",
    "            animated=True,\n",
    "        )\n",
    "    )\n",
    "\n",
    "    # This adds the REWS signal animation to the lower panel:\n",
    "    o = foxes.output.FarmResultsEval(farm_results)\n",
    "    anim.add_generator(\n",
    "        o.gen_stdata(\n",
    "            turbines=[4, 7],\n",
    "            variable=FV.REWS,\n",
    "            fig=fig,\n",
    "            ax=axs[1],\n",
    "            ret_im=True,\n",
    "            legloc=\"upper left\",\n",
    "            animated=True,\n",
    "        )\n",
    "    )\n",
    "\n",
    "    # This adds turbine indices at turbine positions:\n",
    "    lo = foxes.output.FarmLayoutOutput(farm)\n",
    "    lo.get_figure(\n",
    "        fig=fig,\n",
    "        ax=axs[0],\n",
    "        title=\"\",\n",
    "        annotate=1,\n",
    "        anno_delx=-120,\n",
    "        anno_dely=-60,\n",
    "        alpha=0,\n",
    "    )\n",
    "    \n",
    "    ani = anim.animate()\n",
    "    plt.close()\n",
    "    print(\"done.\")\n",
    "\n",
    "print(\"Creating animation\")\n",
    "ani"
   ]
  },
  {
   "attachments": {},
   "cell_type": "markdown",
   "metadata": {},
   "source": [
    "For the fun of it, let's re-run this case assuming the time step was 10 s instead of 1 min. We can do so by using the wake frame `Timelines(dt_min=1/6)`, which is called `timelines_10s` in the model book:"
   ]
  },
  {
   "cell_type": "code",
   "execution_count": null,
   "metadata": {},
   "outputs": [],
   "source": [
    "algo.finalize(clear_mem=True)\n",
    "\n",
    "algo = foxes.algorithms.Iterative(\n",
    "    farm,\n",
    "    states,\n",
    "    rotor_model=\"grid25\",\n",
    "    wake_models=[\"Bastankhah2014_linear_k004\"],\n",
    "    wake_frame=\"timelines_10s\",\n",
    "    partial_wakes=\"rotor_points\",\n",
    "    chunks={FC.STATE: 500, FC.POINT: 5000},\n",
    "    verbosity=1\n",
    ")\n",
    "\n",
    "with foxes.utils.runners.DaskRunner() as runner:\n",
    "    \n",
    "    farm_results = runner.run(algo.calc_farm)\n",
    "\n",
    "    fig, axs = plt.subplots(2, 1, figsize=(5.2,7), \n",
    "                            gridspec_kw={'height_ratios': [3, 1]})\n",
    "\n",
    "    anim = foxes.output.Animator(fig)\n",
    "\n",
    "    # this adds the flow anomation to the upper panel:\n",
    "    of = foxes.output.FlowPlots2D(algo, farm_results, runner=runner)\n",
    "    anim.add_generator(\n",
    "        of.gen_states_fig_xy(\n",
    "            FV.WS,\n",
    "            resolution=30,\n",
    "            quiver_pars=dict(scale=0.013),\n",
    "            quiver_n=35,\n",
    "            xmax=5000,\n",
    "            ymax=5000,\n",
    "            fig=fig,\n",
    "            ax=axs[0],\n",
    "            vmin=0,\n",
    "            vmax=6,\n",
    "            title=lambda si, s: f\"t = {si/6:3.2f} min\",\n",
    "            ret_im=True,\n",
    "            animated=True,\n",
    "        )\n",
    "    )\n",
    "\n",
    "    # This adds the REWS signal animation to the lower panel:\n",
    "    o = foxes.output.FarmResultsEval(farm_results)\n",
    "    anim.add_generator(\n",
    "        o.gen_stdata(\n",
    "            turbines=[4, 7],\n",
    "            variable=FV.REWS,\n",
    "            fig=fig,\n",
    "            ax=axs[1],\n",
    "            ret_im=True,\n",
    "            legloc=\"upper left\",\n",
    "            animated=True,\n",
    "        )\n",
    "    )\n",
    "\n",
    "    # This adds turbine indices at turbine positions:\n",
    "    lo = foxes.output.FarmLayoutOutput(farm)\n",
    "    lo.get_figure(\n",
    "        fig=fig,\n",
    "        ax=axs[0],\n",
    "        title=\"\",\n",
    "        annotate=1,\n",
    "        anno_delx=-120,\n",
    "        anno_dely=-60,\n",
    "        alpha=0,\n",
    "    )\n",
    "    \n",
    "    ani = anim.animate()\n",
    "    plt.close()\n",
    "    print(\"done.\")\n",
    "\n",
    "print(\"Creating animation\")\n",
    "ani"
   ]
  }
 ],
 "metadata": {
  "kernelspec": {
   "display_name": "foxescf",
   "language": "python",
   "name": "python3"
  },
  "language_info": {
   "codemirror_mode": {
    "name": "ipython",
    "version": 3
   },
   "file_extension": ".py",
   "mimetype": "text/x-python",
   "name": "python",
   "nbconvert_exporter": "python",
   "pygments_lexer": "ipython3",
   "version": "3.11.8"
  },
  "vscode": {
   "interpreter": {
    "hash": "49e77450ac3b792529b8ec53c4156102ea20ff425b704a19d2a6ff376cdbc220"
   }
  }
 },
 "nbformat": 4,
 "nbformat_minor": 2
}
