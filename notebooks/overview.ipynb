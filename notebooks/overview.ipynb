{
 "cells": [
  {
   "attachments": {},
   "cell_type": "markdown",
   "metadata": {},
   "source": [
    "# Overview - how to setup foxes"
   ]
  },
  {
   "attachments": {},
   "cell_type": "markdown",
   "metadata": {},
   "source": [
    "Running a wind farm simulation with `foxes` requires the following steps, usually reflected in a Python script or notebook:\n",
    "\n",
    "1. Create the so-called `model book`, which contains all selectable models\n",
    "2. Create ambient meteorological conditions, called `states` in `foxes` terminology\n",
    "3. Create the `wind farm`, collecting all turbine information\n",
    "4. Create the `algorithm` with its parameters and model choices\n",
    "5. Run the farm calculation via the algorithm\n",
    "6. Optionally evaluate the flow field at arbitrary points of interest, also via the algorithm\n",
    "7. Post-process the results, for example using the `foxes.output` package\n",
    "\n",
    "The details will become clear in the subsequent examples within this section."
   ]
  },
  {
   "attachments": {},
   "cell_type": "markdown",
   "metadata": {},
   "source": [
    "Any `foxes` run relies on a number of model choices by the user:\n",
    "\n",
    "- The `rotor model`: Evaluates the flow field at the rotor and computes ambient rotor equivalent quantities, for example the rotor averaged background wind speed.\n",
    "- The `Turbine type model`: Defines rotor diameter, hub height, and provides thrust coefficient and power yield depending on rotor equivalent quantities. \n",
    "- The `wake frame`: Determines the wake propagation, for example parallel to the wind direction at the rotor or along a streamline, and the local coordinate system along the centreline of the wake.\n",
    "- The `wake models`: Compute wake deltas for flow quantities in the wake. Wind speed deficits and turbulence intensity deltas are often computed by two separate wake models, but could also stem from a single model. Wake superposition is part of the responsibility of the wake model, hence the implemented model approach supports collective wake modelling.\n",
    "- The `partial wakes model`: Evaluates rotor disc averages of wake effects, i.e., the partial wakes model computes the rotor effective wake effect. \n",
    "- The `turbine models`: Each wind turbine within the wind farm can have individual turbine model choices. For each state and turbine, those compute data from currently existing data. For example, depending on the rotor effective wind speed and wind direction, a turbine model might correct the power and thrust coefficients that were provided by the turbine type model (wind sector management).\n",
    "- The optional `point models`: They calculate point-based data, like those from the ambient input states. For example, if WRF based input data provides a time series of turbulent kinetic energy (TKE) this can be translated into turbulence intensity (TI) by a point model, as required by other models in `foxes`."
   ]
  },
  {
   "attachments": {},
   "cell_type": "markdown",
   "metadata": {},
   "source": [
    "Have a look at the provided examples, where you can see some of the models in action!"
   ]
  }
 ],
 "metadata": {
  "kernelspec": {
   "display_name": "foxescf",
   "language": "python",
   "name": "python3"
  },
  "language_info": {
   "name": "python",
   "version": "3.10.8 | packaged by conda-forge | (main, Nov 22 2022, 08:26:04) [GCC 10.4.0]"
  },
  "orig_nbformat": 4,
  "vscode": {
   "interpreter": {
    "hash": "49e77450ac3b792529b8ec53c4156102ea20ff425b704a19d2a6ff376cdbc220"
   }
  }
 },
 "nbformat": 4,
 "nbformat_minor": 2
}
