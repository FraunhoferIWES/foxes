{
 "cells": [
  {
   "cell_type": "markdown",
   "metadata": {},
   "source": [
    "# Layout optimization"
   ]
  },
  {
   "cell_type": "markdown",
   "metadata": {},
   "source": [
    "This example demonstrates some basics about running wind farm optimization tasks with `foxes`. All optimizations use the [iwopy](https://github.com/FraunhoferIWES/iwopy) interface in the background (also by Fraunhofer IWES, see link for details). Let's first make sure this and other required packages are installed, as a standard user by \n",
    "```console\n",
    "pip install foxes[opt]\n",
    "pip install pymoo\n",
    "```\n",
    "Note that if you have installed `foxes` as a developer you may replace the first line by `pip install iwopy`. The second line installs the optimization library [pymoo](https://pymoo.org/) which contains a number of very nice genetic algorithm implementations. We are installing this here because we are going to ask `iwopy` to use one of them later on.\n",
    "\n",
    "These are the required imports for this example:"
   ]
  },
  {
   "cell_type": "code",
   "execution_count": null,
   "metadata": {},
   "outputs": [],
   "source": [
    "import numpy as np\n",
    "import matplotlib.pyplot as plt\n",
    "from plotly.offline import iplot\n",
    "\n",
    "import foxes\n",
    "import foxes.variables as FV\n",
    "import foxes.utils.geom2d as gm"
   ]
  },
  {
   "cell_type": "markdown",
   "metadata": {},
   "source": [
    "In the following we are tackling the problem of optimizing a wind farm layout for a site near Bremen, Germany. The data of a (coarse) wind rose with 216 states is provided as static data file with name `\"wind_rose_bremen.csv\"`:\n",
    "```\n",
    "state,wd,ws,weight\n",
    "0,0.0,3.5,0.00158\n",
    "1,0.0,6.0,0.00244\n",
    "2,0.0,8.5,0.00319\n",
    "3,0.0,12.5,0.0036700002\n",
    "4,0.0,17.5,0.00042\n",
    "...\n",
    "```\n",
    "First, let's create the states object and have a look at the wind rose:"
   ]
  },
  {
   "cell_type": "code",
   "execution_count": null,
   "metadata": {},
   "outputs": [],
   "source": [
    "states = foxes.input.states.StatesTable(\n",
    "    data_source=\"wind_rose_bremen.csv\",\n",
    "    output_vars=[FV.WS, FV.WD, FV.TI, FV.RHO],\n",
    "    var2col={FV.WS: \"ws\", FV.WD: \"wd\", FV.WEIGHT: \"weight\"},\n",
    "    fixed_vars={FV.RHO: 1.225, FV.TI: 0.05},\n",
    ")\n",
    "\n",
    "o = foxes.output.AmbientRosePlotOutput(states, point=[0., 0., 100.])\n",
    "fig = o.get_figure(16, FV.AMB_WS, [0, 3.5, 6, 10, 15, 20])\n",
    "iplot(fig)"
   ]
  },
  {
   "cell_type": "markdown",
   "metadata": {},
   "source": [
    "Next, we need to specify the area within which the turbines are allowed to move during optimization. We use the `foxes.utils.geom2d` sub-package for that purpose (imported as `gm`, see above) which allows us to add and subtract polygons, circles, etc."
   ]
  },
  {
   "cell_type": "code",
   "execution_count": null,
   "metadata": {},
   "outputs": [],
   "source": [
    "boundary = \\\n",
    "    gm.ClosedPolygon(np.array(\n",
    "    [[0, 0], [0, 1200], [1000, 800], [900, -200]], dtype=np.float64)) \\\n",
    "    + gm.ClosedPolygon(np.array(\n",
    "    [[500, 0], [500, 1500], [1000, 1500], [1000, 0]], dtype=np.float64)) \\\n",
    "    - gm.Circle([-100., -100.], 700)\n",
    "\n",
    "fig, ax = plt.subplots(figsize=(5, 8))\n",
    "boundary.add_to_figure(ax)\n",
    "plt.show()"
   ]
  },
  {
   "cell_type": "markdown",
   "metadata": {},
   "source": [
    "Later on we wish to apply boundary constraints that make sure all turbines are placed within this area geometry. These conditions make use of the minimal distance calculation from each point in question to the boundary. We can check the results by plotting again, now using the `fill_mode` option:"
   ]
  },
  {
   "cell_type": "code",
   "execution_count": null,
   "metadata": {},
   "outputs": [],
   "source": [
    "fig, axs = plt.subplots(1, 2, figsize=(14, 8))\n",
    "boundary.add_to_figure(axs[0], fill_mode=\"dist_inside\")\n",
    "boundary.add_to_figure(axs[1], fill_mode=\"dist_outside\")\n",
    "plt.show()"
   ]
  },
  {
   "cell_type": "markdown",
   "metadata": {},
   "source": []
  }
 ],
 "metadata": {
  "kernelspec": {
   "display_name": "Python 3.8.10 ('foxes')",
   "language": "python",
   "name": "python3"
  },
  "language_info": {
   "codemirror_mode": {
    "name": "ipython",
    "version": 3
   },
   "file_extension": ".py",
   "mimetype": "text/x-python",
   "name": "python",
   "nbconvert_exporter": "python",
   "pygments_lexer": "ipython3",
   "version": "3.8.10"
  },
  "orig_nbformat": 4,
  "vscode": {
   "interpreter": {
    "hash": "bf4a074b666afd0c34fcf4a3f6dfe4d0dd717bc317d9d9cf4935c66389b29031"
   }
  }
 },
 "nbformat": 4,
 "nbformat_minor": 2
}
