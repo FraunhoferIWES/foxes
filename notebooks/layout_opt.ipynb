{
 "cells": [
  {
   "cell_type": "markdown",
   "metadata": {},
   "source": [
    "# Layout optimization"
   ]
  },
  {
   "cell_type": "markdown",
   "metadata": {},
   "source": [
    "This example demonstrates some basics about running wind farm optimization tasks with `foxes`. All optimizations use the [iwopy](https://github.com/FraunhoferIWES/iwopy) interface in the background (also by Fraunhofer IWES, see link for details). Let's first make sure this and other required packages are installed, as a standard user by \n",
    "```console\n",
    "pip install foxes[opt]\n",
    "pip install pymoo\n",
    "```\n",
    "Note that if you have installed `foxes` as a developer you may replace the first line by `pip install iwopy`. The second line installs the optimization library [pymoo](https://pymoo.org/) which contains a number of very nice genetic algorithm implementations. We are installing this here because we are going to ask `iwopy` to use one of them later on.\n",
    "\n",
    "These are the required imports for this example:"
   ]
  },
  {
   "cell_type": "code",
   "execution_count": null,
   "metadata": {},
   "outputs": [],
   "source": [
    "import foxes\n",
    "import foxes.variables as FV"
   ]
  }
 ],
 "metadata": {
  "kernelspec": {
   "display_name": "Python 3.8.10 ('foxes')",
   "language": "python",
   "name": "python3"
  },
  "language_info": {
   "codemirror_mode": {
    "name": "ipython",
    "version": 3
   },
   "file_extension": ".py",
   "mimetype": "text/x-python",
   "name": "python",
   "nbconvert_exporter": "python",
   "pygments_lexer": "ipython3",
   "version": "3.8.10"
  },
  "orig_nbformat": 4,
  "vscode": {
   "interpreter": {
    "hash": "bf4a074b666afd0c34fcf4a3f6dfe4d0dd717bc317d9d9cf4935c66389b29031"
   }
  }
 },
 "nbformat": 4,
 "nbformat_minor": 2
}
