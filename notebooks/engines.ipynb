{
 "cells": [
  {
   "cell_type": "markdown",
   "metadata": {},
   "source": [
    "# Parallelization engines"
   ]
  },
  {
   "cell_type": "markdown",
   "metadata": {},
   "source": [
    "Even for large cases _foxes_ calculations are fast, thanks to\n",
    "\n",
    "- **Vectorization:** The states (and also the points, in the case of data calculation at evaluation points) are split into so-called _chunks_, which are sub-arrays of the large original data.\n",
    "- **Parallelization:** These chunks are being sent to individual processes for calculation. Those calculations can be carried out simultaneously, i.e., _in parallel_.  \n",
    "\n",
    "Vectorization and parallelization are managed by so-called _engines_ in _foxes_. If you do not explicitly specify the engine, a default will be chosen. This means that even if you do not know or care about _foxes_ engines, your calculations will be vectorized and parallelized.\n",
    "\n",
    "Let's first explore this default before moving on to the full range of options."
   ]
  },
  {
   "cell_type": "markdown",
   "metadata": {},
   "source": [
    "## Default engine"
   ]
  },
  {
   "cell_type": "markdown",
   "metadata": {},
   "source": [
    "Let's start by importing _foxes_ and other required packages:"
   ]
  },
  {
   "cell_type": "code",
   "execution_count": null,
   "metadata": {},
   "outputs": [],
   "source": [
    "import matplotlib.pyplot as plt\n",
    "\n",
    "import foxes\n",
    "import foxes.variables as FV"
   ]
  },
  {
   "cell_type": "markdown",
   "metadata": {},
   "source": [
    "Next, we create a random wind farm and a random time series:"
   ]
  },
  {
   "cell_type": "code",
   "execution_count": null,
   "metadata": {},
   "outputs": [],
   "source": [
    "n_times = 10000\n",
    "n_turbines = 100\n",
    "seed = 42\n",
    "\n",
    "sdata = foxes.input.states.create.random_timseries_data(\n",
    "    n_times, seed=seed,\n",
    ")\n",
    "states = foxes.input.states.Timeseries(\n",
    "    data_source=sdata,\n",
    "    output_vars=[FV.WS, FV.WD, FV.TI, FV.RHO],\n",
    "    fixed_vars={FV.RHO: 1.225, FV.TI: 0.02},\n",
    ")\n",
    "\n",
    "farm = foxes.WindFarm()\n",
    "foxes.input.farm_layout.add_random(\n",
    "    farm,\n",
    "    n_turbines,\n",
    "    min_dist=500,\n",
    "    turbine_models=[\"DTU10MW\"],\n",
    "    seed=seed,\n",
    "    verbosity=0\n",
    ")"
   ]
  },
  {
   "cell_type": "code",
   "execution_count": null,
   "metadata": {},
   "outputs": [],
   "source": [
    "sdata"
   ]
  },
  {
   "cell_type": "code",
   "execution_count": null,
   "metadata": {},
   "outputs": [],
   "source": [
    "foxes.output.FarmLayoutOutput(farm).get_figure(figsize=(6,6))\n",
    "plt.show()"
   ]
  },
  {
   "cell_type": "markdown",
   "metadata": {},
   "source": [
    "You can run the wind farm calculations by simply creating an algorithm and calling _farm\\_calc_:"
   ]
  },
  {
   "cell_type": "code",
   "execution_count": null,
   "metadata": {},
   "outputs": [],
   "source": [
    "algo = foxes.algorithms.Downwind(\n",
    "    farm,\n",
    "    states,\n",
    "    rotor_model=\"centre\",\n",
    "    wake_models=[\"Bastankhah2014_linear_k004\"],\n",
    "    verbosity=1,\n",
    ")"
   ]
  },
  {
   "cell_type": "code",
   "execution_count": null,
   "metadata": {},
   "outputs": [],
   "source": [
    "farm_results = algo.calc_farm()\n",
    "farm_results"
   ]
  },
  {
   "cell_type": "markdown",
   "metadata": {},
   "source": [
    "During the very first calculation, the algorithm checks if an engine is already up and running. If not, the default engine is created. We can check the currently active engine by the following function:"
   ]
  },
  {
   "cell_type": "code",
   "execution_count": null,
   "metadata": {},
   "outputs": [],
   "source": [
    "foxes.get_engine()"
   ]
  },
  {
   "cell_type": "markdown",
   "metadata": {},
   "source": [
    "This shows that the default choice is the _MultiprocessEngine_. Note that the parameter choice _chunk\\_size_states=None_ represents a default choice for the states chunking by the engine, and does not mean that there is no chunking in that dimension."
   ]
  },
  {
   "cell_type": "markdown",
   "metadata": {},
   "source": [
    "We can reset the engine by"
   ]
  },
  {
   "cell_type": "code",
   "execution_count": null,
   "metadata": {},
   "outputs": [],
   "source": [
    "foxes.reset_engine()"
   ]
  },
  {
   "cell_type": "markdown",
   "metadata": {},
   "source": [
    "such that no engine is active afterwards:"
   ]
  },
  {
   "cell_type": "code",
   "execution_count": null,
   "metadata": {},
   "outputs": [],
   "source": [
    "print(foxes.get_engine(error=False, default=False))"
   ]
  },
  {
   "cell_type": "markdown",
   "metadata": {},
   "source": [
    "## Available engines"
   ]
  },
  {
   "cell_type": "markdown",
   "metadata": {},
   "source": [
    "These are the currently available engines:\n",
    "\n",
    "| Short name    | Class name         | Base package | Description                        |\n",
    "|---------------|--------------------|--------------|------------------------------------| \n",
    "| multiprocess  | MultiprocessEngine | [multiprocess](https://github.com/uqfoundation/multiprocess) |  Runs on a workstation/laptop, using multi-processing |\n",
    "| dask          | DaskEngine         | [dask](https://www.dask.org/) | Runs on a workstation/laptop, using processes or threads |\n",
    "| xarray        | XArrayEngine       | [xarray](https://docs.xarray.dev/en/stable/) | Runs on a workstation/laptop, involving [dask](https://www.dask.org/) through [apply_ufunc](https://docs.xarray.dev/en/stable/generated/xarray.apply_ufunc.html)|\n",
    "| local_cluster | LocalClusterEngine | [distributed](https://distributed.dask.org/en/stable/) | Runs on a workstation/laptop, creates a virtual local cluster |\n",
    "| slurm_cluster | SlurmClusterEngine | [dask_jobqueue](https://jobqueue.dask.org/en/latest/generated/dask_jobqueue.SLURMCluster.html) | Runs on a multi-node HPC cluster which is using SLURM |\n",
    "| numpy         | NumpyEngine        | [numpy](https://numpy.org/) | Runs as a single chunk, without parallelization |"
   ]
  },
  {
   "cell_type": "markdown",
   "metadata": {},
   "source": [
    "There are two ways how to select a non-default engine and set all its parameters, as we will explore in the following two sections. "
   ]
  },
  {
   "cell_type": "markdown",
   "metadata": {},
   "source": [
    "## Engine selection through the algorithm"
   ]
  },
  {
   "cell_type": "markdown",
   "metadata": {},
   "source": [
    "If you are using one algorithm for all calculations, you can select the engine directly via the algorithm's constructor. Make sure the algorithm is created at the beginning of your script, in particular before creating images, since those might launch the default engine otherwise."
   ]
  },
  {
   "cell_type": "code",
   "execution_count": null,
   "metadata": {},
   "outputs": [],
   "source": [
    "algo = foxes.algorithms.Downwind(\n",
    "    farm,\n",
    "    states,\n",
    "    rotor_model=\"centre\",\n",
    "    wake_models=[\"Bastankhah2014_linear_k004\"],\n",
    "    verbosity=0,\n",
    "    engine=\"dask\",\n",
    "    n_procs=None,\n",
    "    chunk_size_states=2000,\n",
    "    chunk_size_points=4000,\n",
    ")"
   ]
  },
  {
   "cell_type": "markdown",
   "metadata": {},
   "source": [
    "Here the _DaskEngine_ class was selected, with default _n\\_procs_ and a user choice of chunk sizes. Notice that the short name from the above table can be used instead of the full class name (which, however, would also work).\n",
    "\n",
    "For the complete list of constructor arguments of each of the engine classes, please check the API section _foxes.engines_. Any argument of the engine constructor can directly be added to the constructor of the algorithm, and will then be passed on.\n",
    "\n",
    "Let's re-run the calculation using the above selected engine:"
   ]
  },
  {
   "cell_type": "code",
   "execution_count": null,
   "metadata": {},
   "outputs": [],
   "source": [
    "farm_results = algo.calc_farm()"
   ]
  },
  {
   "cell_type": "markdown",
   "metadata": {},
   "source": [
    "We can always check the current engine, and reset it if desired:"
   ]
  },
  {
   "cell_type": "code",
   "execution_count": null,
   "metadata": {},
   "outputs": [],
   "source": [
    "foxes.get_engine()"
   ]
  },
  {
   "cell_type": "code",
   "execution_count": null,
   "metadata": {},
   "outputs": [],
   "source": [
    "foxes.reset_engine()\n",
    "print(foxes.get_engine(error=False, default=None))"
   ]
  },
  {
   "cell_type": "markdown",
   "metadata": {},
   "source": [
    "## Engine selection through a with-block"
   ]
  },
  {
   "cell_type": "markdown",
   "metadata": {},
   "source": [
    "For longer, more involved scripts that for example create several images, or create several algorithm instances (for example in a loop), it is recommended to use a _with_ block for creating the engine.\n",
    "\n",
    "This also increases the readability concerning the engine choice.\n",
    "\n",
    "For cluster based engines, the _with_ block is always preferred over the algorithm based engine specification, since it ensure the propper shutdown of the cluster connection.\n",
    "\n",
    "The syntax is straight forward. First, we re-create the algorithm, this time without engine specification:"
   ]
  },
  {
   "cell_type": "code",
   "execution_count": null,
   "metadata": {},
   "outputs": [],
   "source": [
    "algo = foxes.algorithms.Downwind(\n",
    "    farm,\n",
    "    states,\n",
    "    rotor_model=\"centre\",\n",
    "    wake_models=[\"Bastankhah2014_linear_k004\"],\n",
    "    verbosity=0,\n",
    ")"
   ]
  },
  {
   "cell_type": "markdown",
   "metadata": {},
   "source": [
    "Now we can do all the work within the engine _with_ block:"
   ]
  },
  {
   "cell_type": "code",
   "execution_count": null,
   "metadata": {},
   "outputs": [],
   "source": [
    "with foxes.Engine.new(\n",
    "    \"local_cluster\",\n",
    "    n_procs=4,\n",
    "    chunk_size_states=2000,\n",
    "    chunk_size_points=10000\n",
    "):\n",
    "    farm_results = algo.calc_farm()\n",
    "    \n",
    "    o = foxes.output.FlowPlots2D(algo, farm_results)\n",
    "    next(o.gen_states_fig_xy(FV.WS, resolution=30, figsize=(6, 6), states_isel=[0]))\n",
    "    plt.show()"
   ]
  },
  {
   "cell_type": "markdown",
   "metadata": {},
   "source": [
    "Notice the _Dashboard_ link which displays the progress and cluster load during the execution. \n",
    "\n",
    "After the computation the engine is not set, as expected:"
   ]
  },
  {
   "cell_type": "code",
   "execution_count": null,
   "metadata": {},
   "outputs": [],
   "source": [
    "print(foxes.get_engine(error=False, default=False))"
   ]
  }
 ],
 "metadata": {
  "kernelspec": {
   "display_name": "foxes",
   "language": "python",
   "name": "python3"
  },
  "language_info": {
   "codemirror_mode": {
    "name": "ipython",
    "version": 3
   },
   "file_extension": ".py",
   "mimetype": "text/x-python",
   "name": "python",
   "nbconvert_exporter": "python",
   "pygments_lexer": "ipython3",
   "version": "3.11.9"
  }
 },
 "nbformat": 4,
 "nbformat_minor": 2
}
