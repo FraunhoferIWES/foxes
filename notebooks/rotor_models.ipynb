{
 "cells": [
  {
   "cell_type": "markdown",
   "metadata": {},
   "source": [
    "# Rotor model visualizations"
   ]
  },
  {
   "cell_type": "markdown",
   "metadata": {},
   "source": [
    "Rotor models are responsible for averaging ambient background quantities over the rotor disc, yielding rotor equivalent ambient results.\n",
    "\n",
    "Note that in _foxes_ wake effects are averaged by _partial wakes_ models, not by rotor models."
   ]
  },
  {
   "cell_type": "code",
   "execution_count": null,
   "metadata": {},
   "outputs": [],
   "source": [
    "import foxes\n",
    "import matplotlib.pyplot as plt\n",
    "\n",
    "mbook = foxes.ModelBook()"
   ]
  },
  {
   "cell_type": "markdown",
   "metadata": {},
   "source": [
    "## CentreRotor"
   ]
  },
  {
   "cell_type": "markdown",
   "metadata": {},
   "source": [
    "The simplest rotor model consists of a single point located at the rotor centre. For spatially uniform ambient states, that's all you need - but beware of chosing this as a partial wakes model, since for wakes rotor averaging is always crucial."
   ]
  },
  {
   "cell_type": "code",
   "execution_count": null,
   "metadata": {},
   "outputs": [],
   "source": [
    "o = foxes.output.RotorPointPlot(mbook.rotor_models[\"centre\"])\n",
    "ax = o.get_point_figure()\n",
    "plt.show()"
   ]
  },
  {
   "cell_type": "markdown",
   "metadata": {},
   "source": [
    "## GridRotor"
   ]
  },
  {
   "cell_type": "markdown",
   "metadata": {},
   "source": [
    "Grid rotors are based on regular two dimensional grids with non-uniform weights. The weights represent the overlap of the area element that is associated with each rotor point and the rotor disc.\n",
    "\n",
    "Concrete grid rotors with `N x N` points can be constructed as `GridRotor(n=N)`. Note that points with zero weights will be removed from the point list. These models are available in the default model book under the name template `grid<n2>`, where `n2` represents `N x N`.\n",
    "\n",
    "If you prefer to switch off the weights, i.e., use equal weights for all points of the regular grid, simply set `reduce=False` as an argument of the constructor. Such models are available in the default model book under the name template `grid<n2>_raw`, where `n2` represents `N x N`."
   ]
  },
  {
   "cell_type": "markdown",
   "metadata": {},
   "source": [
    "### grid4"
   ]
  },
  {
   "cell_type": "code",
   "execution_count": null,
   "metadata": {},
   "outputs": [],
   "source": [
    "o = foxes.output.RotorPointPlot(mbook.rotor_models[\"grid4\"])\n",
    "ax = o.get_point_figure()\n",
    "plt.show()"
   ]
  },
  {
   "cell_type": "markdown",
   "metadata": {},
   "source": [
    "### grid9"
   ]
  },
  {
   "cell_type": "code",
   "execution_count": null,
   "metadata": {},
   "outputs": [],
   "source": [
    "o = foxes.output.RotorPointPlot(mbook.rotor_models[\"grid9\"])\n",
    "ax = o.get_point_figure()\n",
    "plt.show()"
   ]
  },
  {
   "cell_type": "markdown",
   "metadata": {},
   "source": [
    "### grid16"
   ]
  },
  {
   "cell_type": "code",
   "execution_count": null,
   "metadata": {},
   "outputs": [],
   "source": [
    "o = foxes.output.RotorPointPlot(mbook.rotor_models[\"grid16\"])\n",
    "ax = o.get_point_figure()\n",
    "plt.show()"
   ]
  },
  {
   "cell_type": "markdown",
   "metadata": {},
   "source": [
    "### grid25"
   ]
  },
  {
   "cell_type": "code",
   "execution_count": null,
   "metadata": {},
   "outputs": [],
   "source": [
    "o = foxes.output.RotorPointPlot(mbook.rotor_models[\"grid25\"])\n",
    "ax = o.get_point_figure()\n",
    "plt.show()"
   ]
  },
  {
   "cell_type": "markdown",
   "metadata": {},
   "source": [
    "### grid25_raw"
   ]
  },
  {
   "cell_type": "code",
   "execution_count": null,
   "metadata": {},
   "outputs": [],
   "source": [
    "o = foxes.output.RotorPointPlot(mbook.rotor_models[\"grid25_raw\"])\n",
    "ax = o.get_point_figure()\n",
    "plt.show()"
   ]
  },
  {
   "cell_type": "markdown",
   "metadata": {},
   "source": [
    "### grid36"
   ]
  },
  {
   "cell_type": "code",
   "execution_count": null,
   "metadata": {},
   "outputs": [],
   "source": [
    "o = foxes.output.RotorPointPlot(mbook.rotor_models[\"grid36\"])\n",
    "ax = o.get_point_figure()\n",
    "plt.show()"
   ]
  },
  {
   "cell_type": "markdown",
   "metadata": {},
   "source": [
    "### grid100"
   ]
  },
  {
   "cell_type": "code",
   "execution_count": null,
   "metadata": {},
   "outputs": [],
   "source": [
    "o = foxes.output.RotorPointPlot(mbook.rotor_models[\"grid100\"])\n",
    "ax = o.get_point_figure()\n",
    "plt.show()"
   ]
  },
  {
   "cell_type": "markdown",
   "metadata": {},
   "source": [
    "### grid400"
   ]
  },
  {
   "cell_type": "code",
   "execution_count": null,
   "metadata": {},
   "outputs": [],
   "source": [
    "o = foxes.output.RotorPointPlot(mbook.rotor_models[\"grid400\"])\n",
    "ax = o.get_point_figure()\n",
    "plt.show()"
   ]
  },
  {
   "cell_type": "markdown",
   "metadata": {},
   "source": [
    "## LevelRotor"
   ]
  },
  {
   "cell_type": "markdown",
   "metadata": {},
   "source": [
    "Level rotors consist of a single vertical line through the rotor centre. Each point represents a vertical slice of the rotor disc. These rotors are intended to be used in combination with ambient states that vary in vertical direction only (height dependent data). \n",
    "\n",
    "Never combine this rotor model with partial wakes `rotor_points`, since for wake averaging, the rotor points simply don't make much sense.\n",
    "\n",
    "A level rotor with `N` levels can be constructed as `LevelRotor(n=N)` (add `reduce=False` if uniform weights should be used). The default model book contains level rotors with `N` levels under the name templates `level<N>` and `level<N>_raw` for `reduce=True` and `reduce=False`, respectively."
   ]
  },
  {
   "cell_type": "markdown",
   "metadata": {},
   "source": [
    "### level2"
   ]
  },
  {
   "cell_type": "code",
   "execution_count": null,
   "metadata": {},
   "outputs": [],
   "source": [
    "o = foxes.output.RotorPointPlot(mbook.rotor_models[\"level2\"])\n",
    "ax = o.get_point_figure()\n",
    "plt.show()"
   ]
  },
  {
   "cell_type": "markdown",
   "metadata": {},
   "source": [
    "### level3"
   ]
  },
  {
   "cell_type": "code",
   "execution_count": null,
   "metadata": {},
   "outputs": [],
   "source": [
    "o = foxes.output.RotorPointPlot(mbook.rotor_models[\"level3\"])\n",
    "ax = o.get_point_figure()\n",
    "plt.show()"
   ]
  },
  {
   "cell_type": "markdown",
   "metadata": {},
   "source": [
    "### level5"
   ]
  },
  {
   "cell_type": "code",
   "execution_count": null,
   "metadata": {},
   "outputs": [],
   "source": [
    "o = foxes.output.RotorPointPlot(mbook.rotor_models[\"level5\"])\n",
    "ax = o.get_point_figure()\n",
    "plt.show()"
   ]
  },
  {
   "cell_type": "markdown",
   "metadata": {},
   "source": [
    "### level5_raw"
   ]
  },
  {
   "cell_type": "code",
   "execution_count": null,
   "metadata": {},
   "outputs": [],
   "source": [
    "o = foxes.output.RotorPointPlot(mbook.rotor_models[\"level5_raw\"])\n",
    "ax = o.get_point_figure()\n",
    "plt.show()"
   ]
  },
  {
   "cell_type": "markdown",
   "metadata": {},
   "source": [
    "### level10"
   ]
  },
  {
   "cell_type": "code",
   "execution_count": null,
   "metadata": {},
   "outputs": [],
   "source": [
    "o = foxes.output.RotorPointPlot(mbook.rotor_models[\"level10\"])\n",
    "ax = o.get_point_figure()\n",
    "plt.show()"
   ]
  },
  {
   "cell_type": "markdown",
   "metadata": {},
   "source": [
    "### level20"
   ]
  },
  {
   "cell_type": "code",
   "execution_count": null,
   "metadata": {},
   "outputs": [],
   "source": [
    "o = foxes.output.RotorPointPlot(mbook.rotor_models[\"level20\"])\n",
    "ax = o.get_point_figure()\n",
    "plt.show()"
   ]
  }
 ],
 "metadata": {
  "kernelspec": {
   "display_name": ".venv",
   "language": "python",
   "name": "python3"
  },
  "language_info": {
   "codemirror_mode": {
    "name": "ipython",
    "version": 3
   },
   "file_extension": ".py",
   "mimetype": "text/x-python",
   "name": "python",
   "nbconvert_exporter": "python",
   "pygments_lexer": "ipython3",
   "version": "3.12.3"
  }
 },
 "nbformat": 4,
 "nbformat_minor": 4
}
