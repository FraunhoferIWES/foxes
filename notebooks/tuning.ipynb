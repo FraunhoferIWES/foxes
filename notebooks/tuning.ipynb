{
 "cells": [
  {
   "attachments": {},
   "cell_type": "markdown",
   "metadata": {},
   "source": [
    "# Tuning parameters"
   ]
  },
  {
   "attachments": {},
   "cell_type": "markdown",
   "metadata": {},
   "source": [
    "This example demonstrates some basics about tuning wake model parameters with `foxes`. All optimizations use the [iwopy](https://github.com/FraunhoferIWES/iwopy) interface in the background (also by Fraunhofer IWES, see link for details). \n",
    "\n",
    "In the following we invoke the optimization library [pymoo](https://pymoo.org/) which contains a number of very nice genetic algorithm implementations. Within `foxes` we do that implicitely via the `iwopy` interface.\n",
    "\n",
    "These are the required imports for this example:"
   ]
  },
  {
   "cell_type": "code",
   "execution_count": 1,
   "metadata": {},
   "outputs": [],
   "source": [
    "import numpy as np\n",
    "import pandas as pd\n",
    "import matplotlib.pyplot as plt\n",
    "from plotly.offline import iplot\n",
    "from iwopy.interfaces.pymoo import Optimizer_pymoo\n",
    "\n",
    "import foxes\n",
    "import foxes.variables as FV\n",
    "import foxes.utils.geom2d as gm\n",
    "from foxes.opt.problems.tuning import TuningProblem\n",
    "# from foxes.opt.constraints import FarmBoundaryConstraint, MinDistConstraint\n",
    "# from foxes.opt.objectives import MaxFarmPower"
   ]
  },
  {
   "cell_type": "code",
   "execution_count": 2,
   "metadata": {},
   "outputs": [
    {
     "name": "stderr",
     "output_type": "stream",
     "text": [
      "/tmp/ipykernel_7291/4033798840.py:9: RuntimeWarning:\n",
      "\n",
      "invalid value encountered in sqrt\n",
      "\n",
      "/tmp/ipykernel_7291/4033798840.py:10: RuntimeWarning:\n",
      "\n",
      "invalid value encountered in sqrt\n",
      "\n"
     ]
    },
    {
     "data": {
      "text/plain": [
       "array([[6.16247756],\n",
       "       [6.9719514 ],\n",
       "       [7.21692477]])"
      ]
     },
     "execution_count": 2,
     "metadata": {},
     "output_type": "execute_result"
    }
   ],
   "source": [
    "def load_data(df_in,les_files,dDs):\n",
    "    def mask_turb(y,z,rcy=0,hh=0,rr=63):\n",
    "        y = np.array(y)\n",
    "        z = np.array(z)\n",
    "        ## Make mask of rotor area virtual downstream turbine\n",
    "        mask = np.zeros((len(z),len(y)))\n",
    "        for z_idx in range(len(mask)): ## loop over vertical\n",
    "            z_tmp = z[z_idx] \n",
    "            y_left = rcy - np.sqrt(rr**2-(z_tmp-hh)**2) ## use equation of circle\n",
    "            y_right = rcy + np.sqrt(rr**2-(z_tmp-hh)**2) ## to determine left,right edge \n",
    "            for y_idx in range(len(mask[z_idx])): ## loop over horizontal\n",
    "                y_tmp = y[y_idx]\n",
    "                if y_left < y_tmp < y_right: ## if between left and right edge\n",
    "                    mask[z_idx,y_idx] = 1   \n",
    "        return mask\n",
    "\n",
    "    import netCDF4 as nc\n",
    "    \n",
    "    dDs = np.asarray(dDs)\n",
    "\n",
    "    u_refs = []\n",
    "    for i,file in enumerate(les_files):\n",
    "        nc_file = nc.Dataset(file)\n",
    "        tmp = []\n",
    "        for dD in dDs:\n",
    "            u = nc_file.variables['u'][0,:,:,dD]\n",
    "            if i == 0:\n",
    "                y = nc_file.variables['y']\n",
    "                z = nc_file.variables['z']\n",
    "                mask = mask_turb(y,z,rcy=1280,hh=90)\n",
    "            u[mask==0]=np.nan\n",
    "            tmp += [np.nanmean(u)]\n",
    "        u_refs += [tmp]\n",
    "    mask = np.asarray(mask)\n",
    "    u_refs = np.asarray(u_refs)\n",
    "    y = np.asarray(y)\n",
    "    z = np.asarray(z)\n",
    "    return y,z,u_refs,mask\n",
    "\n",
    "path_local = '/home/sengers/code/foxes/foxes/data/states/'\n",
    "df_in = pd.read_csv(path_local+'LES_in.csv')\n",
    "les_files = [path_local+k+'.nc' for k in ['LES_yaw00','LES_yaw30','LES_yaw-30']]\n",
    "y,z,u_refs,mask = load_data(df_in,les_files,[6])\n",
    "\n",
    "u_refs"
   ]
  },
  {
   "cell_type": "code",
   "execution_count": 3,
   "metadata": {},
   "outputs": [],
   "source": [
    "## Initialize\n",
    "df_in.index = range(len(df_in))\n",
    "yawm = [[k] for k in df_in['yawm']]\n",
    "\n",
    "\n",
    "states = foxes.input.states.StatesTable(\n",
    "    data_source=df_in, ## df\n",
    "    output_vars=[FV.WS, FV.WD, FV.SHEAR, FV.RHO, FV.TI],\n",
    "    var2col={FV.WS: \"WS\", FV.SHEAR: \"shear\", FV.TI: \"TI\"},\n",
    "    fixed_vars={FV.RHO: 1.225, FV.H: 90.0, FV.WD: 270.0},\n",
    "    profiles={FV.WS: \"ShearedProfile\"},\n",
    ")"
   ]
  },
  {
   "cell_type": "code",
   "execution_count": 4,
   "metadata": {},
   "outputs": [
    {
     "data": {
      "text/plain": [
       "[[0.2764073946116964], [30.12371023718121], [-29.55202392055872]]"
      ]
     },
     "execution_count": 4,
     "metadata": {},
     "output_type": "execute_result"
    }
   ],
   "source": [
    "\n",
    "yawm"
   ]
  },
  {
   "attachments": {},
   "cell_type": "markdown",
   "metadata": {},
   "source": [
    "We now setup the model book and a wind farm with 1 turbine with the correct yaw angle, with some initial values for the tuning paramters"
   ]
  },
  {
   "cell_type": "code",
   "execution_count": 5,
   "metadata": {},
   "outputs": [
    {
     "name": "stdout",
     "output_type": "stream",
     "text": [
      "Turbine 0, T0: test, set_yawm, yawm2yaw, NREL5, kTI_05\n"
     ]
    }
   ],
   "source": [
    "## Build and execute\n",
    "mbook = foxes.ModelBook()\n",
    "mbook.turbine_types[\"NREL5\"] = foxes.models.turbine_types.PCtFile(\n",
    "    \"NREL-5MW-D126-H90.csv\"\n",
    ")\n",
    "mbook.turbine_models[\"set_yawm\"] = foxes.models.turbine_models.SetFarmVars()\n",
    "mbook.turbine_models[\"set_yawm\"].add_var(FV.YAWM, yawm)\n",
    "\n",
    "# mbook.turbine_models[\"k_tuning\"] = foxes.models.turbine_models.kTI(kTI=xx[2],kb=xx[3])\n",
    "# mbook.print_toc(subset=\"turbine_models\", search=\"\")\n",
    "\n",
    "mbook.wake_frames[\"yawed_tuning\"] = foxes.models.wake_frames.YawedWakes(\n",
    "    alpha=0.58,beta=0.17) ## add new wake_frame (deflection model) with some initial values\n",
    "\n",
    "farm = foxes.WindFarm()\n",
    "farm.add_turbine(\n",
    "    foxes.Turbine(\n",
    "        xy=[0.0, 0.0],\n",
    "        turbine_models=[\"test\",\"set_yawm\", \"yawm2yaw\", \"NREL5\", \"kTI_05\"],\n",
    "    )\n",
    ")\n",
    "\n",
    "algo = foxes.algorithms.Downwind(\n",
    "    mbook,\n",
    "    farm,\n",
    "    states,\n",
    "    rotor_model=\"centre\",\n",
    "    wake_models=[\"PorteAgel_linear\", \"CrespoHernandez_max\"],\n",
    "    wake_frame=\"yawed_tuning\", ## use new wake_frame\n",
    "    partial_wakes_model=\"auto\",\n",
    "    chunks=None,\n",
    "    verbosity=0,\n",
    ")"
   ]
  },
  {
   "cell_type": "code",
   "execution_count": 6,
   "metadata": {},
   "outputs": [
    {
     "name": "stdout",
     "output_type": "stream",
     "text": [
      "HERE [[[0.2764073946116964], [30.12371023718121], [-29.55202392055872]]]\n",
      "(1, 3, 1)\n",
      "Problem 'test' (TuningProblem): Initializing\n",
      "--------------------------------------------\n",
      "  n_vars_int   : 0\n",
      "  n_vars_float : 2\n",
      "--------------------------------------------\n",
      "  n_objectives : 0\n",
      "  n_obj_cmptns : 0\n",
      "--------------------------------------------\n",
      "  n_constraints: 0\n",
      "  n_con_cmptns : 0\n",
      "--------------------------------------------\n"
     ]
    },
    {
     "ename": "ValueError",
     "evalue": "Problem initialized without added objectives.",
     "output_type": "error",
     "traceback": [
      "\u001b[0;31m---------------------------------------------------------------------------\u001b[0m",
      "\u001b[0;31mValueError\u001b[0m                                Traceback (most recent call last)",
      "Cell \u001b[0;32mIn[6], line 2\u001b[0m\n\u001b[1;32m      1\u001b[0m problem \u001b[39m=\u001b[39m TuningProblem(\u001b[39m\"\u001b[39m\u001b[39mtest\u001b[39m\u001b[39m\"\u001b[39m, algo)\n\u001b[0;32m----> 2\u001b[0m problem\u001b[39m.\u001b[39;49minitialize()\n",
      "File \u001b[0;32m/mnt/c/Users/sengers/OneDrive - Fraunhofer/Documents/code/foxes/foxes/opt/core/farm_opt_problem.py:228\u001b[0m, in \u001b[0;36mFarmOptProblem.initialize\u001b[0;34m(self, verbosity)\u001b[0m\n\u001b[1;32m    224\u001b[0m \u001b[39mself\u001b[39m\u001b[39m.\u001b[39malgo\u001b[39m.\u001b[39mfinalize()\n\u001b[1;32m    226\u001b[0m \u001b[39mself\u001b[39m\u001b[39m.\u001b[39m_count \u001b[39m=\u001b[39m \u001b[39m0\u001b[39m\n\u001b[0;32m--> 228\u001b[0m \u001b[39msuper\u001b[39;49m()\u001b[39m.\u001b[39;49minitialize(verbosity)\n",
      "File \u001b[0;32m/mnt/c/Users/sengers/OneDrive - Fraunhofer/Documents/code/iwopy/iwopy/core/problem.py:646\u001b[0m, in \u001b[0;36mProblem.initialize\u001b[0;34m(self, verbosity)\u001b[0m\n\u001b[1;32m    643\u001b[0m     \u001b[39mprint\u001b[39m(\u001b[39mself\u001b[39m\u001b[39m.\u001b[39m_hline)\n\u001b[1;32m    645\u001b[0m \u001b[39mif\u001b[39;00m \u001b[39mself\u001b[39m\u001b[39m.\u001b[39mn_objectives \u001b[39m==\u001b[39m \u001b[39m0\u001b[39m:\n\u001b[0;32m--> 646\u001b[0m     \u001b[39mraise\u001b[39;00m \u001b[39mValueError\u001b[39;00m(\u001b[39m\"\u001b[39m\u001b[39mProblem initialized without added objectives.\u001b[39m\u001b[39m\"\u001b[39m)\n\u001b[1;32m    648\u001b[0m \u001b[39mself\u001b[39m\u001b[39m.\u001b[39m_maximize \u001b[39m=\u001b[39m np\u001b[39m.\u001b[39mzeros(\u001b[39mself\u001b[39m\u001b[39m.\u001b[39mn_objectives, dtype\u001b[39m=\u001b[39m\u001b[39mbool\u001b[39m)\n\u001b[1;32m    649\u001b[0m i0 \u001b[39m=\u001b[39m \u001b[39m0\u001b[39m\n",
      "\u001b[0;31mValueError\u001b[0m: Problem initialized without added objectives."
     ]
    }
   ],
   "source": [
    "problem = TuningProblem(\"test\", algo)\n",
    "problem.initialize()"
   ]
  },
  {
   "cell_type": "code",
   "execution_count": null,
   "metadata": {},
   "outputs": [],
   "source": [
    "\n"
   ]
  },
  {
   "cell_type": "code",
   "execution_count": null,
   "metadata": {},
   "outputs": [],
   "source": []
  },
  {
   "attachments": {},
   "cell_type": "markdown",
   "metadata": {},
   "source": [
    "Notice the appearing wake frame model `yawed_tuning`. This is not part of the model book but will be defined shortly by the optimization problem. \n",
    "\n",
    "Let's new define the optimization problem. Our objective is the minimazation of the total wind farm power:"
   ]
  },
  {
   "cell_type": "code",
   "execution_count": null,
   "metadata": {},
   "outputs": [],
   "source": [
    "# problem = TuningProblem(\"tuning\", algo)\n",
    "# problem.add_objective(MinCostPower(problem))\n",
    "# problem.initialize()"
   ]
  },
  {
   "cell_type": "markdown",
   "metadata": {},
   "source": [
    "Notice that the two added constraint models imply a total of 55 individual constraint component functions.\n",
    "\n",
    "Next, we setup the optimizer. In our case we use the genetic algorithm [GA from pymoo](https://pymoo.org/algorithms/soo/ga.html) via the [iwopy](https://github.com/FraunhoferIWES/iwopy) interface, here in vectorized form (flag `vectorize=True`), with 100 generations (`n_max_gen=100`) with population size 50 (`pop_size=50`):"
   ]
  },
  {
   "cell_type": "code",
   "execution_count": null,
   "metadata": {},
   "outputs": [],
   "source": [
    "# solver = Optimizer_pymoo(\n",
    "#     problem,\n",
    "#     problem_pars=dict(vectorize=True),\n",
    "#     algo_pars=dict(\n",
    "#         type=\"GA\", \n",
    "#         pop_size=50, \n",
    "#         seed=42,\n",
    "#     ),\n",
    "#     setup_pars=dict(),\n",
    "#     term_pars=dict(\n",
    "#         type=\"default\",\n",
    "#         n_max_gen=100,\n",
    "#         ftol=1e-6,\n",
    "#         xtol=1e-3,\n",
    "#     ),\n",
    "# )\n",
    "# solver.initialize()\n",
    "# solver.print_info()"
   ]
  },
  {
   "cell_type": "markdown",
   "metadata": {},
   "source": [
    "After all the setup we can now solve the problem:"
   ]
  },
  {
   "cell_type": "code",
   "execution_count": null,
   "metadata": {},
   "outputs": [],
   "source": [
    "# results = solver.solve()\n",
    "# solver.finalize(results)\n",
    "\n",
    "# print()\n",
    "# print(results)\n",
    "# print(results.problem_results)"
   ]
  }
 ],
 "metadata": {
  "kernelspec": {
   "display_name": "foxes",
   "language": "python",
   "name": "foxes"
  },
  "language_info": {
   "codemirror_mode": {
    "name": "ipython",
    "version": 3
   },
   "file_extension": ".py",
   "mimetype": "text/x-python",
   "name": "python",
   "nbconvert_exporter": "python",
   "pygments_lexer": "ipython3",
   "version": "3.8.10"
  },
  "orig_nbformat": 4,
  "vscode": {
   "interpreter": {
    "hash": "916dbcbb3f70747c44a77c7bcd40155683ae19c65e1c03b4aa3499c5328201f1"
   }
  }
 },
 "nbformat": 4,
 "nbformat_minor": 2
}
