{
 "cells": [
  {
   "attachments": {},
   "cell_type": "markdown",
   "metadata": {},
   "source": [
    "# Tuning parameters"
   ]
  },
  {
   "attachments": {},
   "cell_type": "markdown",
   "metadata": {},
   "source": [
    "This example demonstrates some basics about tuning wake model parameters with `foxes`. All optimizations use the [iwopy](https://github.com/FraunhoferIWES/iwopy) interface in the background (also by Fraunhofer IWES, see link for details). \n",
    "\n",
    "In the following we invoke the optimization library [pymoo](https://pymoo.org/) which contains a number of very nice genetic algorithm implementations. Within `foxes` we do that implicitely via the `iwopy` interface.\n",
    "\n",
    "These are the required imports for this example:"
   ]
  },
  {
   "cell_type": "code",
   "execution_count": 4,
   "metadata": {},
   "outputs": [],
   "source": [
    "import numpy as np\n",
    "import pandas as pd\n",
    "import matplotlib.pyplot as plt\n",
    "from plotly.offline import iplot\n",
    "from iwopy.interfaces.pymoo import Optimizer_pymoo\n",
    "\n",
    "import foxes\n",
    "import foxes.variables as FV\n",
    "import foxes.utils.geom2d as gm\n",
    "# from foxes.opt.problems import TuningProblem\n",
    "# from foxes.opt.constraints import FarmBoundaryConstraint, MinDistConstraint\n",
    "# from foxes.opt.objectives import MaxFarmPower"
   ]
  },
  {
   "cell_type": "code",
   "execution_count": 5,
   "metadata": {},
   "outputs": [
    {
     "name": "stderr",
     "output_type": "stream",
     "text": [
      "/tmp/ipykernel_528/1397851891.py:9: RuntimeWarning:\n",
      "\n",
      "invalid value encountered in sqrt\n",
      "\n",
      "/tmp/ipykernel_528/1397851891.py:10: RuntimeWarning:\n",
      "\n",
      "invalid value encountered in sqrt\n",
      "\n"
     ]
    },
    {
     "data": {
      "text/plain": [
       "array([[6.16247756],\n",
       "       [6.9719514 ],\n",
       "       [7.21692477]])"
      ]
     },
     "execution_count": 5,
     "metadata": {},
     "output_type": "execute_result"
    }
   ],
   "source": [
    "def load_data(df_in,les_files,dDs):\n",
    "    def mask_turb(y,z,rcy=0,hh=0,rr=63):\n",
    "        y = np.array(y)\n",
    "        z = np.array(z)\n",
    "        ## Make mask of rotor area virtual downstream turbine\n",
    "        mask = np.zeros((len(z),len(y)))\n",
    "        for z_idx in range(len(mask)): ## loop over vertical\n",
    "            z_tmp = z[z_idx] \n",
    "            y_left = rcy - np.sqrt(rr**2-(z_tmp-hh)**2) ## use equation of circle\n",
    "            y_right = rcy + np.sqrt(rr**2-(z_tmp-hh)**2) ## to determine left,right edge \n",
    "            for y_idx in range(len(mask[z_idx])): ## loop over horizontal\n",
    "                y_tmp = y[y_idx]\n",
    "                if y_left < y_tmp < y_right: ## if between left and right edge\n",
    "                    mask[z_idx,y_idx] = 1   \n",
    "        return mask\n",
    "\n",
    "    import netCDF4 as nc\n",
    "    \n",
    "    dDs = np.asarray(dDs)\n",
    "\n",
    "    u_refs = []\n",
    "    for i,file in enumerate(les_files):\n",
    "        nc_file = nc.Dataset(file)\n",
    "        tmp = []\n",
    "        for dD in dDs:\n",
    "            u = nc_file.variables['u'][0,:,:,dD]\n",
    "            if i == 0:\n",
    "                y = nc_file.variables['y']\n",
    "                z = nc_file.variables['z']\n",
    "                mask = mask_turb(y,z,rcy=1280,hh=90)\n",
    "            u[mask==0]=np.nan\n",
    "            tmp += [np.nanmean(u)]\n",
    "        u_refs += [tmp]\n",
    "    mask = np.asarray(mask)\n",
    "    u_refs = np.asarray(u_refs)\n",
    "    y = np.asarray(y)\n",
    "    z = np.asarray(z)\n",
    "    return y,z,u_refs,mask\n",
    "\n",
    "path_local = '/home/sengers/data/foxes-cases/LES_ref/'\n",
    "df_in = pd.read_csv(path_local+'LES_in.csv')\n",
    "les_files = [path_local+k+'.nc' for k in ['LES_yaw00','LES_yaw30','LES_yaw-30']]\n",
    "y,z,u_refs,mask = load_data(df_in,les_files,[6])\n",
    "\n",
    "u_refs"
   ]
  },
  {
   "cell_type": "code",
   "execution_count": 7,
   "metadata": {},
   "outputs": [],
   "source": [
    "def def_points(farm_results, xs, y, z):\n",
    "    import foxes.constants as FC\n",
    "    from foxes.utils import wd2wdvec, wd2uv\n",
    "    # prepare:\n",
    "    n_x = np.append(wd2wdvec(270-180), [0.0], axis=0) ## -180 to get [1,0,0]\n",
    "    n_z = np.array([0.0, 0.0, 1.0])\n",
    "    n_y = np.cross(n_z, n_x)\n",
    "\n",
    "    # project to axes:\n",
    "    # xyz = np.zeros((n_states, n_turbines, 3), dtype=FC.DTYPE)\n",
    "    xyz = np.zeros((1,1,3), dtype=FC.DTYPE) ## (n_states, n_turbines, n_dimensions)\n",
    "    xyz[:, :, 0] = farm_results[FV.X]\n",
    "    xyz[:, :, 1] = farm_results[FV.Y]\n",
    "    xyz[:, :, 2] = farm_results[FV.H]\n",
    "    xx = np.einsum(\"std,d->st\", xyz, n_x)\n",
    "    yy = np.einsum(\"std,d->st\", xyz, n_y)\n",
    "    zz = np.einsum(\"std,d->st\", xyz, n_z)\n",
    "    del xyz\n",
    "\n",
    "    y_pos, y_res = np.linspace(\n",
    "        np.min(y),\n",
    "        np.max(y),\n",
    "        num=int((np.max(y) - np.min(y)) / 5) + 1,\n",
    "        endpoint=True,\n",
    "        retstep=True,\n",
    "        dtype=None,\n",
    "    )\n",
    "    z_pos, z_res = np.linspace(\n",
    "        np.min(z),\n",
    "        np.max(z),\n",
    "        num=int((np.max(z) - np.min(z)) / 5) + 1,\n",
    "        endpoint=True,\n",
    "        retstep=True,\n",
    "        dtype=None,\n",
    "    )\n",
    "    \n",
    "    N_y, N_z = len(y_pos), len(z_pos)\n",
    "    n_pts = len(y_pos) * len(z_pos)\n",
    "    data_all = []\n",
    "    for x in xs:\n",
    "        x_pos = x\n",
    "        g_pts = np.zeros((1, N_y, N_z, 3), dtype=FC.DTYPE)\n",
    "        g_pts[:] += x_pos * n_x[None, None, None, :]\n",
    "        g_pts[:] += y_pos[None, :, None, None] * n_y[None, None, None, :]\n",
    "        g_pts[:] += z_pos[None, None, :, None] * n_z[None, None, None, :]\n",
    "        g_pts = g_pts.reshape(1, n_pts, 3)\n",
    "\n",
    "    return np.asarray(g_pts)\n",
    "\n",
    "def_points(farm_results, [750], np.arange(-100,101,5), z)"
   ]
  },
  {
   "cell_type": "code",
   "execution_count": null,
   "metadata": {},
   "outputs": [],
   "source": [
    "def mask_turb(y,z,rcy=0,hh=0,rr=63):\n",
    "    y = np.array(y)\n",
    "    z = np.array(z)\n",
    "    ## Make mask of rotor area virtual downstream turbine\n",
    "    mask = np.zeros((len(z),len(y)))\n",
    "    for z_idx in range(len(mask)): ## loop over vertical\n",
    "        z_tmp = z[z_idx] \n",
    "        y_left = rcy - np.sqrt(rr**2-(z_tmp-hh)**2) ## use equation of circle\n",
    "        y_right = rcy + np.sqrt(rr**2-(z_tmp-hh)**2) ## to determine left,right edge \n",
    "        for y_idx in range(len(mask[z_idx])): ## loop over horizontal\n",
    "            y_tmp = y[y_idx]\n",
    "            if y_left < y_tmp < y_right: ## if between left and right edge\n",
    "                mask[z_idx,y_idx] = 1   \n",
    "    return mask"
   ]
  },
  {
   "attachments": {},
   "cell_type": "markdown",
   "metadata": {},
   "source": [
    "We now setup the model book and a wind farm with 1 turbine with the correct yaw angle, with some initial values for the tuning paramters"
   ]
  },
  {
   "cell_type": "code",
   "execution_count": 6,
   "metadata": {},
   "outputs": [
    {
     "name": "stdout",
     "output_type": "stream",
     "text": [
      "Turbine 0, T0: set_yawm, yawm2yaw, NREL5, kTI_05\n"
     ]
    }
   ],
   "source": [
    "## Initialize\n",
    "df_in.index = range(len(df_in))\n",
    "yawm = [[k] for k in df_in['yawm']]\n",
    "\n",
    "\n",
    "states = foxes.input.states.StatesTable(\n",
    "    data_source=df_in, ## df\n",
    "    output_vars=[FV.WS, FV.WD, FV.SHEAR, FV.RHO, FV.TI],\n",
    "    var2col={FV.WS: \"WS\", FV.SHEAR: \"shear\", FV.TI: \"TI\"},\n",
    "    fixed_vars={FV.RHO: 1.225, FV.H: 90.0, FV.WD: 270.0},\n",
    "    profiles={FV.WS: \"ShearedProfile\"},\n",
    ")\n",
    "\n",
    "## Build and execute\n",
    "mbook = foxes.ModelBook()\n",
    "mbook.turbine_types[\"NREL5\"] = foxes.models.turbine_types.PCtFile(\n",
    "    \"NREL-5MW-D126-H90.csv\"\n",
    ")\n",
    "mbook.turbine_models[\"set_yawm\"] = foxes.models.turbine_models.SetFarmVars()\n",
    "mbook.turbine_models[\"set_yawm\"].add_var(FV.YAWM, yawm)\n",
    "\n",
    "farm = foxes.WindFarm()\n",
    "farm.add_turbine(\n",
    "    foxes.Turbine(\n",
    "        xy=[0.0, 0.0],\n",
    "        turbine_models=[\"set_yawm\", \"yawm2yaw\", \"NREL5\", \"kTI_05\"],\n",
    "        # turbine_models=[\"tuning_opt\",\"set_yawm\", \"yawm2yaw\", \"NREL5\"],\n",
    "    )\n",
    ")\n",
    "\n",
    "algo = foxes.algorithms.Downwind(\n",
    "    mbook,\n",
    "    farm,\n",
    "    states,\n",
    "    rotor_model=\"centre\",\n",
    "    wake_models=[\"PorteAgel_linear\", \"CrespoHernandez_max\"],\n",
    "    wake_frame=\"yawed\",\n",
    "    partial_wakes_model=\"auto\",\n",
    "    chunks=None,\n",
    "    verbosity=0,\n",
    ")\n",
    "farm_results = algo.calc_farm()\n",
    "\n",
    "# problem = TuningProblem(\"tuning_opt\", algo,vars_names=[FV.PA_ALPHA,FV.PA_BETA], vars_init=[0.58,0.07])\n",
    "# problem.initialize()"
   ]
  },
  {
   "cell_type": "code",
   "execution_count": null,
   "metadata": {},
   "outputs": [],
   "source": []
  },
  {
   "cell_type": "code",
   "execution_count": null,
   "metadata": {},
   "outputs": [],
   "source": [
    "\n"
   ]
  },
  {
   "cell_type": "code",
   "execution_count": null,
   "metadata": {},
   "outputs": [],
   "source": []
  },
  {
   "attachments": {},
   "cell_type": "markdown",
   "metadata": {},
   "source": [
    "Notice the appearing wake frame model `yawed_tuning`. This is not part of the model book but will be defined shortly by the optimization problem. \n",
    "\n",
    "Let's new define the optimization problem. Our objective is the minimazation of the total wind farm power:"
   ]
  },
  {
   "cell_type": "code",
   "execution_count": null,
   "metadata": {},
   "outputs": [],
   "source": [
    "# problem = TuningProblem(\"tuning\", algo)\n",
    "# problem.add_objective(MinCostPower(problem))\n",
    "# problem.initialize()"
   ]
  },
  {
   "cell_type": "markdown",
   "metadata": {},
   "source": [
    "Notice that the two added constraint models imply a total of 55 individual constraint component functions.\n",
    "\n",
    "Next, we setup the optimizer. In our case we use the genetic algorithm [GA from pymoo](https://pymoo.org/algorithms/soo/ga.html) via the [iwopy](https://github.com/FraunhoferIWES/iwopy) interface, here in vectorized form (flag `vectorize=True`), with 100 generations (`n_max_gen=100`) with population size 50 (`pop_size=50`):"
   ]
  },
  {
   "cell_type": "code",
   "execution_count": null,
   "metadata": {},
   "outputs": [],
   "source": [
    "# solver = Optimizer_pymoo(\n",
    "#     problem,\n",
    "#     problem_pars=dict(vectorize=True),\n",
    "#     algo_pars=dict(\n",
    "#         type=\"GA\", \n",
    "#         pop_size=50, \n",
    "#         seed=42,\n",
    "#     ),\n",
    "#     setup_pars=dict(),\n",
    "#     term_pars=dict(\n",
    "#         type=\"default\",\n",
    "#         n_max_gen=100,\n",
    "#         ftol=1e-6,\n",
    "#         xtol=1e-3,\n",
    "#     ),\n",
    "# )\n",
    "# solver.initialize()\n",
    "# solver.print_info()"
   ]
  },
  {
   "cell_type": "markdown",
   "metadata": {},
   "source": [
    "After all the setup we can now solve the problem:"
   ]
  },
  {
   "cell_type": "code",
   "execution_count": null,
   "metadata": {},
   "outputs": [],
   "source": [
    "# results = solver.solve()\n",
    "# solver.finalize(results)\n",
    "\n",
    "# print()\n",
    "# print(results)\n",
    "# print(results.problem_results)"
   ]
  }
 ],
 "metadata": {
  "kernelspec": {
   "display_name": "foxes",
   "language": "python",
   "name": "foxes"
  },
  "language_info": {
   "codemirror_mode": {
    "name": "ipython",
    "version": 3
   },
   "file_extension": ".py",
   "mimetype": "text/x-python",
   "name": "python",
   "nbconvert_exporter": "python",
   "pygments_lexer": "ipython3",
   "version": "3.8.10"
  },
  "orig_nbformat": 4,
  "vscode": {
   "interpreter": {
    "hash": "916dbcbb3f70747c44a77c7bcd40155683ae19c65e1c03b4aa3499c5328201f1"
   }
  }
 },
 "nbformat": 4,
 "nbformat_minor": 2
}
