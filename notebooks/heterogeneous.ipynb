{
 "cells": [
  {
   "cell_type": "markdown",
   "metadata": {},
   "source": [
    "# Heterogeneous flow"
   ]
  },
  {
   "cell_type": "markdown",
   "metadata": {},
   "source": [
    "The best way to run `foxes` calculations on heterogeneous background flow fields is by providing them in `netCDF` format. They should contain the following coordinates:\n",
    "\n",
    "- A state coordinate, e.g. `Time` (expected by default) or `state`, or similar\n",
    "- A height coordinate, e.g. `height` (expected by default) or `h`, or similar\n",
    "- A `y` coordinate, e.g. `UTMY` (expected by default) or `y`, or similar\n",
    "- A `x` coordinate, e.g. `UTMX` (expected by default) or `x`, or similar\n",
    "\n",
    "The file may contain any kind of `foxes` variables as data fields, e.g.:\n",
    "\n",
    "- Wind speed data, e.g. `WS` (expected by default, if claimed as output variable), `ws` or similar\n",
    "- Wind direction data, e.g. `WD` (expected by default, if claimed as output variable), `wd` or similar\n",
    "- Turbulence intensity data, e.g. `TI` (expected by default, if claimed as output variable), `ti` or similar\n",
    "- Air density data, e.g. `RHO` (expected by default, if claimed as output variable), `rho` or similar\n",
    "\n",
    "All data must depend on the state coordinate, and may depend on the others."
   ]
  },
  {
   "cell_type": "markdown",
   "metadata": {},
   "source": [
    "These are the required imports for this example:"
   ]
  },
  {
   "cell_type": "code",
   "execution_count": null,
   "metadata": {},
   "outputs": [],
   "source": [
    "import matplotlib.pyplot as plt\n",
    "import numpy as np\n",
    "\n",
    "import foxes\n",
    "import foxes.variables as FV"
   ]
  },
  {
   "cell_type": "markdown",
   "metadata": {},
   "source": [
    "One very simple example for `netCDF` type data is provided in the static data, under the name `wind_rotation.nc`. It contains two states, two heights, and simple 2 x 2 horizontal data that describes identical wind speeds at all four corner points associated with different wind direction values. It can be loaded as follows:"
   ]
  },
  {
   "cell_type": "code",
   "execution_count": null,
   "metadata": {},
   "outputs": [],
   "source": [
    "states = foxes.input.states.FieldDataNC(\n",
    "    file_pattern=\"wind_rotation.nc\",\n",
    "    states_coord=\"state\",\n",
    "    x_coord=\"x\",\n",
    "    y_coord=\"y\",\n",
    "    h_coord=\"h\",\n",
    "    time_format=None,\n",
    "    output_vars=[FV.WS, FV.WD, FV.TI, FV.RHO],\n",
    "    var2ncvar={FV.WS: \"ws\", FV.WD: \"wd\"},\n",
    "    fixed_vars={FV.RHO: 1.225, FV.TI: 0.1},\n",
    "    pre_load=True,\n",
    "    bounds_error=False,\n",
    ")"
   ]
  },
  {
   "cell_type": "markdown",
   "metadata": {},
   "source": [
    "Let's place a simple 3 x 3 grid wind farm inside the data domain, which is a rectangle between `(0, 0)` and `(2500, 2500)`:"
   ]
  },
  {
   "cell_type": "code",
   "execution_count": null,
   "metadata": {},
   "outputs": [],
   "source": [
    "farm = foxes.WindFarm()\n",
    "foxes.input.farm_layout.add_grid(\n",
    "    farm,\n",
    "    xy_base=np.array([500.0, 500.0]),\n",
    "    step_vectors=np.array([[500.0, 0], [0, 500.0]]),\n",
    "    steps=(3, 3),\n",
    "    turbine_models=[\"NREL5\"],\n",
    "    verbosity=0,\n",
    ")"
   ]
  },
  {
   "cell_type": "markdown",
   "metadata": {},
   "source": [
    "Again, we use the `NREL 5MW` turbine:"
   ]
  },
  {
   "cell_type": "code",
   "execution_count": null,
   "metadata": {},
   "outputs": [],
   "source": [
    "mbook = foxes.ModelBook()\n",
    "mbook.turbine_types[\"NREL5\"] = foxes.models.turbine_types.PCtFile(\n",
    "    \"NREL-5MW-D126-H90.csv\"\n",
    ")"
   ]
  },
  {
   "cell_type": "markdown",
   "metadata": {},
   "source": [
    "The streamline following wakes are realized by selecting a `wake frame` that is an instance of `foxes.models.wake_frames.Streamlines`, e.g. the model `streamlines_100` in the model book. This model has a streamline step size of 100 m:"
   ]
  },
  {
   "cell_type": "code",
   "execution_count": null,
   "metadata": {},
   "outputs": [],
   "source": [
    "algo = foxes.algorithms.Downwind(\n",
    "    mbook,\n",
    "    farm,\n",
    "    states=states,\n",
    "    rotor_model=\"grid16\",\n",
    "    wake_models=[\"Jensen_linear_k007\"],\n",
    "    wake_frame=\"streamlines_100\",\n",
    "    partial_wakes_model=\"auto\",\n",
    "    chunks={FV.STATE: 1000, FV.POINT: 4000},\n",
    "    verbosity=0,\n",
    ")"
   ]
  },
  {
   "cell_type": "markdown",
   "metadata": {},
   "source": [
    "We run the algorithm, once explicitely for calculating the wind farm data, and once implicitely when creating horizontal flow plots:"
   ]
  },
  {
   "cell_type": "code",
   "execution_count": null,
   "metadata": {},
   "outputs": [],
   "source": [
    "farm_results = algo.calc_farm()\n",
    "\n",
    "fr = farm_results.to_dataframe()\n",
    "print(fr[[FV.WD, FV.AMB_REWS, FV.REWS, FV.AMB_P, FV.P]])\n",
    "\n",
    "o = foxes.output.FlowPlots2D(algo, farm_results)\n",
    "for fig in o.gen_states_fig_horizontal(\n",
    "    FV.WS,\n",
    "    resolution=10,\n",
    "    figsize=(8, 8),\n",
    "    quiver_pars=dict(angles=\"xy\", scale_units=\"xy\", scale=0.07),\n",
    "    quiver_n=15,\n",
    "    xspace=1000,\n",
    "    yspace=1000,\n",
    "):\n",
    "    plt.show()\n",
    "    plt.close(fig)"
   ]
  }
 ],
 "metadata": {
  "kernelspec": {
   "display_name": "Python 3.8.10 ('foxes')",
   "language": "python",
   "name": "python3"
  },
  "language_info": {
   "codemirror_mode": {
    "name": "ipython",
    "version": 3
   },
   "file_extension": ".py",
   "mimetype": "text/x-python",
   "name": "python",
   "nbconvert_exporter": "python",
   "pygments_lexer": "ipython3",
   "version": "3.8.10"
  },
  "vscode": {
   "interpreter": {
    "hash": "bf4a074b666afd0c34fcf4a3f6dfe4d0dd717bc317d9d9cf4935c66389b29031"
   }
  }
 },
 "nbformat": 4,
 "nbformat_minor": 2
}
