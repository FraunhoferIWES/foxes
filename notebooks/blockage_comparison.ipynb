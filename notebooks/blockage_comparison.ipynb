{
 "cells": [
  {
   "attachments": {},
   "cell_type": "markdown",
   "metadata": {},
   "source": [
    "# Blockage modelling 2\n",
    "\n",
    "## Induction model comparison"
   ]
  },
  {
   "attachments": {},
   "cell_type": "markdown",
   "metadata": {},
   "source": [
    "This example demonstrates the four different blockage models implemented in *foxes* by producing a 2D flow plot of each and comparing the blockage effect in terms of the centreline windspeeds in front of the turbine along with a profile comparision at 1 diameter upstream.\n",
    "We start with the following imports:"
   ]
  },
  {
   "cell_type": "code",
   "execution_count": null,
   "metadata": {},
   "outputs": [],
   "source": [
    "%matplotlib inline\n",
    "import numpy as np\n",
    "import matplotlib.pyplot as plt\n",
    "\n",
    "import foxes\n",
    "import foxes.variables as FV"
   ]
  },
  {
   "attachments": {},
   "cell_type": "markdown",
   "metadata": {},
   "source": [
    "First, we setup the model book and a single turbine of type DTU10MW:"
   ]
  },
  {
   "cell_type": "code",
   "execution_count": null,
   "metadata": {
    "scrolled": true
   },
   "outputs": [],
   "source": [
    "# Selection of a turbine type:\n",
    "ttype = \"DTU10MW\"\n",
    "\n",
    "# create wind farm, a single row of turbines:\n",
    "farm = foxes.WindFarm()\n",
    "foxes.input.farm_layout.add_row(\n",
    "    farm=farm,\n",
    "    xy_base=[0.0, 0.0],\n",
    "    xy_step=[0.0, 0.0],\n",
    "    n_turbines=1,\n",
    "    turbine_models=[ttype],\n",
    "    verbosity=0,\n",
    ")"
   ]
  },
  {
   "attachments": {},
   "cell_type": "markdown",
   "metadata": {},
   "source": [
    "We choose a single wind direction state of 270 degrees with a wind speed of 8m/s:"
   ]
  },
  {
   "cell_type": "code",
   "execution_count": null,
   "metadata": {
    "scrolled": true
   },
   "outputs": [],
   "source": [
    "# create ambient wind conditions, a single uniform state:\n",
    "states = foxes.input.states.SingleStateStates(ws=8.0, wd=270.0, ti=0.04, rho=1.225)"
   ]
  },
  {
   "attachments": {},
   "cell_type": "markdown",
   "metadata": {},
   "source": [
    "Here we set up a list of the induction models to be compared. The models are from the following references:\n",
    "\n",
    "- SelfSimilar: [Troldborg, Niels, and Alexander Raul Meyer Forsting (2017)](https://onlinelibrary.wiley.com/doi/full/10.1002/we.2137) \n",
    "- SelfSimilar2020: [Forsting, Alexander R. Meyer, et al. (2020)](https://www.sciencedirect.com/science/article/pii/S0960148123007620)\n",
    "- RHB (Rankine Half Body): [B. Gribben and G. Hawkes (2019)](https://www.fnc.co.uk/media/o5eosxas/a-potential-flow-model-for-wind-turbine-induction-and-wind-farm-blockage.pdf)\n",
    "- Rathmann: [Forsting, Alexander R. Meyer, et al.](https://www.sciencedirect.com/science/article/pii/S0960148123007620)\n"
   ]
  },
  {
   "cell_type": "code",
   "execution_count": null,
   "metadata": {},
   "outputs": [],
   "source": [
    "induction_models = [\"SelfSimilar\", \"SelfSimilar2020\", \"RHB\", \"Rathmann\"]"
   ]
  },
  {
   "cell_type": "markdown",
   "metadata": {},
   "source": [
    "The four induction models are run in a loop, with a 2d flow plot for each being generated in a single figure. The maximum and minimum values for the colour scale in the plot are set to a range above and below the ambient wind speed to ensure both reductions and speed ups in wind speed are shown clearly in the flow plots. Within the same loop, data for the centreline and profile plots are being stored."
   ]
  },
  {
   "cell_type": "code",
   "execution_count": null,
   "metadata": {},
   "outputs": [],
   "source": [
    "npoints = 10000\n",
    "\n",
    "# storage for centreline and profile results\n",
    "centreline_pts = np.ndarray(shape=(npoints, 2, 4))  # points, values, model\n",
    "profile_pts = np.ndarray(shape=(npoints, 2, 4))\n",
    "\n",
    "# set up figure\n",
    "fig, axs = plt.subplots(2, 2, sharex=True, sharey=True)\n",
    "ax = axs.ravel()\n",
    "vmin = states.ws * 0.6\n",
    "vmax = states.ws * 1.2\n",
    "\n",
    "with foxes.Engine.new(\"process\", verbosity=0):\n",
    "\n",
    "    for i, model in enumerate(induction_models):\n",
    "\n",
    "        mbook = foxes.ModelBook()\n",
    "        D = mbook.turbine_types[ttype].D\n",
    "        H = mbook.turbine_types[ttype].H\n",
    "\n",
    "        algo = foxes.algorithms.Iterative(\n",
    "            farm,\n",
    "            states,\n",
    "            rotor_model=\"centre\",\n",
    "            wake_models=[model],\n",
    "            wake_frame=\"rotor_wd\",\n",
    "            partial_wakes=None,\n",
    "            mbook=mbook,\n",
    "            verbosity=0,\n",
    "        )\n",
    "        farm_results = algo.calc_farm()\n",
    "\n",
    "        # get point data for centreline plot and store\n",
    "        points = np.zeros((1, npoints, 3))\n",
    "        points[:, :, 0] = np.linspace(D * -3, D * 1, npoints)[None, :]\n",
    "        points[:, :, 1] = 0\n",
    "        points[:, :, 2] = H\n",
    "        point_results = algo.calc_points(farm_results, points)\n",
    "        centreline_pts[:, 0, i] = points[0, :, 0] / D  # x points\n",
    "        centreline_pts[:, 1, i] = point_results[FV.WS].to_numpy()[\n",
    "            0, :\n",
    "        ]  # centreline values\n",
    "\n",
    "        # get point data for profile plot and store in df\n",
    "        points = np.zeros((1, npoints, 3))\n",
    "        points[:, :, 0] = -2 * D\n",
    "        points[:, :, 1] = np.linspace(D * -3, D * 3, npoints)[None, :]\n",
    "        points[:, :, 2] = H\n",
    "        point_results = algo.calc_points(farm_results, points)\n",
    "        profile_pts[:, 0, i] = points[0, :, 1] / D  # x points\n",
    "        profile_pts[:, 1, i] = point_results[FV.WS].to_numpy()[0, :]  # profile values\n",
    "\n",
    "        o = foxes.output.FlowPlots2D(algo, farm_results)\n",
    "        g = o.gen_states_fig_xy(\n",
    "            var=FV.WS,\n",
    "            resolution=2,\n",
    "            fig=fig,\n",
    "            ax=ax[i],\n",
    "            vmin=vmin,\n",
    "            vmax=vmax,\n",
    "            title=model,\n",
    "        )\n",
    "        fig = next(g)\n",
    "        ax[i].set_xlabel(None)\n",
    "\n",
    "# finalise fig\n",
    "fig.subplots_adjust(right=0.8)\n",
    "plt.show()"
   ]
  },
  {
   "cell_type": "markdown",
   "metadata": {},
   "source": [
    "In the above plot the four different induction models are shown. The SelfSimilar, SelfSimilar2020 and Rathmann models are all based on a combination of a radial and axial shape function. The axial shape functions are derived from the solution to a rotating semi-infinite vortex cylinder along the centreline. The functions define the blockage effect in front of the rotor only, hence to give a more realistic flow effect behind the rotor, speed up behind and to the sides of the rotor is shown by mirroring the blockage in the rotor plane with the opposite sign. The area directly behind has no wake effect because this example uses no deficit model for the wake behind the turbine.\n",
    "\n",
    "RHB (Rankine Half Body) is different though, it is based on the concept of a potential flow point source, i.e. the rotor, within a constant flow. The flow gets directed around the point source area, creating a slow-down before the rotor, and a speed to the sides of it."
   ]
  },
  {
   "cell_type": "markdown",
   "metadata": {},
   "source": [
    "Below is the centreline comparison is plotted. More than a rotor diameter in front the turbine, the models show a similar blockage effect along the centreline. However, in the region close to the rotor the models vary. This is acceptable for wind farm modelling as we are not interested in the values in this region."
   ]
  },
  {
   "cell_type": "code",
   "execution_count": null,
   "metadata": {},
   "outputs": [],
   "source": [
    "fig, ax = plt.subplots()\n",
    "lines = [\"-\", \"--\", \"-.\", \":\"]\n",
    "for (\n",
    "    i,\n",
    "    model,\n",
    ") in enumerate(induction_models):\n",
    "    ax.plot(\n",
    "        centreline_pts[:, 0, i],\n",
    "        centreline_pts[:, 1, i],\n",
    "        label=model,\n",
    "        linestyle=lines[i],\n",
    "    )\n",
    "ax.set_title(f\"Induction model centreline comparison\")\n",
    "ax.set_xlabel(\"x/D\")\n",
    "ax.set_ylabel(\"Wind speed [m/s]\")\n",
    "plt.legend()\n",
    "plt.show()"
   ]
  },
  {
   "cell_type": "markdown",
   "metadata": {},
   "source": [
    "And finally below we plot the profile comparison at 1 diameter upstream of the rotor. All models show a similar shaped profile at this distance with Rathmann giving the weakest blockage effect, and the SelfSimilar model the strongest."
   ]
  },
  {
   "cell_type": "code",
   "execution_count": null,
   "metadata": {},
   "outputs": [],
   "source": [
    "fig, ax = plt.subplots()\n",
    "lines = [\"-\", \"--\", \"-.\", \":\"]\n",
    "for (\n",
    "    i,\n",
    "    model,\n",
    ") in enumerate(induction_models):\n",
    "    ax.plot(profile_pts[:, 0, i], profile_pts[:, 1, i], label=model, linestyle=lines[i])\n",
    "ax.set_title(f\"Induction model profile comparison at 1D upstream\")\n",
    "ax.set_xlabel(\"y/D\")\n",
    "ax.set_ylabel(\"Wind speed [m/s]\")\n",
    "plt.legend()\n",
    "plt.show()"
   ]
  }
 ],
 "metadata": {
  "kernelspec": {
   "display_name": "foxes",
   "language": "python",
   "name": "python3"
  },
  "language_info": {
   "codemirror_mode": {
    "name": "ipython",
    "version": 3
   },
   "file_extension": ".py",
   "mimetype": "text/x-python",
   "name": "python",
   "nbconvert_exporter": "python",
   "pygments_lexer": "ipython3",
   "version": "3.12.7"
  }
 },
 "nbformat": 4,
 "nbformat_minor": 4
}
