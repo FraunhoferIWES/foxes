{
 "cells": [
  {
   "attachments": {},
   "cell_type": "markdown",
   "metadata": {},
   "source": [
    "# Blockage modelling"
   ]
  },
  {
   "attachments": {},
   "cell_type": "markdown",
   "metadata": {},
   "source": [
    "This example shows how to use the Rankine-Half-Body model for modelling the blockage effect. We need the following imports:"
   ]
  },
  {
   "cell_type": "code",
   "execution_count": null,
   "metadata": {},
   "outputs": [],
   "source": [
    "%matplotlib inline\n",
    "import matplotlib.pyplot as plt\n",
    "\n",
    "import foxes\n",
    "import foxes.variables as FV\n",
    "import foxes.constants as FC"
   ]
  },
  {
   "attachments": {},
   "cell_type": "markdown",
   "metadata": {},
   "source": [
    "First, we setup the model book and the wind farm, here we pick 20 x 10 turbines on a regular grid:"
   ]
  },
  {
   "cell_type": "code",
   "execution_count": null,
   "metadata": {
    "scrolled": true
   },
   "outputs": [],
   "source": [
    "mbook = foxes.ModelBook()\n",
    "\n",
    "farm = foxes.WindFarm()\n",
    "foxes.input.farm_layout.add_grid(\n",
    "    farm=farm,\n",
    "    xy_base=[0.0, 0.0],\n",
    "    step_vectors=[[800.0, 0.0], [0., 400.0]],\n",
    "    steps=[20, 10],\n",
    "    turbine_models=[\"DTU10MW\", \"kTI_05\"],\n",
    "    verbosity=0\n",
    ")\n",
    "\n",
    "ax = foxes.output.FarmLayoutOutput(farm).get_figure(figsize=(8, 4))\n",
    "plt.show()"
   ]
  },
  {
   "attachments": {},
   "cell_type": "markdown",
   "metadata": {},
   "source": [
    "As wind conditions, we choose a single wind direction state from 270 degrees:"
   ]
  },
  {
   "cell_type": "code",
   "execution_count": null,
   "metadata": {
    "scrolled": true
   },
   "outputs": [],
   "source": [
    "# create ambient wind conditions, a single uniform state:\n",
    "states = foxes.input.states.SingleStateStates(ws=8.0, wd=270.0, ti=0.04, rho=1.225)"
   ]
  },
  {
   "attachments": {},
   "cell_type": "markdown",
   "metadata": {},
   "source": [
    "For induction models, the `Iterative` algorithm should be invoked:"
   ]
  },
  {
   "cell_type": "code",
   "execution_count": null,
   "metadata": {},
   "outputs": [],
   "source": [
    "algo = foxes.algorithms.Iterative(\n",
    "    mbook,\n",
    "    farm,\n",
    "    states=states,\n",
    "    rotor_model=\"centre\",\n",
    "    wake_models=[\"RHB_linear\", \"Bastankhah_linear\"],\n",
    "    wake_frame=\"rotor_wd\",\n",
    "    partial_wakes_model=\"auto\",\n",
    "    chunks={FC.STATE: None, FC.POINT: 4000},\n",
    "    verbosity=1,\n",
    ")"
   ]
  },
  {
   "attachments": {},
   "cell_type": "markdown",
   "metadata": {},
   "source": [
    "We can now calculate the results:"
   ]
  },
  {
   "cell_type": "code",
   "execution_count": null,
   "metadata": {},
   "outputs": [],
   "source": [
    "with foxes.utils.runners.DaskRunner() as runner:\n",
    "    farm_results = runner.run(algo.calc_farm)\n",
    "\n",
    "print(farm_results)"
   ]
  },
  {
   "attachments": {},
   "cell_type": "markdown",
   "metadata": {},
   "source": [
    "Finally, we display the mean wind speed field as a 2D plot, including wake effects. We could simply do this by\n",
    "\n",
    "```python\n",
    "o = foxes.output.FlowPlots2D(algo, farm_results)\n",
    "o.get_mean_fig_xy(FV.WS, resolution=30)\n",
    "plt.show()\n",
    "```\n",
    "\n",
    "This is perfectly fine, but if we wish to see a progress bar and have additional options for the parallel run on a cluster (which we are not using here), the output function should instead be passed to a `DaskRunner` object:"
   ]
  },
  {
   "cell_type": "code",
   "execution_count": null,
   "metadata": {},
   "outputs": [],
   "source": [
    "with foxes.utils.runners.DaskRunner() as runner:\n",
    "    o = foxes.output.FlowPlots2D(algo, farm_results, runner=runner)\n",
    "    o.get_mean_fig_xy(FV.WS, resolution=30)\n",
    "    plt.show()"
   ]
  },
  {
   "attachments": {},
   "cell_type": "markdown",
   "metadata": {},
   "source": [
    "Note that for the vectorization/parallelization to work we need to set the `chunks` arguments in the creation of the `Algorithm` object. Here chunks of 4000 points were calculated at a time (for all states)."
   ]
  }
 ],
 "metadata": {
  "kernelspec": {
   "display_name": "foxes",
   "language": "python",
   "name": "python3"
  },
  "language_info": {
   "codemirror_mode": {
    "name": "ipython",
    "version": 3
   },
   "file_extension": ".py",
   "mimetype": "text/x-python",
   "name": "python",
   "nbconvert_exporter": "python",
   "pygments_lexer": "ipython3",
   "version": "3.8.10"
  },
  "vscode": {
   "interpreter": {
    "hash": "4fb778166dae186e4d4cfa777e9f30c32eb0bc447af40b9aef55a0c1baf561be"
   }
  }
 },
 "nbformat": 4,
 "nbformat_minor": 2
}
