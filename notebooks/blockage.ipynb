{
 "cells": [
  {
   "attachments": {},
   "cell_type": "markdown",
   "metadata": {},
   "source": [
    "# Blockage modelling"
   ]
  },
  {
   "attachments": {},
   "cell_type": "markdown",
   "metadata": {},
   "source": [
    "This example shows how to use the Rankine-Half-Body model for modelling the blockage effect. We need the following imports:"
   ]
  },
  {
   "cell_type": "code",
   "execution_count": null,
   "metadata": {},
   "outputs": [],
   "source": [
    "%matplotlib inline\n",
    "import numpy as np\n",
    "import matplotlib.pyplot as plt\n",
    "\n",
    "import foxes\n",
    "import foxes.variables as FV\n",
    "import foxes.constants as FC"
   ]
  },
  {
   "attachments": {},
   "cell_type": "markdown",
   "metadata": {},
   "source": [
    "First, we setup the model book and the wind farm, here we pick 20 x 10 turbines on a regular grid:"
   ]
  },
  {
   "cell_type": "code",
   "execution_count": null,
   "metadata": {
    "scrolled": true
   },
   "outputs": [],
   "source": [
    "mbook = foxes.ModelBook()\n",
    "\n",
    "farm = foxes.WindFarm()\n",
    "foxes.input.farm_layout.add_grid(\n",
    "    farm=farm,\n",
    "    xy_base=[0.0, 0.0],\n",
    "    step_vectors=[[800.0, 50.0], [0., 400.0]],\n",
    "    steps=[6, 8],\n",
    "    turbine_models=[\"DTU10MW\"],\n",
    "    verbosity=0\n",
    ")\n",
    "\n",
    "ax = foxes.output.FarmLayoutOutput(farm).get_figure(figsize=(8, 4))\n",
    "plt.show()"
   ]
  },
  {
   "attachments": {},
   "cell_type": "markdown",
   "metadata": {},
   "source": [
    "As wind conditions, we choose a single wind direction state from 270 degrees:"
   ]
  },
  {
   "cell_type": "code",
   "execution_count": null,
   "metadata": {
    "scrolled": true
   },
   "outputs": [],
   "source": [
    "# create ambient wind conditions, a single uniform state:\n",
    "states = foxes.input.states.SingleStateStates(ws=8.0, wd=270.0, ti=0.04, rho=1.225)"
   ]
  },
  {
   "attachments": {},
   "cell_type": "markdown",
   "metadata": {},
   "source": [
    "For induction models, the `Iterative` algorithm should be invoked. This is due to the fact that upstream turbines can be influenced by the induction zone of a turbine, which the `Downstream` algorithm simply would not notice.\n",
    "\n",
    "By default the `Iterative` algorithm applies under-relaxation of the variable `FV.CT`, corresponding to calling `aglo.set_urelax(pre_wake={FV.CT: 0.5})` before calculations. This means that for each iteration the freshly calculated value is mixed with the result from the previous iteration. This avoids wakes switching on and off repeatedly between subsequent iterations in some cases, ensuring convergence also in the vicinity of the cut-in and cut-out regions of the thrust curve. The convergence criteria can also be modified by setting the parameter `conv_crit`, see API."
   ]
  },
  {
   "cell_type": "code",
   "execution_count": null,
   "metadata": {},
   "outputs": [],
   "source": [
    "algo = foxes.algorithms.Iterative(\n",
    "    mbook,\n",
    "    farm,\n",
    "    states=states,\n",
    "    rotor_model=\"centre\",\n",
    "    wake_models=[\"RHB\", \"Bastankhah025_linear_lim_k004\"],\n",
    "    wake_frame=\"rotor_wd\",\n",
    "    partial_wakes_model=\"auto\",\n",
    "    chunks={FC.STATE: None, FC.POINT: 4000},\n",
    "    verbosity=1,\n",
    ")"
   ]
  },
  {
   "attachments": {},
   "cell_type": "markdown",
   "metadata": {},
   "source": [
    "Notice the `RHB` model among the list of wake models. This is the [Rankine-Half-Body](https://www.fnc.co.uk/media/o5eosxas/a-potential-flow-model-for-wind-turbine-induction-and-wind-farm-blockage.pdf) induction model, adding an induction zone for each turbine. We can now calculate the results:"
   ]
  },
  {
   "cell_type": "code",
   "execution_count": null,
   "metadata": {},
   "outputs": [],
   "source": [
    "with foxes.utils.runners.DaskRunner() as runner:\n",
    "    farm_results = runner.run(algo.calc_farm)\n",
    "\n",
    "print(farm_results)"
   ]
  },
  {
   "cell_type": "markdown",
   "metadata": {},
   "source": [
    "The following visualizes the flow field around the most south-westerly turbine in the wind farm:"
   ]
  },
  {
   "cell_type": "code",
   "execution_count": null,
   "metadata": {},
   "outputs": [],
   "source": [
    "o = foxes.output.FlowPlots2D(algo, farm_results)\n",
    "g = o.gen_states_fig_xy(\n",
    "    FV.WS,\n",
    "    figsize=(6, 5),\n",
    "    resolution=2,\n",
    "    xmin=-300, xmax=500,\n",
    "    ymin=-200, ymax=200,\n",
    "    levels=20,\n",
    "    quiver_n=15,\n",
    "    quiver_pars={\"scale\": 0.25, \"alpha\": 0.3}\n",
    ")\n",
    "fig = next(g)\n",
    "plt.show()"
   ]
  },
  {
   "cell_type": "markdown",
   "metadata": {},
   "source": [
    "The induction zone in front of the rotor is clearly visible. For the complete wind farm, the individual induction zones merge:"
   ]
  },
  {
   "cell_type": "code",
   "execution_count": null,
   "metadata": {},
   "outputs": [],
   "source": [
    "o = foxes.output.FlowPlots2D(algo, farm_results)\n",
    "g = o.gen_states_fig_xy(\n",
    "    FV.WS,\n",
    "    figsize=(5, 5),\n",
    "    resolution=10,\n",
    "    xspace=2000,\n",
    "    yspace=1000,\n",
    "    levels=30,\n",
    "    #vmax=7.95,\n",
    ")\n",
    "fig = next(g)\n",
    "plt.show()"
   ]
  },
  {
   "cell_type": "markdown",
   "metadata": {},
   "source": [
    "The individual contributions to the blockage zone are visible when plotting the wind speed along a straight line in y direction, at fixed x in front of the first row of turbines:"
   ]
  },
  {
   "cell_type": "code",
   "execution_count": null,
   "metadata": {},
   "outputs": [],
   "source": [
    "H = mbook.turbine_types[\"DTU10MW\"].H\n",
    "n_points = 10000\n",
    "points = np.zeros((1, n_points, 3))\n",
    "points[:, :, 1] = np.linspace(-1000, 4000, n_points)[None, :]\n",
    "points[:, :, 2] = H\n",
    "\n",
    "xlist = [-500, -400, -300, -200]\n",
    "fig, ax = plt.subplots(figsize=(10, 4))\n",
    "for x in xlist:\n",
    "    points[:, :, 0] = x\n",
    "    point_results = algo.calc_points(farm_results, points)\n",
    "    ax.plot(point_results[FV.WS][0, :], points[0, :, 1], label=f\"x = {x} m\")\n",
    "ax.set_ylabel(\"y [m]\")\n",
    "ax.set_xlabel(\"Wind speed [m/s]\")\n",
    "ax.legend()\n",
    "plt.show()"
   ]
  }
 ],
 "metadata": {
  "kernelspec": {
   "display_name": "foxes",
   "language": "python",
   "name": "python3"
  },
  "language_info": {
   "codemirror_mode": {
    "name": "ipython",
    "version": 3
   },
   "file_extension": ".py",
   "mimetype": "text/x-python",
   "name": "python",
   "nbconvert_exporter": "python",
   "pygments_lexer": "ipython3",
   "version": "3.8.10"
  },
  "vscode": {
   "interpreter": {
    "hash": "4fb778166dae186e4d4cfa777e9f30c32eb0bc447af40b9aef55a0c1baf561be"
   }
  }
 },
 "nbformat": 4,
 "nbformat_minor": 2
}
