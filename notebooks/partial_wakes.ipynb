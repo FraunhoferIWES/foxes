{
 "cells": [
  {
   "cell_type": "markdown",
   "metadata": {},
   "source": [
    "# Partial wakes verification"
   ]
  },
  {
   "cell_type": "markdown",
   "metadata": {},
   "source": [
    "In the following we investigate the accuracy of various partial wakes models. \n",
    "\n",
    "We do this by comparison with the approximation of the truth that is provided by the choice `rotor_model=grid400` in combination with `partial_wakes=rotor_points`. \n",
    "\n",
    "Our playground is the following turbine and wind setup:\n",
    "\n",
    "- Uniform wind from wind direction 270 degrees\n",
    "- One turbine located at `x = y = 0`, causing a wake\n",
    "- Another turbine located at `x = 4D` and 1000 different `y` positions between `y = -500 m` and `y = 500 m`, acting as a \"probe\" of the wind field.\n",
    "\n",
    "This setup will lead to different partial wakes situations, and the partial wakes models will try to predict the correct effective wake effect at the probe turbine.\n",
    "\n",
    "Let's see how well they perform at this task!"
   ]
  },
  {
   "cell_type": "code",
   "execution_count": null,
   "metadata": {},
   "outputs": [],
   "source": [
    "import numpy as np\n",
    "import pandas as pd\n",
    "import matplotlib.pyplot as plt\n",
    "\n",
    "import foxes\n",
    "import foxes.variables as FV"
   ]
  },
  {
   "cell_type": "markdown",
   "metadata": {},
   "source": [
    "We start by creating a pandas DataFrame object that contains data for 1000 ambient states, including the different `y` positions of the probe turbine:"
   ]
  },
  {
   "cell_type": "code",
   "execution_count": null,
   "metadata": {},
   "outputs": [],
   "source": [
    "Ny = 1000\n",
    "ws0 = 9.0\n",
    "\n",
    "sdata = pd.DataFrame(index=range(Ny + 1))\n",
    "sdata.index.name = \"state\"\n",
    "sdata[\"ws\"] = ws0\n",
    "sdata[\"wd\"] = 270\n",
    "sdata[\"ti\"] = 0.05\n",
    "sdata[\"rho\"] = 1.225\n",
    "sdata[\"y\"] = np.linspace(-500, 500, Ny + 1)\n",
    "\n",
    "sdata"
   ]
  },
  {
   "cell_type": "markdown",
   "metadata": {},
   "source": [
    "The main _foxes_ calculation is carried out by the following function. Notice how the turbine model `SetFarmVars` is used for initializing the different `y` positions:"
   ]
  },
  {
   "cell_type": "code",
   "execution_count": null,
   "metadata": {},
   "outputs": [],
   "source": [
    "def calc(rotor, pwake, wake):\n",
    "\n",
    "    states = foxes.input.states.StatesTable(\n",
    "        sdata,\n",
    "        output_vars=[FV.WS, FV.WD, FV.TI, FV.RHO],\n",
    "        var2col={FV.WS: \"ws\", FV.WD: \"wd\", FV.TI: \"ti\", FV.RHO: \"rho\"},\n",
    "    )\n",
    "\n",
    "    ydata = np.full((len(sdata.index), 2), np.nan)\n",
    "    ydata[:, 1] = sdata[\"y\"].to_numpy()\n",
    "\n",
    "    ttype=\"DTU10MW\"\n",
    "    mbook = foxes.ModelBook()\n",
    "    mbook.turbine_models[\"sety\"] = foxes.models.turbine_models.SetFarmVars(\n",
    "        pre_rotor=True\n",
    "    )\n",
    "    mbook.turbine_models[\"sety\"].add_var(FV.Y, ydata)\n",
    "    D = mbook.turbine_types[ttype].D\n",
    "\n",
    "    farm = foxes.WindFarm()\n",
    "    farm.add_turbine(\n",
    "        foxes.Turbine(\n",
    "            xy=np.array([0.0, 0.0]), \n",
    "            turbine_models=[ttype]\n",
    "        ),\n",
    "        verbosity=0,\n",
    "    )\n",
    "    farm.add_turbine(\n",
    "        foxes.Turbine(\n",
    "            xy=np.array([4*D, 0.0]),\n",
    "            turbine_models=[\"sety\", ttype],\n",
    "        ),\n",
    "        verbosity=0,\n",
    "    )\n",
    "\n",
    "    algo = foxes.algorithms.Downwind(\n",
    "        farm,\n",
    "        states,\n",
    "        wake_models=[wake],\n",
    "        rotor_model=rotor,\n",
    "        partial_wakes=pwake,\n",
    "        mbook=mbook,\n",
    "        verbosity=0,\n",
    "    )\n",
    "\n",
    "    print(f\"Calculating rotor = {rotor}, pwake = {pwake}\")\n",
    "    farm_results = algo.calc_farm()\n",
    "\n",
    "    return farm_results, D"
   ]
  },
  {
   "cell_type": "markdown",
   "metadata": {},
   "source": [
    "This function calls the above function for a given list of partial wakes models, called `pwakes`:"
   ]
  },
  {
   "cell_type": "code",
   "execution_count": null,
   "metadata": {},
   "outputs": [],
   "source": [
    "def run_calc(rotor, pwakes, wake):\n",
    "    results = {}\n",
    "    with foxes.Engine.new(\"multiprocess\", verbosity=0):\n",
    "        for pwake in pwakes:\n",
    "            farm_results, D = calc(rotor, pwake, wake)\n",
    "            results[pwake] = farm_results\n",
    "    return results, D"
   ]
  },
  {
   "cell_type": "markdown",
   "metadata": {},
   "source": [
    "Another function will be used for evaluating the calculation results dictionary, creating a plot of results:"
   ]
  },
  {
   "cell_type": "code",
   "execution_count": null,
   "metadata": {},
   "outputs": [],
   "source": [
    "def get_plot(results, D, rotor, figsize=(10, 4)):\n",
    "    fig, ax = plt.subplots(figsize=figsize)\n",
    "\n",
    "    for pwake, fres in results.items():\n",
    "        ls = \"--\" if pwake==\"rotor_points\" else \"-\"\n",
    "        lw = 3 if pwake==\"rotor_points\" else 2\n",
    "        ax.plot(\n",
    "            fres[FV.Y][:, 1]/D,\n",
    "            fres[FV.REWS][:, 1]/ws0,\n",
    "            linestyle=ls,\n",
    "            linewidth=lw,\n",
    "            alpha=0.8,\n",
    "            label=pwake,\n",
    "        )\n",
    "\n",
    "    title = f\"4D behind the rotor, ws0 = {ws0} m/s, rotor = {rotor}\"\n",
    "    ax.set_title(title)\n",
    "    ax.set_xlabel(\"y/D\")\n",
    "    ax.legend()\n",
    "\n",
    "    return ax"
   ]
  },
  {
   "cell_type": "markdown",
   "metadata": {},
   "source": [
    "Now we can start the evaluation. First, let's look at partial wakes of the `grid` type, for a Gaussian wake model:"
   ]
  },
  {
   "cell_type": "code",
   "execution_count": null,
   "metadata": {},
   "outputs": [],
   "source": [
    "rotor = \"grid400\"\n",
    "wake = \"Bastankhah2014_linear_k004\"\n",
    "pwakes = [\"rotor_points\", \"centre\", \"grid4\", \"grid9\", \"grid16\", \"grid100\"]\n",
    "results, D = run_calc(rotor, pwakes, wake)\n",
    "\n",
    "ax = get_plot(results, D, rotor)\n",
    "plt.show()\n",
    "\n",
    "ax = get_plot(results, D, rotor, figsize=(7, 6))\n",
    "ax.set_xlim(-0.2, 0.2)\n",
    "ax.set_ylim(0.73, 0.78)\n",
    "ax.legend(loc=\"upper center\")\n",
    "plt.show()"
   ]
  },
  {
   "cell_type": "markdown",
   "metadata": {},
   "source": [
    "Next, we repeat the exercise with `axiwake` partial wakes, which approach the \"true\" result with much less wake evaluation points:"
   ]
  },
  {
   "cell_type": "code",
   "execution_count": null,
   "metadata": {},
   "outputs": [],
   "source": [
    "rotor = \"grid400\"\n",
    "wake = \"Bastankhah2014_linear_k004\"\n",
    "pwakes = [\"rotor_points\", \"centre\", \"axiwake4\", \"axiwake6\", \"axiwake9\"]\n",
    "results, D = run_calc(rotor, pwakes, wake)\n",
    "\n",
    "ax = get_plot(results, D, rotor)\n",
    "plt.show()\n",
    "\n",
    "ax = get_plot(results, D, rotor, figsize=(7, 6))\n",
    "ax.set_xlim(-0.2, 0.2)\n",
    "ax.set_ylim(0.73, 0.78)\n",
    "ax.legend(loc=\"upper center\")\n",
    "plt.show()"
   ]
  },
  {
   "cell_type": "markdown",
   "metadata": {},
   "source": [
    "For top-hat models, the `top_hat` partial wakes are exact and fast:"
   ]
  },
  {
   "cell_type": "code",
   "execution_count": null,
   "metadata": {},
   "outputs": [],
   "source": [
    "rotor = \"grid400\"\n",
    "wake = \"Jensen_linear_k004\"\n",
    "pwakes = [\"rotor_points\", \"centre\", \"grid16\", \"axiwake9\", \"top_hat\"]\n",
    "results, D = run_calc(rotor, pwakes, wake)\n",
    "\n",
    "ax = get_plot(results, D, rotor)\n",
    "plt.show()\n",
    "\n",
    "ax = get_plot(results, D, rotor, figsize=(7, 6))\n",
    "ax.set_xlim(-0.5, 0.5)\n",
    "ax.set_ylim(0.65, 0.78)\n",
    "ax.legend(loc=\"upper center\")\n",
    "plt.show()"
   ]
  },
  {
   "cell_type": "markdown",
   "metadata": {},
   "source": [
    "Clearly the `top_hat` choice is the only one that can handle wake models with  `top_hat` shape."
   ]
  }
 ],
 "metadata": {
  "kernelspec": {
   "display_name": "Python 3 (ipykernel)",
   "language": "python",
   "name": "python3"
  },
  "language_info": {
   "codemirror_mode": {
    "name": "ipython",
    "version": 3
   },
   "file_extension": ".py",
   "mimetype": "text/x-python",
   "name": "python",
   "nbconvert_exporter": "python",
   "pygments_lexer": "ipython3",
   "version": "3.12.3"
  }
 },
 "nbformat": 4,
 "nbformat_minor": 4
}
