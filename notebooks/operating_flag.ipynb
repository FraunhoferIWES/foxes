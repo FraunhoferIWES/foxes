{
 "cells": [
  {
   "cell_type": "markdown",
   "id": "f0251844",
   "metadata": {},
   "source": [
    "# Turbine operation flags"
   ]
  },
  {
   "cell_type": "markdown",
   "id": "4eb12407",
   "metadata": {},
   "source": [
    "This example demonstrates how to run a wind farm simulation with given operational flags, that indicate if turbines are switched on or off at each state. There is more than one way for achieving this within `foxes`, but here we will make use of the `OpFlagController` which was specifically added for this purpose.\n",
    "\n",
    "These are the imports that we will need:"
   ]
  },
  {
   "cell_type": "code",
   "execution_count": null,
   "id": "4001c57b",
   "metadata": {},
   "outputs": [],
   "source": [
    "%matplotlib inline\n",
    "import numpy as np\n",
    "import pandas as pd\n",
    "import xarray as xr\n",
    "import matplotlib.pyplot as plt\n",
    "\n",
    "import foxes\n",
    "import foxes.variables as FV\n",
    "import foxes.constants as FC"
   ]
  },
  {
   "cell_type": "markdown",
   "id": "8ea4c6d1",
   "metadata": {},
   "source": [
    "We first generate the input data, starting with three simple wind states:"
   ]
  },
  {
   "cell_type": "code",
   "execution_count": null,
   "id": "d35a2ede",
   "metadata": {},
   "outputs": [],
   "source": [
    "sdata = pd.DataFrame({\n",
    "    FV.WS: [10, 10, 10],\n",
    "    FV.WD: [270, 270, 90],\n",
    "})\n",
    "sdata.index.name = FC.STATE\n",
    "sdata"
   ]
  },
  {
   "cell_type": "markdown",
   "id": "06422c1a",
   "metadata": {},
   "source": [
    "The spatially uniform states based on this data are created by"
   ]
  },
  {
   "cell_type": "code",
   "execution_count": null,
   "id": "72ce9e65",
   "metadata": {},
   "outputs": [],
   "source": [
    "states = foxes.input.states.StatesTable(\n",
    "    sdata,\n",
    "    output_vars=[FV.WS, FV.WD, FV.TI, FV.RHO],\n",
    "    fixed_vars={FV.TI: 0.05, FV.RHO: 1.225},\n",
    ")"
   ]
  },
  {
   "cell_type": "markdown",
   "id": "0fe5f6ab",
   "metadata": {},
   "source": [
    "We consider a simple row of turbines as our wind farm:"
   ]
  },
  {
   "cell_type": "code",
   "execution_count": null,
   "id": "6fbb6546",
   "metadata": {},
   "outputs": [],
   "source": [
    "farm = foxes.WindFarm()\n",
    "foxes.input.farm_layout.add_row(\n",
    "    farm=farm,\n",
    "    xy_base=[0.0, 0.0],\n",
    "    xy_step=[800.0, 0.0],\n",
    "    n_turbines=3,\n",
    "    turbine_models=[\"DTU10MW\"],\n",
    "    verbosity=0,\n",
    ")"
   ]
  },
  {
   "cell_type": "markdown",
   "id": "7e4a6d58",
   "metadata": {},
   "source": [
    "Now let's create the operational flag for the 3 states and 3 turbines:"
   ]
  },
  {
   "cell_type": "code",
   "execution_count": null,
   "id": "ac6f3654",
   "metadata": {},
   "outputs": [],
   "source": [
    "odata = xr.Dataset({\n",
    "    FV.OPERATING: (\n",
    "        (FC.STATE, FC.TURBINE),\n",
    "        np.array(\n",
    "            [\n",
    "                [1, 1, 1],\n",
    "                [0, 1, 1],\n",
    "                [0, 0, 1],\n",
    "            ], dtype=bool)    \n",
    "    )\n",
    "})\n",
    "odata[FV.OPERATING].values"
   ]
  },
  {
   "cell_type": "markdown",
   "id": "3df74ca7",
   "metadata": {},
   "source": [
    "We now create the `OpFlagController` based on this data, and select it when creating the algorithm object:"
   ]
  },
  {
   "cell_type": "code",
   "execution_count": null,
   "id": "8c7ded2a",
   "metadata": {},
   "outputs": [],
   "source": [
    "mbook = foxes.ModelBook()\n",
    "mbook.farm_controllers[\"op_cntrl\"] = foxes.models.farm_controllers.OpFlagController(\n",
    "    odata\n",
    ")"
   ]
  },
  {
   "cell_type": "code",
   "execution_count": null,
   "id": "31eb1de5",
   "metadata": {},
   "outputs": [],
   "source": [
    "algo = foxes.algorithms.Downwind(\n",
    "    farm,\n",
    "    states,\n",
    "    wake_models=[\"Bastankhah2014_linear_lim_k004\"],\n",
    "    farm_controller=\"op_cntrl\",\n",
    "    mbook=mbook,\n",
    ")"
   ]
  },
  {
   "cell_type": "markdown",
   "id": "232cfd13",
   "metadata": {},
   "source": [
    "We can now calculate the farm results:"
   ]
  },
  {
   "cell_type": "code",
   "execution_count": null,
   "id": "9704fbe9",
   "metadata": {},
   "outputs": [],
   "source": [
    "farm_results = algo.calc_farm()\n",
    "farm_results.to_dataframe()[[FV.WD, FV.AMB_REWS, FV.REWS, FV.CT, FV.P, FV.OPERATING]]"
   ]
  },
  {
   "cell_type": "markdown",
   "id": "ac2b14dd",
   "metadata": {},
   "source": [
    "Indeed the power and ct values are zero for non-operating turbines. In fact the turbine type and all other turbine models are not evaluated at all for those turbines. The non-operating values for the variables are zero for `FV.P` and `FV.CT` and `np.nan` for the rest. This choices can be overloaded by passing a dictionary for the parameter `non_op_values` in the constructor of the `OpFlagController` class."
   ]
  },
  {
   "cell_type": "markdown",
   "id": "89f76f3b",
   "metadata": {},
   "source": [
    "One way of visualizing the power pattern for all states and turbines is the `StateTurbineMap`, indicating the zero power results for the switched-off turbines:"
   ]
  },
  {
   "cell_type": "code",
   "execution_count": null,
   "id": "cdc3f99a",
   "metadata": {},
   "outputs": [],
   "source": [
    "o = foxes.output.StateTurbineMap(farm_results)\n",
    "ax = o.plot_map(FV.P, cbar_label=\"Power [kW]\")"
   ]
  },
  {
   "cell_type": "markdown",
   "id": "d0181d02",
   "metadata": {},
   "source": [
    "Finally, let's look at the flow fields of the three states. The non-operating turbines do not contribute to the wakes:"
   ]
  },
  {
   "cell_type": "code",
   "execution_count": null,
   "id": "26c8b203",
   "metadata": {},
   "outputs": [],
   "source": [
    "o = foxes.output.FlowPlots2D(algo, farm_results)\n",
    "g = o.gen_states_fig_xy(FV.WS, resolution=10, xmin=-500, xmax=2500, verbosity=0)\n",
    "for fig in g:\n",
    "    plt.show()"
   ]
  }
 ],
 "metadata": {
  "kernelspec": {
   "display_name": "foxes",
   "language": "python",
   "name": "python3"
  },
  "language_info": {
   "codemirror_mode": {
    "name": "ipython",
    "version": 3
   },
   "file_extension": ".py",
   "mimetype": "text/x-python",
   "name": "python",
   "nbconvert_exporter": "python",
   "pygments_lexer": "ipython3",
   "version": "3.12.3"
  }
 },
 "nbformat": 4,
 "nbformat_minor": 5
}
