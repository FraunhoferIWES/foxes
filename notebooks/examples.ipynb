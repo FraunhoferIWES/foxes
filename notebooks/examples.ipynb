{
 "cells": [
  {
   "cell_type": "markdown",
   "metadata": {},
   "source": [
    "# Examples"
   ]
  },
  {
   "cell_type": "markdown",
   "metadata": {},
   "source": [
    "## The model book"
   ]
  },
  {
   "cell_type": "markdown",
   "metadata": {},
   "source": [
    "This example only requires the `foxes` package:"
   ]
  },
  {
   "cell_type": "code",
   "execution_count": 1,
   "metadata": {},
   "outputs": [],
   "source": [
    "import foxes"
   ]
  },
  {
   "cell_type": "markdown",
   "metadata": {},
   "source": [
    "The `model book` contains all models that are selectable during a `foxes` run. They are organized according to their model type and stored under a `str` type key, i.e., the model name. The default constructor of the `ModelBook` class provides a number of default models, and the complete list can be printed using the `print_toc` function:"
   ]
  },
  {
   "cell_type": "code",
   "execution_count": 2,
   "metadata": {},
   "outputs": [
    {
     "name": "stdout",
     "output_type": "stream",
     "text": [
      "farm_controllers\n",
      "----------------\n",
      "basic_ctrl: basic_ctrl (BasicFarmController)\n",
      "\n",
      "farm_models\n",
      "-----------\n",
      "farm_kTI: Turbine2FarmModel(kTI(kTI=None, ti=TI))\n",
      "farm_kTI_02: Turbine2FarmModel(kTI_02 (kTI)(kTI=0.2, ti=TI))\n",
      "farm_kTI_04: Turbine2FarmModel(kTI_04 (kTI)(kTI=0.4, ti=TI))\n",
      "farm_kTI_amb: Turbine2FarmModel(kTI_amb (kTI)(kTI=None, ti=AMB_TI))\n",
      "farm_kTI_amb_02: Turbine2FarmModel(kTI_amb_02 (kTI)(kTI=0.2, ti=AMB_TI))\n",
      "farm_kTI_amb_04: Turbine2FarmModel(kTI_amb_04 (kTI)(kTI=0.4, ti=AMB_TI))\n",
      "\n",
      "partial_wakes\n",
      "-------------\n",
      "auto: auto (Mapped)\n",
      "axiwake10: axiwake10 (PartialAxiwake)(n=10)\n",
      "axiwake2: axiwake2 (PartialAxiwake)(n=2)\n",
      "axiwake20: axiwake20 (PartialAxiwake)(n=20)\n",
      "axiwake3: axiwake3 (PartialAxiwake)(n=3)\n",
      "axiwake4: axiwake4 (PartialAxiwake)(n=4)\n",
      "axiwake5: axiwake5 (PartialAxiwake)(n=5)\n",
      "axiwake6: axiwake6 (PartialAxiwake)(n=6)\n",
      "axiwake7: axiwake7 (PartialAxiwake)(n=7)\n",
      "axiwake8: axiwake8 (PartialAxiwake)(n=8)\n",
      "axiwake9: axiwake9 (PartialAxiwake)(n=9)\n",
      "distsliced: distsliced (PartialDistSlicedWake)\n",
      "distsliced100: distsliced100 (PartialDistSlicedWake)(n=10)\n",
      "distsliced16: distsliced16 (PartialDistSlicedWake)(n=4)\n",
      "distsliced25: distsliced25 (PartialDistSlicedWake)(n=5)\n",
      "distsliced36: distsliced36 (PartialDistSlicedWake)(n=6)\n",
      "distsliced4: distsliced4 (PartialDistSlicedWake)(n=2)\n",
      "distsliced400: distsliced400 (PartialDistSlicedWake)(n=20)\n",
      "distsliced49: distsliced49 (PartialDistSlicedWake)(n=7)\n",
      "distsliced64: distsliced64 (PartialDistSlicedWake)(n=8)\n",
      "distsliced81: distsliced81 (PartialDistSlicedWake)(n=9)\n",
      "distsliced9: distsliced9 (PartialDistSlicedWake)(n=3)\n",
      "grid100: grid100 (PartialGrid)(n=10)\n",
      "grid16: grid16 (PartialGrid)(n=4)\n",
      "grid25: grid25 (PartialGrid)(n=5)\n",
      "grid36: grid36 (PartialGrid)(n=6)\n",
      "grid4: grid4 (PartialGrid)(n=2)\n",
      "grid400: grid400 (PartialGrid)(n=20)\n",
      "grid49: grid49 (PartialGrid)(n=7)\n",
      "grid64: grid64 (PartialGrid)(n=8)\n",
      "grid81: grid81 (PartialGrid)(n=9)\n",
      "grid9: grid9 (PartialGrid)(n=3)\n",
      "rotor_points: rotor_points (RotorPoints)\n",
      "top_hat: top_hat (PartialTopHat)\n",
      "\n",
      "point_models\n",
      "------------\n",
      "(none)\n",
      "\n",
      "rotor_models\n",
      "------------\n",
      "centre: centre (CentreRotor)\n",
      "grid100: grid100 (GridRotor)(n=10)\n",
      "grid16: grid16 (GridRotor)(n=4)\n",
      "grid25: grid25 (GridRotor)(n=5)\n",
      "grid36: grid36 (GridRotor)(n=6)\n",
      "grid4: grid4 (GridRotor)(n=2)\n",
      "grid400: grid400 (GridRotor)(n=20)\n",
      "grid49: grid49 (GridRotor)(n=7)\n",
      "grid64: grid64 (GridRotor)(n=8)\n",
      "grid81: grid81 (GridRotor)(n=9)\n",
      "grid9: grid9 (GridRotor)(n=3)\n",
      "\n",
      "turbine_models\n",
      "--------------\n",
      "kTI: kTI(kTI=None, ti=TI)\n",
      "kTI_02: kTI_02 (kTI)(kTI=0.2, ti=TI)\n",
      "kTI_04: kTI_04 (kTI)(kTI=0.4, ti=TI)\n",
      "kTI_amb: kTI_amb (kTI)(kTI=None, ti=AMB_TI)\n",
      "kTI_amb_02: kTI_amb_02 (kTI)(kTI=0.2, ti=AMB_TI)\n",
      "kTI_amb_04: kTI_amb_04 (kTI)(kTI=0.4, ti=AMB_TI)\n",
      "\n",
      "turbine_orders\n",
      "--------------\n",
      "order_wd: order_wd (OrderWD)\n",
      "\n",
      "turbine_types\n",
      "-------------\n",
      "(none)\n",
      "\n",
      "wake_frames\n",
      "-----------\n",
      "rotor_wd: rotor_wd (RotorWD)\n",
      "\n",
      "wake_models\n",
      "-----------\n",
      "Bastankhah_linear: Bastankhah_linear (BastankhahWake)(k=None, sp=linear)\n",
      "Bastankhah_linear_amb: Bastankhah_linear_amb (BastankhahWake)(k=None, sp=linear_amb)\n",
      "Bastankhah_linear_amb_k002: Bastankhah_linear_amb_k002 (BastankhahWake)(k=0.02, sp=linear_amb)\n",
      "Bastankhah_linear_k002: Bastankhah_linear_k002 (BastankhahWake)(k=0.02, sp=linear)\n",
      "CrespoHernandez_linear: CrespoHernandez_linear (CrespoHernandezTIWake)(k=None, sp=ti_linear)\n",
      "CrespoHernandez_linear_k002: CrespoHernandez_linear_k002 (CrespoHernandezTIWake)(k=0.02, sp=ti_linear)\n",
      "CrespoHernandez_quadratic: CrespoHernandez_quadratic (CrespoHernandezTIWake)(k=None, sp=ti_quadratic)\n",
      "CrespoHernandez_quadratic_k002: CrespoHernandez_quadratic_k002 (CrespoHernandezTIWake)(k=0.02, sp=ti_quadratic)\n",
      "Jensen_linear: Jensen_linear (JensenWake)(k=None, sp=linear)\n",
      "Jensen_linear_amb: Jensen_linear_amb (JensenWake)(k=None, sp=linear_amb)\n",
      "Jensen_linear_amb_k007: Jensen_linear_amb_k007 (JensenWake)(k=0.07, sp=linear_amb)\n",
      "Jensen_linear_k007: Jensen_linear_k007 (JensenWake)(k=0.07, sp=linear)\n",
      "\n",
      "wake_superpositions\n",
      "-------------------\n",
      "linear: linear (LinearWakeSuperposition)\n",
      "linear_amb: linear_amb (LinearWakeSuperposition)\n",
      "ti_linear: ti_linear (TISuperposition)\n",
      "ti_quadratic: ti_quadratic (TISuperposition)\n",
      "\n"
     ]
    }
   ],
   "source": [
    "mbook = foxes.models.ModelBook()\n",
    "mbook.print_toc()"
   ]
  },
  {
   "cell_type": "markdown",
   "metadata": {},
   "source": [
    "You can simply add a model by storing the model object under the new model name, for example:"
   ]
  },
  {
   "cell_type": "code",
   "execution_count": 3,
   "metadata": {},
   "outputs": [],
   "source": [
    "mbook.wake_models[\"Jensen_linear_k004\"] = \\\n",
    "    foxes.models.wake_models.top_hat.JensenWake(k=0.04, superposition=\"linear\")"
   ]
  },
  {
   "cell_type": "code",
   "execution_count": 4,
   "metadata": {},
   "outputs": [
    {
     "name": "stdout",
     "output_type": "stream",
     "text": [
      "wake_models\n",
      "-----------\n",
      "Jensen_linear: Jensen_linear (JensenWake)(k=None, sp=linear)\n",
      "Jensen_linear_amb: Jensen_linear_amb (JensenWake)(k=None, sp=linear_amb)\n",
      "Jensen_linear_amb_k007: Jensen_linear_amb_k007 (JensenWake)(k=0.07, sp=linear_amb)\n",
      "Jensen_linear_k004: JensenWake(k=0.04, sp=linear)\n",
      "Jensen_linear_k007: Jensen_linear_k007 (JensenWake)(k=0.07, sp=linear)\n",
      "\n"
     ]
    }
   ],
   "source": [
    "mbook.print_toc(subset=\"wake_models\", search=\"Jensen\")"
   ]
  },
  {
   "cell_type": "markdown",
   "metadata": {},
   "source": [
    "## Single row of turbines"
   ]
  },
  {
   "cell_type": "markdown",
   "metadata": {},
   "source": [
    "We start with the imports for this example:"
   ]
  },
  {
   "cell_type": "code",
   "execution_count": 5,
   "metadata": {},
   "outputs": [],
   "source": [
    "import numpy as np\n",
    "import matplotlib.pyplot as plt\n",
    "\n",
    "import foxes\n",
    "import foxes.variables as FV"
   ]
  },
  {
   "cell_type": "markdown",
   "metadata": {},
   "source": [
    "The `foxes` setup consists of creating: \n",
    "\n",
    "1. The so-called `model book`, which contains all selectable models\n",
    "2. Ambient wind conditions, called `states` in `foxes` terminology\n",
    "3. The `wind farm`, collecting all turbine information\n",
    "4. The `algorithm` with its parameters and model choices\n",
    "\n",
    "Here is a simple example for a single row of turbines along the x axis and a uniform wind speed with wind direction 270°:"
   ]
  },
  {
   "cell_type": "code",
   "execution_count": 6,
   "metadata": {
    "scrolled": true
   },
   "outputs": [],
   "source": [
    "# Create model book and add turbine type model:\n",
    "# The csv file will be searched in the file system,\n",
    "# and if not found, taken from static library\n",
    "mbook = foxes.ModelBook()\n",
    "mbook.turbine_types[\"NREL5\"] = foxes.models.turbine_types.PCtFile(\"NREL-5MW-D126-H90.csv\")\n",
    "\n",
    "# create ambient wind conditions, a single uniform state:\n",
    "states = foxes.input.states.SingleStateStates(ws=9., wd=270., ti=0.06, rho=1.225)\n",
    "\n",
    "# create wind farm, a single row of turbines:\n",
    "farm = foxes.WindFarm()\n",
    "foxes.input.farm_layout.add_row(\n",
    "    farm=farm,\n",
    "    xy_base=[0., 0.], \n",
    "    xy_step=[800., 0.], \n",
    "    n_turbines=5,\n",
    "    turbine_models=[\"NREL5\"],\n",
    "    verbosity=0\n",
    ")\n",
    "\n",
    "# setup the calculation algorithm:\n",
    "algo = foxes.algorithms.Downwind(mbook, farm, states, verbosity=0,\n",
    "                                 wake_models=[\"Jensen_linear_k007\"])"
   ]
  },
  {
   "cell_type": "markdown",
   "metadata": {},
   "source": [
    "Now we can ask the `algorithm` object to run the calculation. This returns a `xarray.Dataset` object with results for each state and turbine:"
   ]
  },
  {
   "cell_type": "code",
   "execution_count": 7,
   "metadata": {
    "scrolled": true
   },
   "outputs": [
    {
     "name": "stdout",
     "output_type": "stream",
     "text": [
      "\n",
      "Farm results:\n",
      " <xarray.Dataset>\n",
      "Dimensions:    (state: 1, turbine: 5)\n",
      "Dimensions without coordinates: state, turbine\n",
      "Data variables: (12/24)\n",
      "    weight     (state, turbine) float64 1.0 1.0 1.0 1.0 1.0\n",
      "    X          (state, turbine) float64 0.0 800.0 1.6e+03 2.4e+03 3.2e+03\n",
      "    Y          (state, turbine) float64 0.0 0.0 0.0 0.0 0.0\n",
      "    H          (state, turbine) float64 90.0 90.0 90.0 90.0 90.0\n",
      "    D          (state, turbine) float64 126.0 126.0 126.0 126.0 126.0\n",
      "    P          (state, turbine) float64 2.519e+03 1.557e+03 ... 1.107e+03\n",
      "    ...         ...\n",
      "    AMB_REWS3  (state, turbine) float64 9.0 9.0 9.0 9.0 9.0\n",
      "    AMB_TI     (state, turbine) float64 0.06 0.06 0.06 0.06 0.06\n",
      "    AMB_RHO    (state, turbine) float64 1.225 1.225 1.225 1.225 1.225\n",
      "    order      (state, turbine) float64 0.0 1.0 2.0 3.0 4.0\n",
      "    AMB_P      (state, turbine) float64 2.519e+03 2.519e+03 ... 2.519e+03\n",
      "    AMB_CT     (state, turbine) float64 0.79 0.79 0.79 0.79 0.79\n"
     ]
    }
   ],
   "source": [
    "farm_results = algo.calc_farm()\n",
    "print(\"\\nFarm results:\\n\", farm_results)"
   ]
  },
  {
   "cell_type": "markdown",
   "metadata": {},
   "source": [
    "For a convenient summary printout we can easily convert the results into a `pandas.DataFrame`:"
   ]
  },
  {
   "cell_type": "code",
   "execution_count": 8,
   "metadata": {},
   "outputs": [
    {
     "name": "stdout",
     "output_type": "stream",
     "text": [
      "                  WD  AMB_REWS      REWS    TI   AMB_P            P        CT\n",
      "state turbine                                                                \n",
      "0     0        270.0       9.0  9.000000  0.06  2518.6  2518.600000  0.790000\n",
      "      1        270.0       9.0  7.633459  0.06  2518.6  1557.076947  0.803665\n",
      "      2        270.0       9.0  7.176627  0.06  2518.6  1290.332498  0.808234\n",
      "      3        270.0       9.0  6.955794  0.06  2518.6  1167.325199  0.812210\n",
      "      4        270.0       9.0  6.821354  0.06  2518.6  1106.880886  0.818932\n"
     ]
    }
   ],
   "source": [
    "fr = farm_results.to_dataframe()\n",
    "print(fr[[FV.WD, FV.AMB_REWS, FV.REWS, FV.TI, FV.AMB_P, FV.P, FV.CT]])"
   ]
  },
  {
   "cell_type": "markdown",
   "metadata": {},
   "source": [
    "Once the farm calculation results are ready, we can evaluate the wake corrected flow and all points of interest. For example, we can evaluate the wind speed along the centre line:"
   ]
  },
  {
   "cell_type": "code",
   "execution_count": 9,
   "metadata": {},
   "outputs": [
    {
     "name": "stdout",
     "output_type": "stream",
     "text": [
      "\n",
      "Point results:\n",
      " <xarray.Dataset>\n",
      "Dimensions:  (state: 1, point: 8000)\n",
      "Dimensions without coordinates: state, point\n",
      "Data variables:\n",
      "    WS       (state, point) float64 9.0 9.0 9.0 9.0 ... 8.916 8.916 8.916 8.916\n",
      "    WD       (state, point) float64 270.0 270.0 270.0 ... 270.0 270.0 270.0\n",
      "    TI       (state, point) float64 0.06 0.06 0.06 0.06 ... 0.06 0.06 0.06 0.06\n",
      "    RHO      (state, point) float64 1.225 1.225 1.225 ... 1.225 1.225 1.225\n",
      "    AMB_WS   (state, point) float64 9.0 9.0 9.0 9.0 9.0 ... 9.0 9.0 9.0 9.0 9.0\n",
      "    AMB_WD   (state, point) float64 270.0 270.0 270.0 ... 270.0 270.0 270.0\n",
      "    AMB_TI   (state, point) float64 0.06 0.06 0.06 0.06 ... 0.06 0.06 0.06 0.06\n",
      "    AMB_RHO  (state, point) float64 1.225 1.225 1.225 ... 1.225 1.225 1.225\n"
     ]
    },
    {
     "data": {
      "image/png": "[encoded data removed]",
      "text/plain": [
       "<Figure size 720x360 with 1 Axes>"
      ]
     },
     "metadata": {
      "needs_background": "light"
     },
     "output_type": "display_data"
    }
   ],
   "source": [
    "# create points of interest, shape (n_states, n_points, 3):\n",
    "n_points = 8000\n",
    "points   = np.zeros((1, n_points, 3))\n",
    "points[:, :, 0] = np.linspace(-100., 15000., n_points)[None, :]\n",
    "\n",
    "# calculate point results:\n",
    "point_results = algo.calc_points(farm_results, points)\n",
    "print(\"\\nPoint results:\\n\", point_results)\n",
    "\n",
    "# create figure:\n",
    "fig, ax = plt.subplots(figsize=(10, 5))\n",
    "ax.plot(points[0, :, 0], point_results[FV.WS][0, :])\n",
    "ax.set_xlabel(\"x [m]\")\n",
    "ax.set_ylabel(\"Wind speed [m/s]\")\n",
    "plt.show()"
   ]
  },
  {
   "cell_type": "markdown",
   "metadata": {},
   "source": [
    "The `foxes.output` package provides a collection of standard outputs. For example, we can visualize the flow field in a horizontal slice at hub height:"
   ]
  },
  {
   "cell_type": "code",
   "execution_count": 10,
   "metadata": {
    "scrolled": true
   },
   "outputs": [
    {
     "data": {
      "image/png": "[encoded data removed]",
      "text/plain": [
       "<Figure size 720x360 with 2 Axes>"
      ]
     },
     "metadata": {
      "needs_background": "light"
     },
     "output_type": "display_data"
    }
   ],
   "source": [
    "o   = foxes.output.FlowPlots2D(algo, farm_results)\n",
    "g   = o.gen_states_fig_horizontal(\"WS\", resolution=10, figsize=(10,5), verbosity=0)\n",
    "fig = next(g) # creates the figure for the next state, here there is only state 0\n",
    "plt.show()"
   ]
  },
  {
   "cell_type": "markdown",
   "metadata": {},
   "source": [
    "## Timeseries data"
   ]
  },
  {
   "cell_type": "markdown",
   "metadata": {},
   "source": [
    "In this example we calculate the data of a wind farm with 67 turbines in a time series containing 8000 uniform inflow states.\n",
    "\n",
    "The required imports are:"
   ]
  },
  {
   "cell_type": "code",
   "execution_count": 11,
   "metadata": {},
   "outputs": [],
   "source": [
    "import dask\n",
    "from dask.distributed import Client, LocalCluster\n",
    "from dask.diagnostics import ProgressBar\n",
    "import matplotlib.pyplot as plt\n",
    "\n",
    "import foxes"
   ]
  },
  {
   "cell_type": "markdown",
   "metadata": {},
   "source": [
    "First, we create the `model book`, adding the turbine type model (see examples above):"
   ]
  },
  {
   "cell_type": "code",
   "execution_count": 12,
   "metadata": {},
   "outputs": [],
   "source": [
    "mbook = foxes.ModelBook()\n",
    "mbook.turbine_types[\"NREL5\"] = foxes.models.turbine_types.PCtFile(\"NREL-5MW-D126-H90.csv\")"
   ]
  },
  {
   "cell_type": "markdown",
   "metadata": {},
   "source": [
    "Next, we create the `states`. The `data_source` can be any csv-type file (or `pandas` readable equivalent), or a `pandas.DataFrame` object. If it is a file path, then it will first be searched in the file system, and if not found, in the static data. If it is also not found there, an error showing the available static data file names is displayed.\n",
    "\n",
    "In this example the static data file `timeseries_8000.csv.gz` will be used, with content\n",
    "```\n",
    "Time,ws,wd,ti\n",
    "2017-01-01 00:00:00,15.62,244.06,0.0504\n",
    "2017-01-01 00:30:00,15.99,243.03,0.0514\n",
    "2017-01-01 01:00:00,16.31,243.01,0.0522\n",
    "2017-01-01 01:30:00,16.33,241.26,0.0523\n",
    "...\n",
    "```\n",
    "Notice the column names, and how they appear in the `foxes.Timeseries` constructor:"
   ]
  },
  {
   "cell_type": "code",
   "execution_count": 13,
   "metadata": {},
   "outputs": [],
   "source": [
    "states = foxes.input.states.Timeseries(\n",
    "    data_source=\"timeseries_8000.csv.gz\",\n",
    "    output_vars=[FV.WS, FV.WD, FV.TI, FV.RHO],\n",
    "    var2col={FV.WS: \"ws\", FV.WD: \"wd\", FV.TI: \"ti\"},\n",
    "    fixed_vars={FV.RHO: 1.225}\n",
    ")"
   ]
  },
  {
   "cell_type": "markdown",
   "metadata": {},
   "source": [
    "Likewise, we create the example wind farm with 67 turbines from static data. The file `test_farm_67.csv` has the following structure:\n",
    "```\n",
    "index,label,x,y\n",
    "0,T0,101872.70,1004753.57\n",
    "1,T1,103659.97,1002993.29\n",
    "2,T2,100780.09,1000779.97\n",
    "3,T3,100290.42,1004330.88\n",
    "...\n",
    "```\n",
    "For more options, check the API section `foxes.input.farm_layout`. \n",
    "\n",
    "We consider two turbine models in this example: the wind turbine type `NREL5` from above, and the model `kTI_02` from the `model book`. This model adds the variable `k` for each state and turbine, calculated as `k = kTI * TI`, with constant `kTI = 0.2`. The parameter `k` will later be used by the wake model."
   ]
  },
  {
   "cell_type": "code",
   "execution_count": 14,
   "metadata": {},
   "outputs": [],
   "source": [
    "farm = foxes.WindFarm()\n",
    "foxes.input.farm_layout.add_from_file(\n",
    "    farm,\n",
    "    \"test_farm_67.csv\",\n",
    "    turbine_models=[\"kTI_02\", \"NREL5\"],\n",
    "    verbosity=0\n",
    ")"
   ]
  },
  {
   "cell_type": "markdown",
   "metadata": {},
   "source": [
    "Next, we create the `algorithm`, with further model selections. In particular, two wake models are invoked, the model `Bastankhah_linear` for wind speed deficits and the model `CrespoHernandez_quadratic` for turbulence intensity:"
   ]
  },
  {
   "cell_type": "code",
   "execution_count": 15,
   "metadata": {},
   "outputs": [],
   "source": [
    "algo = foxes.algorithms.Downwind(\n",
    "            mbook,\n",
    "            farm,\n",
    "            states=states,\n",
    "            rotor_model=\"centre\",\n",
    "            turbine_order=\"order_wd\",\n",
    "            wake_models=[\"Bastankhah_linear\", \"CrespoHernandez_quadratic\"],\n",
    "            wake_frame=\"rotor_wd\",\n",
    "            partial_wakes_model=\"auto\",\n",
    "            chunks={FV.STATE: 1000},\n",
    "            verbosity=0\n",
    "        )"
   ]
  },
  {
   "cell_type": "markdown",
   "metadata": {},
   "source": [
    "Also notice the `chunks` parameter, specifying that always 1000 states should be considered in vectorized form during calculations. The progress can be visualized using `dask`'s `ProgressBar`:"
   ]
  },
  {
   "cell_type": "code",
   "execution_count": 16,
   "metadata": {
    "scrolled": false
   },
   "outputs": [
    {
     "name": "stdout",
     "output_type": "stream",
     "text": [
      "[########################################] | 100% Completed |  0.1s\n",
      "[########################################] | 100% Completed | 23.2s\n",
      "[########################################] | 100% Completed |  0.1s\n",
      "\n",
      "                                  WD  AMB_REWS       REWS    AMB_P            P\n",
      "state               turbine                                                   \n",
      "2017-01-01 00:00:00 0        244.06     15.62  15.595077  5000.00  5000.000000\n",
      "                    1        244.06     15.62  14.018359  5000.00  5000.000000\n",
      "                    2        244.06     15.62  15.067607  5000.00  5000.000000\n",
      "                    3        244.06     15.62  15.522240  5000.00  5000.000000\n",
      "                    4        244.06     15.62  14.555445  5000.00  5000.000000\n",
      "...                             ...       ...        ...      ...          ...\n",
      "2017-06-16 15:30:00 62       299.19     11.70   9.195743  4868.75  2700.601871\n",
      "                    63       299.19     11.70  11.422432  4868.75  4747.313968\n",
      "                    64       299.19     11.70  11.700000  4868.75  4868.750000\n",
      "                    65       299.19     11.70  11.605624  4868.75  4827.460555\n",
      "                    66       299.19     11.70   9.498320  4868.75  2981.937858\n",
      "\n",
      "[536000 rows x 5 columns]\n"
     ]
    }
   ],
   "source": [
    "with ProgressBar():\n",
    "    farm_results = algo.calc_farm()\n",
    "\n",
    "fr = farm_results.to_dataframe()\n",
    "print(\"\\n\", fr[[FV.WD, FV.AMB_REWS, FV.REWS, FV.AMB_P, FV.P]])"
   ]
  }
 ],
 "metadata": {
  "kernelspec": {
   "display_name": "Python 3",
   "language": "python",
   "name": "python3"
  },
  "language_info": {
   "codemirror_mode": {
    "name": "ipython",
    "version": 3
   },
   "file_extension": ".py",
   "mimetype": "text/x-python",
   "name": "python",
   "nbconvert_exporter": "python",
   "pygments_lexer": "ipython3",
   "version": "3.8.10"
  },
  "vscode": {
   "interpreter": {
    "hash": "31f2aee4e71d21fbe5cf8b01ff0e069b9275f58929596ceb00d14d90e3e16cd6"
   }
  }
 },
 "nbformat": 4,
 "nbformat_minor": 2
}
