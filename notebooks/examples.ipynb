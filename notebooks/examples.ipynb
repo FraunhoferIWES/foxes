{
 "cells": [
  {
   "cell_type": "markdown",
   "metadata": {},
   "source": [
    "# Examples"
   ]
  },
  {
   "cell_type": "markdown",
   "metadata": {},
   "source": [
    "## The model book"
   ]
  },
  {
   "cell_type": "markdown",
   "metadata": {},
   "source": [
    "This example only requires the `foxes` package:"
   ]
  },
  {
   "cell_type": "code",
   "execution_count": null,
   "metadata": {},
   "outputs": [],
   "source": [
    "import foxes"
   ]
  },
  {
   "cell_type": "markdown",
   "metadata": {},
   "source": [
    "The `model book` contains all models that are selectable during a `foxes` run. They are organized according to their model type and stored under a `str` type key, i.e., the model name. The default constructor of the `ModelBook` class provides a number of default models, and the complete list can be printed using the `print_toc` function:"
   ]
  },
  {
   "cell_type": "code",
   "execution_count": null,
   "metadata": {},
   "outputs": [],
   "source": [
    "mbook = foxes.models.ModelBook()\n",
    "mbook.print_toc()"
   ]
  },
  {
   "cell_type": "markdown",
   "metadata": {},
   "source": [
    "You can simply add a model by storing the model object under the new model name, for example:"
   ]
  },
  {
   "cell_type": "code",
   "execution_count": null,
   "metadata": {},
   "outputs": [],
   "source": [
    "mbook.wake_models[\"Jensen_linear_k004\"] = foxes.models.wake_models.top_hat.JensenWake(\n",
    "    k=0.04, superposition=\"linear\"\n",
    ")"
   ]
  },
  {
   "cell_type": "code",
   "execution_count": null,
   "metadata": {},
   "outputs": [],
   "source": [
    "mbook.print_toc(subset=\"wake_models\", search=\"Jensen\")"
   ]
  },
  {
   "cell_type": "markdown",
   "metadata": {},
   "source": [
    "## Single row of turbines"
   ]
  },
  {
   "cell_type": "markdown",
   "metadata": {},
   "source": [
    "We start with the imports for this example:"
   ]
  },
  {
   "cell_type": "code",
   "execution_count": null,
   "metadata": {},
   "outputs": [],
   "source": [
    "import numpy as np\n",
    "import matplotlib.pyplot as plt\n",
    "\n",
    "import foxes\n",
    "import foxes.variables as FV"
   ]
  },
  {
   "cell_type": "markdown",
   "metadata": {},
   "source": [
    "The `foxes` setup consists of creating: \n",
    "\n",
    "1. The so-called `model book`, which contains all selectable models\n",
    "2. Ambient wind conditions, called `states` in `foxes` terminology\n",
    "3. The `wind farm`, collecting all turbine information\n",
    "4. The `algorithm` with its parameters and model choices\n",
    "\n",
    "Here is a simple example for a single row of turbines along the x axis and a uniform wind speed with wind direction 270°:"
   ]
  },
  {
   "cell_type": "code",
   "execution_count": null,
   "metadata": {
    "scrolled": true
   },
   "outputs": [],
   "source": [
    "# Create model book and add turbine type model:\n",
    "# The csv file will be searched in the file system,\n",
    "# and if not found, taken from static library\n",
    "mbook = foxes.ModelBook()\n",
    "mbook.turbine_types[\"NREL5\"] = foxes.models.turbine_types.PCtFile(\n",
    "    \"NREL-5MW-D126-H90.csv\"\n",
    ")\n",
    "\n",
    "# create ambient wind conditions, a single uniform state:\n",
    "states = foxes.input.states.SingleStateStates(ws=9.0, wd=270.0, ti=0.12, rho=1.225)\n",
    "\n",
    "# create wind farm, a single row of turbines:\n",
    "farm = foxes.WindFarm()\n",
    "foxes.input.farm_layout.add_row(\n",
    "    farm=farm,\n",
    "    xy_base=[0.0, 0.0],\n",
    "    xy_step=[800.0, 0.0],\n",
    "    n_turbines=5,\n",
    "    turbine_models=[\"NREL5\"],\n",
    "    verbosity=0,\n",
    ")\n",
    "\n",
    "# setup the calculation algorithm:\n",
    "algo = foxes.algorithms.Downwind(\n",
    "    mbook, farm, states, verbosity=0, wake_models=[\"Jensen_linear_k007\"]\n",
    ")"
   ]
  },
  {
   "cell_type": "markdown",
   "metadata": {},
   "source": [
    "Now we can ask the `algorithm` object to run the calculation. This returns a `xarray.Dataset` object with results for each state and turbine:"
   ]
  },
  {
   "cell_type": "code",
   "execution_count": null,
   "metadata": {
    "scrolled": true
   },
   "outputs": [],
   "source": [
    "farm_results = algo.calc_farm()\n",
    "print(\"\\nFarm results:\\n\", farm_results)"
   ]
  },
  {
   "cell_type": "markdown",
   "metadata": {},
   "source": [
    "For a convenient summary printout we can easily convert the results into a `pandas.DataFrame`:"
   ]
  },
  {
   "cell_type": "code",
   "execution_count": null,
   "metadata": {},
   "outputs": [],
   "source": [
    "fr = farm_results.to_dataframe()\n",
    "print(fr[[FV.WD, FV.AMB_REWS, FV.REWS, FV.TI, FV.AMB_P, FV.P, FV.CT]])"
   ]
  },
  {
   "cell_type": "markdown",
   "metadata": {},
   "source": [
    "Once the farm calculation results are ready, we can evaluate the wake corrected flow and all points of interest. For example, we can evaluate the wind speed along the centre line:"
   ]
  },
  {
   "cell_type": "code",
   "execution_count": null,
   "metadata": {},
   "outputs": [],
   "source": [
    "# infer hub height from turbine type:\n",
    "H = mbook.turbine_types[\"NREL5\"].H\n",
    "\n",
    "# create points of interest, shape (n_states, n_points, 3):\n",
    "n_points = 8000\n",
    "points = np.zeros((1, n_points, 3))\n",
    "points[:, :, 0] = np.linspace(-100.0, 15000.0, n_points)[None, :]\n",
    "points[:, :, 2] = H\n",
    "\n",
    "# calculate point results:\n",
    "point_results = algo.calc_points(farm_results, points)\n",
    "print(\"\\nPoint results:\\n\", point_results)\n",
    "\n",
    "# create figure:\n",
    "fig, ax = plt.subplots(figsize=(10, 5))\n",
    "ax.plot(points[0, :, 0], point_results[FV.WS][0, :])\n",
    "ax.set_xlabel(\"x [m]\")\n",
    "ax.set_ylabel(\"Wind speed [m/s]\")\n",
    "plt.show()"
   ]
  },
  {
   "cell_type": "markdown",
   "metadata": {},
   "source": [
    "The `foxes.output` package provides a collection of standard outputs. For example, we can visualize the flow field in a horizontal slice at hub height:"
   ]
  },
  {
   "cell_type": "code",
   "execution_count": null,
   "metadata": {
    "scrolled": true
   },
   "outputs": [],
   "source": [
    "o = foxes.output.FlowPlots2D(algo, farm_results)\n",
    "g = o.gen_states_fig_horizontal(\"WS\", resolution=10, figsize=(10, 5), verbosity=0)\n",
    "fig = next(g)  # creates the figure for the next state, here there is only state 0\n",
    "plt.show()"
   ]
  },
  {
   "cell_type": "markdown",
   "metadata": {},
   "source": [
    "## Timeseries data"
   ]
  },
  {
   "cell_type": "markdown",
   "metadata": {},
   "source": [
    "In this example we calculate the data of a wind farm with 67 turbines in a time series containing 8000 uniform inflow states.\n",
    "\n",
    "The required imports are:"
   ]
  },
  {
   "cell_type": "code",
   "execution_count": null,
   "metadata": {},
   "outputs": [],
   "source": [
    "import dask\n",
    "from dask.distributed import Client, LocalCluster\n",
    "from dask.diagnostics import ProgressBar\n",
    "import matplotlib.pyplot as plt\n",
    "\n",
    "import foxes"
   ]
  },
  {
   "cell_type": "markdown",
   "metadata": {},
   "source": [
    "First, we create the `model book`, adding the turbine type model (see examples above):"
   ]
  },
  {
   "cell_type": "code",
   "execution_count": null,
   "metadata": {},
   "outputs": [],
   "source": [
    "mbook = foxes.ModelBook()\n",
    "mbook.turbine_types[\"NREL5\"] = foxes.models.turbine_types.PCtFile(\n",
    "    \"NREL-5MW-D126-H90.csv\"\n",
    ")"
   ]
  },
  {
   "cell_type": "markdown",
   "metadata": {},
   "source": [
    "Next, we create the `states`. The `data_source` can be any csv-type file (or `pandas` readable equivalent), or a `pandas.DataFrame` object. If it is a file path, then it will first be searched in the file system, and if not found, in the static data. If it is also not found there, an error showing the available static data file names is displayed.\n",
    "\n",
    "In this example the static data file `timeseries_8000.csv.gz` will be used, with content\n",
    "```\n",
    "Time,ws,wd,ti\n",
    "2017-01-01 00:00:00,15.62,244.06,0.0504\n",
    "2017-01-01 00:30:00,15.99,243.03,0.0514\n",
    "2017-01-01 01:00:00,16.31,243.01,0.0522\n",
    "2017-01-01 01:30:00,16.33,241.26,0.0523\n",
    "...\n",
    "```\n",
    "Notice the column names, and how they appear in the `foxes.Timeseries` constructor:"
   ]
  },
  {
   "cell_type": "code",
   "execution_count": null,
   "metadata": {},
   "outputs": [],
   "source": [
    "states = foxes.input.states.Timeseries(\n",
    "    data_source=\"timeseries_8000.csv.gz\",\n",
    "    output_vars=[FV.WS, FV.WD, FV.TI, FV.RHO],\n",
    "    var2col={FV.WS: \"ws\", FV.WD: \"wd\", FV.TI: \"ti\"},\n",
    "    fixed_vars={FV.RHO: 1.225},\n",
    ")"
   ]
  },
  {
   "cell_type": "markdown",
   "metadata": {},
   "source": [
    "Likewise, we create the example wind farm with 67 turbines from static data. The file `test_farm_67.csv` has the following structure:\n",
    "```\n",
    "index,label,x,y\n",
    "0,T0,101872.70,1004753.57\n",
    "1,T1,103659.97,1002993.29\n",
    "2,T2,100780.09,1000779.97\n",
    "3,T3,100290.42,1004330.88\n",
    "...\n",
    "```\n",
    "For more options, check the API section `foxes.input.farm_layout`. \n",
    "\n",
    "We consider two turbine models in this example: the wind turbine type `NREL5` from above, and the model `kTI_02` from the `model book`. This model adds the variable `k` for each state and turbine, calculated as `k = kTI * TI`, with constant `kTI = 0.2`. The parameter `k` will later be used by the wake model."
   ]
  },
  {
   "cell_type": "code",
   "execution_count": null,
   "metadata": {},
   "outputs": [],
   "source": [
    "farm = foxes.WindFarm()\n",
    "foxes.input.farm_layout.add_from_file(\n",
    "    farm, \"test_farm_67.csv\", turbine_models=[\"kTI_02\", \"NREL5\"], verbosity=0\n",
    ")"
   ]
  },
  {
   "cell_type": "markdown",
   "metadata": {},
   "source": [
    "Next, we create the `algorithm`, with further model selections. In particular, two wake models are invoked, the model `Bastankhah_linear` for wind speed deficits and the model `CrespoHernandez_quadratic` for turbulence intensity:"
   ]
  },
  {
   "cell_type": "code",
   "execution_count": null,
   "metadata": {},
   "outputs": [],
   "source": [
    "algo = foxes.algorithms.Downwind(\n",
    "    mbook,\n",
    "    farm,\n",
    "    states=states,\n",
    "    rotor_model=\"centre\",\n",
    "    wake_models=[\"Bastankhah_quadratic\", \"CrespoHernandez_max\"],\n",
    "    wake_frame=\"rotor_wd\",\n",
    "    partial_wakes_model=\"auto\",\n",
    "    chunks={FV.STATE: 1000},\n",
    "    verbosity=0,\n",
    ")"
   ]
  },
  {
   "cell_type": "markdown",
   "metadata": {},
   "source": [
    "Also notice the `chunks` parameter, specifying that always 1000 states should be considered in vectorized form during calculations. The progress can be visualized using `dask`'s `ProgressBar`:"
   ]
  },
  {
   "cell_type": "code",
   "execution_count": null,
   "metadata": {
    "scrolled": false
   },
   "outputs": [],
   "source": [
    "with ProgressBar():\n",
    "    farm_results = algo.calc_farm()\n",
    "\n",
    "fr = farm_results.to_dataframe()\n",
    "print(\"\\n\", fr[[FV.WD, FV.AMB_REWS, FV.REWS, FV.AMB_P, FV.P]])"
   ]
  },
  {
   "cell_type": "markdown",
   "metadata": {},
   "source": [
    "For the fun of it, we can also run this example in parallel, on a local cluster. Depending on the system and the problem size, this is not neccessarily faster than the above implicitely used default dask scheduler, and it comes with overhead. But for complex calculations it is extremely useful and can really save the day. Read the [docs](https://docs.dask.org/en/stable/deploying.html) for more details and parameters. The following invokes the default settings for the local cluster:"
   ]
  },
  {
   "cell_type": "code",
   "execution_count": null,
   "metadata": {},
   "outputs": [],
   "source": [
    "print(\"Launching cluster..\")\n",
    "with LocalCluster() as cluster, Client(cluster) as client:\n",
    "    print(cluster)\n",
    "    print(f\"Dashboard: {client.dashboard_link}\\n\")\n",
    "    print(\"Running calculations..\")\n",
    "    farm_results = algo.calc_farm()\n",
    "    print(\"Shutting down cluster..\")\n",
    "\n",
    "fr = farm_results.to_dataframe()\n",
    "print(\"\\n\", fr[[FV.WD, FV.AMB_REWS, FV.REWS, FV.AMB_P, FV.P]])"
   ]
  },
  {
   "cell_type": "markdown",
   "metadata": {},
   "source": [
    "Notice the `Dashboard` link, which is only valid during runtime and in this case is a `localhost` address. The dashboard gives plenty of information of the progress during the run and is a very useful tool provided by dask."
   ]
  },
  {
   "cell_type": "markdown",
   "metadata": {},
   "source": [
    "## Heterogeneous flow"
   ]
  },
  {
   "cell_type": "markdown",
   "metadata": {},
   "source": [
    "The best way to run `foxes` calculations on heterogeneous background flow fields is by providing them in `netCDF` format. They should contain the following coordinates:\n",
    "\n",
    "- A state coordinate, e.g. `Time` (expected by default) or `state`, or similar\n",
    "- A height coordinate, e.g. `height` (expected by default) or `h`, or similar\n",
    "- A `y` coordinate, e.g. `UTMY` (expected by default) or `y`, or similar\n",
    "- A `x` coordinate, e.g. `UTMX` (expected by default) or `x`, or similar\n",
    "\n",
    "The file may contain any kind of `foxes` variables as data fields, e.g.:\n",
    "\n",
    "- Wind speed data, e.g. `WS` (expected by default, if claimed as output variable), `ws` or similar\n",
    "- Wind direction data, e.g. `WD` (expected by default, if claimed as output variable), `wd` or similar\n",
    "- Turbulence intensity data, e.g. `TI` (expected by default, if claimed as output variable), `ti` or similar\n",
    "- Air density data, e.g. `RHO` (expected by default, if claimed as output variable), `rho` or similar\n",
    "\n",
    "All data must depend on the state coordinate, and may depend on the others."
   ]
  },
  {
   "cell_type": "markdown",
   "metadata": {},
   "source": [
    "These are the required imports for this example:"
   ]
  },
  {
   "cell_type": "code",
   "execution_count": null,
   "metadata": {},
   "outputs": [],
   "source": [
    "import matplotlib.pyplot as plt\n",
    "import numpy as np\n",
    "\n",
    "import foxes\n",
    "import foxes.variables as FV"
   ]
  },
  {
   "cell_type": "markdown",
   "metadata": {},
   "source": [
    "One very simple example for `netCDF` type data is provided in the static data, under the name `wind_rotation.nc`. It contains two states, two heights, and simple 2 x 2 horizontal data that describes a uniform wind speed and a varying wind direction. It can be loaded as follows:"
   ]
  },
  {
   "cell_type": "code",
   "execution_count": null,
   "metadata": {},
   "outputs": [],
   "source": [
    "states = foxes.input.states.FieldDataNC(\n",
    "    file_pattern=\"wind_rotation.nc\",\n",
    "    states_coord=\"state\",\n",
    "    x_coord=\"x\",\n",
    "    y_coord=\"y\",\n",
    "    h_coord=\"h\",\n",
    "    time_format=None,\n",
    "    output_vars=[FV.WS, FV.WD, FV.TI, FV.RHO],\n",
    "    var2ncvar={FV.WS: \"ws\", FV.WD: \"wd\"},\n",
    "    fixed_vars={FV.RHO: 1.225, FV.TI: 0.1},\n",
    "    pre_load=True,\n",
    "    bounds_error=False,\n",
    ")"
   ]
  },
  {
   "cell_type": "markdown",
   "metadata": {},
   "source": [
    "Let's place a simple 3 x 3 grid wind farm inside the data domain, which is a rectangle between `(0, 0)` and `(2500, 2500)`:"
   ]
  },
  {
   "cell_type": "code",
   "execution_count": null,
   "metadata": {},
   "outputs": [],
   "source": [
    "farm = foxes.WindFarm()\n",
    "foxes.input.farm_layout.add_grid(\n",
    "    farm,\n",
    "    xy_base=np.array([500.0, 500.0]),\n",
    "    step_vectors=np.array([[500.0, 0], [0, 500.0]]),\n",
    "    steps=(3, 3),\n",
    "    turbine_models=[\"NREL5\"],\n",
    "    verbosity=0,\n",
    ")"
   ]
  },
  {
   "cell_type": "markdown",
   "metadata": {},
   "source": [
    "Again, we use the `NREL 5MW` turbine:"
   ]
  },
  {
   "cell_type": "code",
   "execution_count": null,
   "metadata": {},
   "outputs": [],
   "source": [
    "mbook = foxes.ModelBook()\n",
    "mbook.turbine_types[\"NREL5\"] = foxes.models.turbine_types.PCtFile(\n",
    "    \"NREL-5MW-D126-H90.csv\"\n",
    ")"
   ]
  },
  {
   "cell_type": "markdown",
   "metadata": {},
   "source": [
    "The streamline following wakes are realized by selecting a `wake frame` that is an instance of `foxes.models.wake_frames.Streamlines`, e.g. the model `streamlines_100` in the model book. This model has a streamline step size of 100 m:"
   ]
  },
  {
   "cell_type": "code",
   "execution_count": null,
   "metadata": {},
   "outputs": [],
   "source": [
    "algo = foxes.algorithms.Downwind(\n",
    "    mbook,\n",
    "    farm,\n",
    "    states=states,\n",
    "    rotor_model=\"grid16\",\n",
    "    wake_models=[\"Jensen_linear_k007\"],\n",
    "    wake_frame=\"streamlines_100\",\n",
    "    partial_wakes_model=\"auto\",\n",
    "    chunks={FV.STATE: 1000, FV.POINT: 4000},\n",
    "    verbosity=0,\n",
    ")"
   ]
  },
  {
   "cell_type": "markdown",
   "metadata": {},
   "source": [
    "We run the algorithm, once explicitely for calculating the wind farm data, and once implicitely when creating horizontal flow plots:"
   ]
  },
  {
   "cell_type": "code",
   "execution_count": null,
   "metadata": {},
   "outputs": [],
   "source": [
    "farm_results = algo.calc_farm()\n",
    "\n",
    "fr = farm_results.to_dataframe()\n",
    "print(fr[[FV.WD, FV.AMB_REWS, FV.REWS, FV.AMB_P, FV.P]])\n",
    "\n",
    "o = foxes.output.FlowPlots2D(algo, farm_results)\n",
    "for fig in o.gen_states_fig_horizontal(\n",
    "    FV.WS,\n",
    "    resolution=10,\n",
    "    figsize=(8, 8),\n",
    "    quiver_pars=dict(angles=\"xy\", scale_units=\"xy\", scale=0.07),\n",
    "    quiver_n=15,\n",
    "    xspace=1000,\n",
    "    yspace=1000,\n",
    "):\n",
    "    plt.show()\n",
    "    plt.close(fig)"
   ]
  }
 ],
 "metadata": {
  "kernelspec": {
   "display_name": "Python 3",
   "language": "python",
   "name": "python3"
  },
  "language_info": {
   "codemirror_mode": {
    "name": "ipython",
    "version": 3
   },
   "file_extension": ".py",
   "mimetype": "text/x-python",
   "name": "python",
   "nbconvert_exporter": "python",
   "pygments_lexer": "ipython3",
   "version": "3.8.10"
  },
  "vscode": {
   "interpreter": {
    "hash": "31f2aee4e71d21fbe5cf8b01ff0e069b9275f58929596ceb00d14d90e3e16cd6"
   }
  }
 },
 "nbformat": 4,
 "nbformat_minor": 2
}
