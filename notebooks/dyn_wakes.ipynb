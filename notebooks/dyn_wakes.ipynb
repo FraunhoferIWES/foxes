{
 "cells": [
  {
   "cell_type": "markdown",
   "id": "e1e6585b-7599-425f-8534-68e0f467e1fc",
   "metadata": {},
   "source": [
    "# Dynamic Wakes 1\n",
    "\n",
    "## Wake propagation in heterogeneous backgrounds"
   ]
  },
  {
   "cell_type": "markdown",
   "id": "cc63c27a-37e4-4711-bc97-843481b21d90",
   "metadata": {},
   "source": [
    "_foxes_ can model dynamic wake propagation for timeseries inflow states based on passive transport of the wake flow by the ambient wind vectors. This can be switched on by selecting a wake frame of  `DynamicWakes` type.\n",
    "\n",
    "Since all `foxes` computations are based on _chunks_ of input states, wake propagation only works if\n",
    "\n",
    "- either all states fall into a single chunk,\n",
    "- or the `Iterative` algorithm is used for the calculation.\n",
    "\n",
    "The reason is that in cases where the wake originates from a state that belongs to a chunk previous to the chunk of evaluation, data has to be passed between two different chunks. This is not possible with the default `Downwind` algorithm, since it does not allow cross-chunk communication. Hence iterative computations are required for muti-chunk cases with dynamic wakes.\n",
    "\n",
    "These are the imports for this example:"
   ]
  },
  {
   "cell_type": "code",
   "execution_count": null,
   "id": "d68e2a67",
   "metadata": {},
   "outputs": [],
   "source": [
    "%matplotlib inline\n",
    "import numpy as np\n",
    "import pandas as pd\n",
    "import matplotlib.pyplot as plt\n",
    "\n",
    "import foxes\n",
    "import foxes.constants as FC\n",
    "import foxes.variables as FV\n",
    "\n",
    "plt.rcParams[\"animation.html\"] = \"jshtml\""
   ]
  },
  {
   "cell_type": "markdown",
   "id": "d6caf251",
   "metadata": {},
   "source": [
    "First, we initialize the engine which is then used for all computations:"
   ]
  },
  {
   "cell_type": "code",
   "execution_count": null,
   "id": "7c10c48f",
   "metadata": {},
   "outputs": [],
   "source": [
    "engine = foxes.Engine.new(\"process\", chunk_size_states=20, chunk_size_points=500, n_procs=8)\n",
    "engine.initialize()"
   ]
  },
  {
   "cell_type": "markdown",
   "id": "6f3d1a12-af36-4eb2-a36f-0817b748bf7f",
   "metadata": {},
   "source": [
    "We continue by defining timeseries inflow at a single point. For this example we modify the wind speed data of the underlying data file (which is shipped as part of _foxes_ provided static data), in order to include oscillating time variations:"
   ]
  },
  {
   "cell_type": "code",
   "execution_count": null,
   "id": "8309f51c-70dc-4af6-9ac6-3cc032ecd417",
   "metadata": {},
   "outputs": [],
   "source": [
    "sdata = pd.read_csv(\n",
    "    foxes.StaticData().get_file_path(foxes.STATES, \"timeseries_100.csv.gz\"),\n",
    "    index_col=0,\n",
    "    parse_dates=[0],\n",
    ")\n",
    "n_times = len(sdata.index)\n",
    "sdata[\"ws\"] = 5 + 0.3 * np.sin(np.arange(n_times) * 2 * np.pi / 20)\n",
    "\n",
    "fig, axs = plt.subplots(2, 1, figsize=(9, 3), sharex=True)\n",
    "axs[0].plot(sdata.index, sdata.ws)\n",
    "axs[0].set_ylabel(\"ws [m/s]\")\n",
    "axs[1].plot(sdata.index, sdata.wd)\n",
    "axs[1].set_xlabel(\"Time\")\n",
    "axs[1].set_ylabel(\"wd [deg]\")\n",
    "plt.show()"
   ]
  },
  {
   "cell_type": "markdown",
   "id": "9b3e6b53-76aa-4d43-b883-6d37812b80ba",
   "metadata": {},
   "source": [
    "The above data are defined at a single point. Since we are interested in inhomogeneous background flows, we plug this into the `OnePointFlowTimeseries` states class in the following. This inflow propagates the given local information from the given `ref_xy` location to any other point of evaluation. Similarly to the dynamic wakes approach, this is also based on passive transport by time dependent flow vectors and travel time. Note that this implies that this inflow requires the `Iterative` algorithm, also when combined with non-dynamic wake frames."
   ]
  },
  {
   "cell_type": "code",
   "execution_count": null,
   "id": "a97ade7f-e7bc-4a87-ad75-a0c866bfa140",
   "metadata": {},
   "outputs": [],
   "source": [
    "ref_xy = [2500, 2500]\n",
    "states = foxes.input.states.OnePointFlowTimeseries(\n",
    "    data_source=sdata,\n",
    "    output_vars=[FV.WS, FV.WD, FV.TI, FV.RHO],\n",
    "    var2col={FV.WS: \"ws\", FV.WD: \"wd\", FV.TI: \"ti\"},\n",
    "    fixed_vars={FV.RHO: 1.225, FV.TI: 0.07},\n",
    "    ref_xy=ref_xy,\n",
    ")"
   ]
  },
  {
   "cell_type": "markdown",
   "id": "b424bcd1-b3d0-4895-8aaa-08a2e896f6d2",
   "metadata": {},
   "source": [
    "We investigate the wakes of a simple 3 x 3 regular wind farm:"
   ]
  },
  {
   "cell_type": "code",
   "execution_count": null,
   "id": "66963cdc-8612-48fd-91ef-b813d6229d8d",
   "metadata": {},
   "outputs": [],
   "source": [
    "farm = foxes.WindFarm()\n",
    "foxes.input.farm_layout.add_grid(\n",
    "    farm,\n",
    "    xy_base=np.array([0.0, 0.0]),\n",
    "    step_vectors=np.array([[1000.0, 0], [0, 800.0]]),\n",
    "    steps=(3, 3),\n",
    "    turbine_models=[\"DTU10MW\"],\n",
    "    verbosity=0,\n",
    ")\n",
    "\n",
    "ax = foxes.output.FarmLayoutOutput(farm).get_figure()\n",
    "plt.show()"
   ]
  },
  {
   "cell_type": "markdown",
   "id": "f216e030-27b5-4ee5-adc0-5e68369dd171",
   "metadata": {},
   "source": [
    "As stressed above, the iterative approach is required for this case. Here we select the `DynamicWakes` wake frame with maximal wake length of 8 km, which is called `dyn_wakes_8km` in the model book. Similarly, any other maximal wake length can be specified. Note that the choice of maximal wake length, in combination with the number of chunks, determines the number of iterations during calculations. "
   ]
  },
  {
   "cell_type": "code",
   "execution_count": null,
   "id": "33f43ee3-e813-477a-a80c-be2745c782d6",
   "metadata": {},
   "outputs": [],
   "source": [
    "algo = foxes.algorithms.Iterative(\n",
    "    farm,\n",
    "    states=states,\n",
    "    rotor_model=\"centre\",\n",
    "    wake_models=[\"Bastankhah2014_linear_loc_k004\"],\n",
    "    wake_frame=\"dyn_wakes_8km\",\n",
    "    verbosity=1,\n",
    ")"
   ]
  },
  {
   "cell_type": "markdown",
   "id": "486d897b-5edd-4ef5-9f8f-205ad18452ea",
   "metadata": {},
   "source": [
    "Notice the usage of the `linear_loc` wake superposition, which rescales the linearly added dimensionless wake deficits to the local ambient wind speed at any point of evaluation, in contrast to the rotor equivalent wind speed at the wake causing turbine as for the choice `linear`. Other choices with such rescaling are `quadratic_loc`, `cubic_loc`, `quartic_loc`, and also `product` superposition (note that it is not required to select a local superposition for dynamic wakes).\n",
    "\n",
    "Now let's run the distributed computations via the pool of parallel processes:"
   ]
  },
  {
   "cell_type": "code",
   "execution_count": null,
   "id": "59809567-4380-4054-b583-b2dfee1d08b6",
   "metadata": {},
   "outputs": [],
   "source": [
    "farm_results = algo.calc_farm()"
   ]
  },
  {
   "cell_type": "markdown",
   "id": "07a07d22-378b-4974-91f2-7903285a7c44",
   "metadata": {},
   "source": [
    "Notice that the convergence is \"blocked\" until all wakes have reached the selected maximal wake length. \n",
    "\n",
    "These are the resulting rotor effective wind speed results at the middle row of turbines (indices 1, 4, 7):"
   ]
  },
  {
   "cell_type": "code",
   "execution_count": null,
   "id": "2864d3a6-0ec1-469c-9b41-f902a441ed0a",
   "metadata": {},
   "outputs": [],
   "source": [
    "fig, ax = plt.subplots(figsize=(9, 5))\n",
    "ax.plot(farm_results[FC.STATE], farm_results[FV.REWS][:, 1], label=\"Turbine 1\")\n",
    "ax.plot(farm_results[FC.STATE], farm_results[FV.REWS][:, 4], label=\"Turbine 4\")\n",
    "ax.plot(farm_results[FC.STATE], farm_results[FV.REWS][:, 7], label=\"Turbine 7\")\n",
    "ax.legend()\n",
    "ax.set_xlabel(\"Time\")\n",
    "ax.set_ylabel(\"REWS [m/s]\")\n",
    "plt.show()"
   ]
  },
  {
   "cell_type": "markdown",
   "id": "ccb6ee9e-20dc-47b1-acb1-426cbc60f8c6",
   "metadata": {},
   "source": [
    "Now let's have a look at the wind field dynamics. We do so by creating an output `Animator` to which we add a flow plot generator:"
   ]
  },
  {
   "cell_type": "code",
   "execution_count": null,
   "id": "9f2abdd3-4df7-4a38-8531-6971056e92e1",
   "metadata": {},
   "outputs": [],
   "source": [
    "fig, axs = plt.subplots(2, 1, figsize=(5.2, 7), gridspec_kw={\"height_ratios\": [3, 1]})\n",
    "\n",
    "anim = foxes.output.Animator(fig)\n",
    "\n",
    "# this adds the flow anomation to the upper panel:\n",
    "of = foxes.output.FlowPlots2D(algo, farm_results)\n",
    "anim.add_generator(\n",
    "    of.gen_states_fig_xy(\n",
    "        FV.WS,\n",
    "        resolution=30,\n",
    "        quiver_pars=dict(scale=0.013),\n",
    "        quiver_n=35,\n",
    "        xmax=5000,\n",
    "        ymax=5000,\n",
    "        fig=fig,\n",
    "        ax=axs[0],\n",
    "        vmin=0,\n",
    "        title=lambda si, s: f\"t = {si / 6:3.2f} min\",\n",
    "        rotor_color=\"red\",\n",
    "        ret_im=True,\n",
    "        animated=True,\n",
    "    )\n",
    ")\n",
    "\n",
    "# This adds the REWS signal animation to the lower panel:\n",
    "o = foxes.output.FarmResultsEval(farm_results)\n",
    "anim.add_generator(\n",
    "    o.gen_stdata(\n",
    "        turbines=[1, 4, 7],\n",
    "        variable=FV.REWS,\n",
    "        fig=fig,\n",
    "        ax=axs[1],\n",
    "        ret_im=True,\n",
    "        legloc=\"upper right\",\n",
    "        animated=True,\n",
    "    )\n",
    ")\n",
    "\n",
    "# This adds turbine indices at turbine positions:\n",
    "lo = foxes.output.FarmLayoutOutput(farm)\n",
    "lo.get_figure(\n",
    "    fig=fig,\n",
    "    ax=axs[0],\n",
    "    title=\"\",\n",
    "    annotate=1,\n",
    "    anno_delx=-120,\n",
    "    anno_dely=-60,\n",
    "    alpha=0,\n",
    ")\n",
    "\n",
    "ani = anim.animate()\n",
    "\n",
    "# This adds a cross for the inflow measurement point\n",
    "axs[0].scatter([ref_xy[0]], [ref_xy[1]], marker=\"x\", color=\"red\", s=80, animated=True)\n",
    "\n",
    "plt.close()\n",
    "print(\"done.\")\n",
    "\n",
    "print(\"Creating animation\")\n",
    "ani"
   ]
  },
  {
   "cell_type": "markdown",
   "id": "6eafeb47",
   "metadata": {},
   "source": [
    "The red cross in the animation marks the location at which the inflow data was given. "
   ]
  },
  {
   "cell_type": "markdown",
   "id": "e2f80dc6",
   "metadata": {},
   "source": [
    "## Dynamic wake deflection"
   ]
  },
  {
   "cell_type": "markdown",
   "id": "eb624aeb-1dd4-4262-8b05-259b25634a46",
   "metadata": {},
   "source": [
    "Now for the fun of it, let's induce a time series of yaw misalignment at turbine 1, by invoking the turbine model `SetFarmVars`:"
   ]
  },
  {
   "cell_type": "code",
   "execution_count": null,
   "id": "b8d4da84",
   "metadata": {},
   "outputs": [],
   "source": [
    "n_states = len(sdata.index)\n",
    "mbook = foxes.ModelBook()\n",
    "\n",
    "# Add yaw misalignment to turbine 1, oscillating between -30 and +30 degrees,\n",
    "# 5 times back and forth over the time series:\n",
    "yawm = np.zeros((n_states, farm.n_turbines))\n",
    "yawm[:, 1] = 30 * np.sin(np.arange(n_states) * 10 * np.pi / (n_states - 1))\n",
    "mbook.turbine_models[\"set_yawm\"] = foxes.models.turbine_models.SetFarmVars(\n",
    "    pre_rotor=True\n",
    ")\n",
    "mbook.turbine_models[\"set_yawm\"].add_var(FV.YAWM, yawm)\n",
    "for t in farm.turbines:\n",
    "    t.insert_model(0, \"set_yawm\")\n",
    "\n",
    "algo = foxes.algorithms.Iterative(\n",
    "    farm,\n",
    "    states=states,\n",
    "    mbook=mbook,\n",
    "    rotor_model=\"centre\",\n",
    "    wake_models=[\"Bastankhah2014_vector_k004\"],\n",
    "    wake_frame=\"dyn_wakes_8km\",\n",
    "    wake_deflection=\"Jimenez\",\n",
    "    verbosity=1,\n",
    ")"
   ]
  },
  {
   "cell_type": "code",
   "execution_count": null,
   "id": "db13d1aa",
   "metadata": {},
   "outputs": [],
   "source": [
    "farm_results = algo.calc_farm()"
   ]
  },
  {
   "cell_type": "markdown",
   "id": "c7a400cd",
   "metadata": {},
   "source": [
    "Now let's look at the animation, showing the oscillating rotor for turbine 1:"
   ]
  },
  {
   "cell_type": "code",
   "execution_count": null,
   "id": "9c9fc613",
   "metadata": {},
   "outputs": [],
   "source": [
    "fig, axs = plt.subplots(2, 1, figsize=(5.2, 7), gridspec_kw={\"height_ratios\": [3, 1]})\n",
    "\n",
    "anim = foxes.output.Animator(fig)\n",
    "\n",
    "# this adds the flow anomation to the upper panel:\n",
    "of = foxes.output.FlowPlots2D(algo, farm_results)\n",
    "anim.add_generator(\n",
    "    of.gen_states_fig_xy(\n",
    "        FV.WS,\n",
    "        resolution=30,\n",
    "        quiver_pars=dict(scale=0.013),\n",
    "        quiver_n=35,\n",
    "        xmax=5000,\n",
    "        ymax=5000,\n",
    "        fig=fig,\n",
    "        ax=axs[0],\n",
    "        vmin=0,\n",
    "        title=lambda si, s: f\"t = {si / 6:3.2f} min\",\n",
    "        rotor_color=\"red\",\n",
    "        ret_im=True,\n",
    "        animated=True,\n",
    "    )\n",
    ")\n",
    "\n",
    "# This adds the REWS signal animation to the lower panel:\n",
    "o = foxes.output.FarmResultsEval(farm_results)\n",
    "anim.add_generator(\n",
    "    o.gen_stdata(\n",
    "        turbines=[1, 4, 7],\n",
    "        variable=FV.REWS,\n",
    "        fig=fig,\n",
    "        ax=axs[1],\n",
    "        ret_im=True,\n",
    "        legloc=\"upper right\",\n",
    "        animated=True,\n",
    "    )\n",
    ")\n",
    "\n",
    "# This adds turbine indices at turbine positions:\n",
    "lo = foxes.output.FarmLayoutOutput(farm)\n",
    "lo.get_figure(\n",
    "    fig=fig,\n",
    "    ax=axs[0],\n",
    "    title=\"\",\n",
    "    annotate=1,\n",
    "    anno_delx=-120,\n",
    "    anno_dely=-60,\n",
    "    alpha=0,\n",
    ")\n",
    "\n",
    "ani = anim.animate()\n",
    "\n",
    "# This adds a cross for the inflow measurement point\n",
    "axs[0].scatter([ref_xy[0]], [ref_xy[1]], marker=\"x\", color=\"red\", s=80, animated=True)\n",
    "\n",
    "plt.close()\n",
    "print(\"done.\")\n",
    "\n",
    "print(\"Creating animation\")\n",
    "ani"
   ]
  },
  {
   "cell_type": "markdown",
   "id": "3ef0bd0d",
   "metadata": {},
   "source": [
    "Finally, let's close the engine, since our work is done here:"
   ]
  },
  {
   "cell_type": "code",
   "execution_count": null,
   "id": "547365cc",
   "metadata": {},
   "outputs": [],
   "source": [
    "engine.finalize()"
   ]
  }
 ],
 "metadata": {
  "kernelspec": {
   "display_name": "foxes",
   "language": "python",
   "name": "python3"
  },
  "language_info": {
   "codemirror_mode": {
    "name": "ipython",
    "version": 3
   },
   "file_extension": ".py",
   "mimetype": "text/x-python",
   "name": "python",
   "nbconvert_exporter": "python",
   "pygments_lexer": "ipython3",
   "version": "3.12.3"
  }
 },
 "nbformat": 4,
 "nbformat_minor": 5
}
