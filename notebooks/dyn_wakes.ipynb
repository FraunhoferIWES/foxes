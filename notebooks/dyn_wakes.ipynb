{
 "cells": [
  {
   "cell_type": "markdown",
   "id": "e1e6585b-7599-425f-8534-68e0f467e1fc",
   "metadata": {},
   "source": [
    "# Dynamic Wakes 1\n",
    "\n",
    "## Wake propagation in heterogeneous backgrounds"
   ]
  },
  {
   "cell_type": "code",
   "execution_count": null,
   "id": "d68e2a67",
   "metadata": {},
   "outputs": [],
   "source": [
    "import foxes"
   ]
  },
  {
   "cell_type": "code",
   "execution_count": null,
   "id": "8309f51c-70dc-4af6-9ac6-3cc032ecd417",
   "metadata": {},
   "outputs": [],
   "source": [
    "    mbook = foxes.models.ModelBook()\n",
    "    mbook.wake_frames[\"dyn_wakes8\"] = foxes.models.wake_frames.DynamicWakes(max_length_km=8)"
   ]
  }
 ],
 "metadata": {
  "kernelspec": {
   "display_name": "Python 3 (ipykernel)",
   "language": "python",
   "name": "python3"
  },
  "language_info": {
   "codemirror_mode": {
    "name": "ipython",
    "version": 3
   },
   "file_extension": ".py",
   "mimetype": "text/x-python",
   "name": "python",
   "nbconvert_exporter": "python",
   "pygments_lexer": "ipython3",
   "version": "3.12.3"
  }
 },
 "nbformat": 4,
 "nbformat_minor": 5
}
