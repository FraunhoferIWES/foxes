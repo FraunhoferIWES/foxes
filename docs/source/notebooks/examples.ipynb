{
 "cells": [
  {
   "cell_type": "markdown",
   "metadata": {},
   "source": [
    "# Examples"
   ]
  },
  {
   "cell_type": "markdown",
   "metadata": {},
   "source": [
    "## Single row of turbines"
   ]
  },
  {
   "cell_type": "markdown",
   "metadata": {},
   "source": [
    "Library import for this example:"
   ]
  },
  {
   "cell_type": "code",
   "execution_count": 1,
   "metadata": {},
   "outputs": [],
   "source": [
    "import numpy as np\n",
    "import matplotlib.pyplot as plt\n",
    "\n",
    "import foxes\n",
    "import foxes.variables as FV"
   ]
  },
  {
   "cell_type": "markdown",
   "metadata": {},
   "source": [
    "The `foxes` setup consists of creating: \n",
    "\n",
    "1. the so-called `model book`, which contains all selectable models,\n",
    "2. ambient wind conditions, called `states` in `foxes` terminology,\n",
    "3. the `wind farm`, collecting all turbine information,\n",
    "4. the `algorithm` with its parameters and model choices.\n",
    "\n",
    "Here is a simple example for a single row of turbines along the x axis and a uniform wind speed with wind direction 270°:"
   ]
  },
  {
   "cell_type": "code",
   "execution_count": 2,
   "metadata": {
    "scrolled": true
   },
   "outputs": [],
   "source": [
    "# Create model book and add turbine type model:\n",
    "# The csv file will be searched in the file system,\n",
    "# and if not found, taken from static library\n",
    "mbook = foxes.ModelBook()\n",
    "mbook.turbine_types[\"NREL5\"] = foxes.models.turbine_types.PCtFile(\"NREL-5MW-D126-H90.csv\")\n",
    "\n",
    "# create ambient wind conditions, a single uniform state:\n",
    "states = foxes.input.states.SingleStateStates(ws=9., wd=270., ti=0.06, rho=1.225)\n",
    "\n",
    "# create wind farm, a single row of turbines:\n",
    "farm = foxes.WindFarm()\n",
    "foxes.input.farm_layout.add_row(\n",
    "    farm=farm,\n",
    "    xy_base=[0., 0.], \n",
    "    xy_step=[800., 0.], \n",
    "    n_turbines=5,\n",
    "    turbine_models=[\"NREL5\"],\n",
    "    verbosity=0\n",
    ")\n",
    "\n",
    "# setup the calculation algorithm:\n",
    "algo = foxes.algorithms.Downwind(mbook, farm, states, verbosity=0,\n",
    "                                 wake_models=[\"Bastankhah_linear_k002\"])"
   ]
  },
  {
   "cell_type": "markdown",
   "metadata": {},
   "source": [
    "Now we can ask the `algorithm` object to run the calculation. This returns a `xarray.Dataset` object with results for each state and turbine:"
   ]
  },
  {
   "cell_type": "code",
   "execution_count": 3,
   "metadata": {
    "scrolled": true
   },
   "outputs": [
    {
     "name": "stdout",
     "output_type": "stream",
     "text": [
      "\n",
      "Farm results:\n",
      " <xarray.Dataset>\n",
      "Dimensions:    (state: 1, turbine: 5)\n",
      "Dimensions without coordinates: state, turbine\n",
      "Data variables: (12/24)\n",
      "    weight     (state, turbine) float64 1.0 1.0 1.0 1.0 1.0\n",
      "    X          (state, turbine) float64 0.0 800.0 1.6e+03 2.4e+03 3.2e+03\n",
      "    Y          (state, turbine) float64 0.0 0.0 0.0 0.0 0.0\n",
      "    H          (state, turbine) float64 90.0 90.0 90.0 90.0 90.0\n",
      "    D          (state, turbine) float64 126.0 126.0 126.0 126.0 126.0\n",
      "    P          (state, turbine) float64 2.519e+03 1.2e+03 828.0 667.2 588.9\n",
      "    ...         ...\n",
      "    AMB_REWS3  (state, turbine) float64 9.0 9.0 9.0 9.0 9.0\n",
      "    AMB_TI     (state, turbine) float64 0.06 0.06 0.06 0.06 0.06\n",
      "    AMB_RHO    (state, turbine) float64 1.225 1.225 1.225 1.225 1.225\n",
      "    order      (state, turbine) float64 0.0 1.0 2.0 3.0 4.0\n",
      "    AMB_P      (state, turbine) float64 2.519e+03 2.519e+03 ... 2.519e+03\n",
      "    AMB_CT     (state, turbine) float64 0.79 0.79 0.79 0.79 0.79\n"
     ]
    }
   ],
   "source": [
    "farm_results = algo.calc_farm()\n",
    "print(\"\\nFarm results:\\n\", farm_results)"
   ]
  },
  {
   "cell_type": "markdown",
   "metadata": {},
   "source": [
    "For a convenient summary printout we can easily convert the results into a `pandas.DataFrame`:"
   ]
  },
  {
   "cell_type": "code",
   "execution_count": 4,
   "metadata": {},
   "outputs": [
    {
     "name": "stdout",
     "output_type": "stream",
     "text": [
      "                  WD  AMB_REWS      REWS    TI   AMB_P            P        CT\n",
      "state turbine                                                                \n",
      "0     0        270.0       9.0  9.000000  0.06  2518.6  2518.600000  0.790000\n",
      "      1        270.0       9.0  7.021409  0.06  2518.6  1199.700834  0.809786\n",
      "      2        270.0       9.0  6.201127  0.06  2518.6   828.026917  0.849944\n",
      "      3        270.0       9.0  5.789114  0.06  2518.6   667.227255  0.870544\n",
      "      4        270.0       9.0  5.554529  0.06  2518.6   588.946491  0.882274\n"
     ]
    }
   ],
   "source": [
    "fr = farm_results.to_dataframe()\n",
    "print(fr[[FV.WD, FV.AMB_REWS, FV.REWS, FV.TI, FV.AMB_P, FV.P, FV.CT]])"
   ]
  },
  {
   "cell_type": "markdown",
   "metadata": {},
   "source": [
    "Once the farm calculation results are ready, we can evaluate the wake corrected flow and all points of interest. For example, we can evaluate the wind speed along the centre line:"
   ]
  },
  {
   "cell_type": "code",
   "execution_count": 5,
   "metadata": {},
   "outputs": [
    {
     "name": "stdout",
     "output_type": "stream",
     "text": [
      "\n",
      "Point results:\n",
      " <xarray.Dataset>\n",
      "Dimensions:  (state: 1, point: 8000)\n",
      "Dimensions without coordinates: state, point\n",
      "Data variables:\n",
      "    WS       (state, point) float64 9.0 9.0 9.0 9.0 ... 8.722 8.722 8.722 8.722\n",
      "    WD       (state, point) float64 270.0 270.0 270.0 ... 270.0 270.0 270.0\n",
      "    TI       (state, point) float64 0.06 0.06 0.06 0.06 ... 0.06 0.06 0.06 0.06\n",
      "    RHO      (state, point) float64 1.225 1.225 1.225 ... 1.225 1.225 1.225\n",
      "    AMB_WS   (state, point) float64 9.0 9.0 9.0 9.0 9.0 ... 9.0 9.0 9.0 9.0 9.0\n",
      "    AMB_WD   (state, point) float64 270.0 270.0 270.0 ... 270.0 270.0 270.0\n",
      "    AMB_TI   (state, point) float64 0.06 0.06 0.06 0.06 ... 0.06 0.06 0.06 0.06\n",
      "    AMB_RHO  (state, point) float64 1.225 1.225 1.225 ... 1.225 1.225 1.225\n"
     ]
    },
    {
     "data": {
      "image/png": "[encoded data removed]",
      "text/plain": [
       "<Figure size 720x360 with 1 Axes>"
      ]
     },
     "metadata": {
      "needs_background": "light"
     },
     "output_type": "display_data"
    }
   ],
   "source": [
    "# create points of interest, shape (n_states, n_points, 3):\n",
    "n_points = 8000\n",
    "points   = np.zeros((1, n_points, 3))\n",
    "points[:, :, 0] = np.linspace(-100., 15000., n_points)[None, :]\n",
    "\n",
    "# calculate point results:\n",
    "point_results = algo.calc_points(farm_results, points)\n",
    "print(\"\\nPoint results:\\n\", point_results)\n",
    "\n",
    "# create figure:\n",
    "fig, ax = plt.subplots(figsize=(10, 5))\n",
    "ax.plot(points[0, :, 0], point_results[FV.WS][0, :])\n",
    "ax.set_xlabel(\"x [m]\")\n",
    "ax.set_ylabel(\"Wind speed [m/s]\")\n",
    "plt.show()"
   ]
  },
  {
   "cell_type": "markdown",
   "metadata": {},
   "source": [
    "Using the `foxes.output` package, we can fox example visualize the flow in a horizontal slice at hub height:"
   ]
  },
  {
   "cell_type": "code",
   "execution_count": 6,
   "metadata": {
    "scrolled": true
   },
   "outputs": [
    {
     "data": {
      "image/png": "[encoded data removed]",
      "text/plain": [
       "<Figure size 720x360 with 2 Axes>"
      ]
     },
     "metadata": {
      "needs_background": "light"
     },
     "output_type": "display_data"
    }
   ],
   "source": [
    "o   = foxes.output.FlowPlots2D(algo, farm_results)\n",
    "g   = o.gen_states_fig_horizontal(\"WS\", resolution=10, figsize=(10,5), verbosity=0)\n",
    "fig = next(g) # creates the figure for the next state, here there is only state 0\n",
    "plt.show()"
   ]
  }
 ],
 "metadata": {
  "kernelspec": {
   "display_name": "Python 3",
   "language": "python",
   "name": "python3"
  },
  "language_info": {
   "codemirror_mode": {
    "name": "ipython",
    "version": 3
   },
   "file_extension": ".py",
   "mimetype": "text/x-python",
   "name": "python",
   "nbconvert_exporter": "python",
   "pygments_lexer": "ipython3",
   "version": "3.8.10"
  },
  "vscode": {
   "interpreter": {
    "hash": "31f2aee4e71d21fbe5cf8b01ff0e069b9275f58929596ceb00d14d90e3e16cd6"
   }
  }
 },
 "nbformat": 4,
 "nbformat_minor": 2
}
