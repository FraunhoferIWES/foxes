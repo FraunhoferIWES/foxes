{
 "cells": [
  {
   "attachments": {},
   "cell_type": "markdown",
   "metadata": {},
   "source": [
    "# Testing some things"
   ]
  },
  {
   "cell_type": "code",
   "execution_count": 1,
   "metadata": {},
   "outputs": [],
   "source": [
    "import numpy as np\n",
    "import pandas as pd\n",
    "import matplotlib.pyplot as plt\n",
    "\n",
    "import foxes\n",
    "import foxes.variables as FV\n",
    "import foxes.constants as FC\n",
    "\n",
    "import sys\n",
    "sys.path.append( '/home/sengers/code/python/')\n",
    "from util import *"
   ]
  },
  {
   "attachments": {},
   "cell_type": "markdown",
   "metadata": {},
   "source": [
    "## Generate LUT with optimal yaw misalignment"
   ]
  },
  {
   "cell_type": "code",
   "execution_count": null,
   "metadata": {},
   "outputs": [],
   "source": [
    "## Initialize\n",
    "range_WDs = np.arange(240,301,1) ## define WDs\n",
    "range_yawms =  np.arange(-30,31,1) ## define yawms\n",
    "sdata = pd.DataFrame(index=range(len(range_WDs)*len(range_yawms)))\n",
    "sdata[FV.WS] = 8.0\n",
    "sdata[FV.WD] = np.sort(list(range_WDs)*len(range_yawms))\n",
    "yawm = np.asarray([[k,0.0] for k in range_yawms]*len(range_WDs))\n",
    "\n",
    "## states\n",
    "states = foxes.input.states.StatesTable(\n",
    "    data_source=sdata,\n",
    "    output_vars=[FV.WS, FV.WD, FV.TI, FV.RHO],\n",
    "    fixed_vars={FV.RHO: 1.225, FV.TI: 0.05},\n",
    ")\n",
    "\n",
    "## Build and execute\n",
    "mbook = foxes.ModelBook()\n",
    "mbook.turbine_types[\"NREL5\"] = foxes.models.turbine_types.PCtFile(\n",
    "    \"NREL-5MW-D126-H90.csv\"\n",
    ")\n",
    "mbook.turbine_models[\"set_yawm\"] = foxes.models.turbine_models.SetFarmVars()\n",
    "mbook.turbine_models[\"set_yawm\"].add_var(FV.YAWM, yawm)\n",
    "\n",
    "farm = foxes.WindFarm()\n",
    "farm.add_turbine(\n",
    "    foxes.Turbine(\n",
    "        xy=[0.0, 0.0],\n",
    "        turbine_models=[\"set_yawm\", \"yawm2yaw\", \"NREL5\", \"kTI_05\"],\n",
    "    )\n",
    ")\n",
    "farm.add_turbine(\n",
    "    foxes.Turbine(\n",
    "        xy=[1000.0, 0.0],\n",
    "        turbine_models=[\"set_yawm\", \"yawm2yaw\", \"NREL5\", \"kTI_05\"],\n",
    "    )\n",
    ")\n",
    "\n",
    "\n",
    "algo = foxes.algorithms.Downwind(\n",
    "    mbook,\n",
    "    farm,\n",
    "    states,\n",
    "    rotor_model=\"centre\",\n",
    "    wake_models=[\"PorteAgel_linear\", \"CrespoHernandez_max\"],\n",
    "    wake_frame=\"yawed\",\n",
    "    partial_wakes_model=\"auto\",\n",
    "    chunks=None,\n",
    "    verbosity=0,\n",
    ")\n",
    "farm_results = algo.calc_farm()"
   ]
  },
  {
   "cell_type": "code",
   "execution_count": null,
   "metadata": {},
   "outputs": [],
   "source": [
    "## Results\n",
    "farm_df = farm_results.to_dataframe()\n",
    "df = farm_df[[FV.WD,FV.YAWM]]\n",
    "df = df.query('turbine==0').droplevel(level=1)\n",
    "tmp = farm_df[[FV.P]]\n",
    "tmp =tmp.groupby(level=0).sum() ## sum over two turbines\n",
    "df = pd.concat([df,tmp],axis=1)\n",
    "\n",
    "## Select yaw angle with max power\n",
    "new = pd.DataFrame(index=range(len(range_WDs)),columns=[FV.WD,FV.YAWM,FV.P])\n",
    "new[FV.WD] = range_WDs\n",
    "for i,wd in enumerate(range_WDs):\n",
    "    tmp = df.query('@wd-0.1 < WD < @wd+0.1')\n",
    "    new.iloc[i,:] = tmp.iloc[np.argmax(tmp[FV.P]),:]"
   ]
  },
  {
   "cell_type": "code",
   "execution_count": null,
   "metadata": {},
   "outputs": [],
   "source": [
    "## plot\n",
    "fig,ax = plt.subplots()\n",
    "ax2=ax.twinx()\n",
    "ax.plot(new[FV.WD],new[FV.YAWM],'k-')\n",
    "ax2.plot(new[FV.WD],new[FV.P],'r-')\n",
    "ax.set_xlabel('$\\delta\\ [^{\\circ}]$')\n",
    "ax.set_ylabel('$\\phi\\ [^{\\circ}]$')\n",
    "axes_fontsize(ax,13)\n",
    "axes_fontsize(ax2,13)\n",
    "plt.show()"
   ]
  },
  {
   "cell_type": "code",
   "execution_count": null,
   "metadata": {},
   "outputs": [],
   "source": []
  },
  {
   "cell_type": "code",
   "execution_count": null,
   "metadata": {},
   "outputs": [],
   "source": []
  },
  {
   "cell_type": "code",
   "execution_count": null,
   "metadata": {},
   "outputs": [],
   "source": []
  }
 ],
 "metadata": {
  "kernelspec": {
   "display_name": "foxes",
   "language": "python",
   "name": "foxes"
  },
  "language_info": {
   "codemirror_mode": {
    "name": "ipython",
    "version": 3
   },
   "file_extension": ".py",
   "mimetype": "text/x-python",
   "name": "python",
   "nbconvert_exporter": "python",
   "pygments_lexer": "ipython3",
   "version": "3.8.10"
  },
  "orig_nbformat": 4,
  "vscode": {
   "interpreter": {
    "hash": "4fb778166dae186e4d4cfa777e9f30c32eb0bc447af40b9aef55a0c1baf561be"
   }
  }
 },
 "nbformat": 4,
 "nbformat_minor": 2
}
